{
 "cells": [
  {
   "cell_type": "code",
   "execution_count": 1,
   "id": "f7b2b86b",
   "metadata": {},
   "outputs": [],
   "source": [
    "import pandas as pd\n",
    "from os import listdir\n",
    "import numpy as np\n",
    "\n",
    "import seaborn as sns\n",
    "from matplotlib import pyplot as plt\n",
    "%matplotlib inline"
   ]
  },
  {
   "cell_type": "code",
   "execution_count": 2,
   "id": "70865478",
   "metadata": {},
   "outputs": [],
   "source": [
    "# Create dataframe with all Data (except end)\n",
    "n = 0 # counter to grab only first header\n",
    "m = 6 # number of months to grab from (usually 6)\n",
    "months = [x + \"month\" for x in map(str, range(1, 1 + m))]\n",
    "for dir in listdir(\"Data/\"):\n",
    "    if dir in months:\n",
    "        for file in listdir(\"Data/\" + dir):\n",
    "            try: \n",
    "                dfa = pd.read_excel(\"Data/\" + dir + \"/\" + file, sheet_name = 1)\n",
    "                n += 1\n",
    "                header = dfa.iloc[0]\n",
    "                if n == 1:\n",
    "                    df = pd.DataFrame(columns = header)\n",
    "                dfa = dfa[1:]\n",
    "                dfa.columns = header\n",
    "                df = pd.concat([dfa, df])\n",
    "            except ValueError: # so non-excel files aren't grabbed\n",
    "                pass"
   ]
  },
  {
   "cell_type": "code",
   "execution_count": 3,
   "id": "1033d427",
   "metadata": {},
   "outputs": [
    {
     "data": {
      "text/html": [
       "<div>\n",
       "<style scoped>\n",
       "    .dataframe tbody tr th:only-of-type {\n",
       "        vertical-align: middle;\n",
       "    }\n",
       "\n",
       "    .dataframe tbody tr th {\n",
       "        vertical-align: top;\n",
       "    }\n",
       "\n",
       "    .dataframe thead th {\n",
       "        text-align: right;\n",
       "    }\n",
       "</style>\n",
       "<table border=\"1\" class=\"dataframe\">\n",
       "  <thead>\n",
       "    <tr style=\"text-align: right;\">\n",
       "      <th></th>\n",
       "      <th>Rk</th>\n",
       "      <th>Name</th>\n",
       "      <th>Team</th>\n",
       "      <th>Age</th>\n",
       "      <th>Pos</th>\n",
       "      <th>GP</th>\n",
       "      <th>G</th>\n",
       "      <th>A</th>\n",
       "      <th>P</th>\n",
       "      <th>PIM</th>\n",
       "      <th>...</th>\n",
       "      <th>G/GP</th>\n",
       "      <th>A/GP</th>\n",
       "      <th>P/GP</th>\n",
       "      <th>SHOTS</th>\n",
       "      <th>SH%</th>\n",
       "      <th>HITS</th>\n",
       "      <th>BS</th>\n",
       "      <th>FOW</th>\n",
       "      <th>FOL</th>\n",
       "      <th>FO%</th>\n",
       "    </tr>\n",
       "  </thead>\n",
       "  <tbody>\n",
       "    <tr>\n",
       "      <th>1</th>\n",
       "      <td>1</td>\n",
       "      <td>Connor McDavid</td>\n",
       "      <td>EDM</td>\n",
       "      <td>25</td>\n",
       "      <td>F</td>\n",
       "      <td>79</td>\n",
       "      <td>62</td>\n",
       "      <td>86</td>\n",
       "      <td>148</td>\n",
       "      <td>36</td>\n",
       "      <td>...</td>\n",
       "      <td>0.785</td>\n",
       "      <td>1.089</td>\n",
       "      <td>1.873</td>\n",
       "      <td>334</td>\n",
       "      <td>18.6%</td>\n",
       "      <td>89</td>\n",
       "      <td>39</td>\n",
       "      <td>511</td>\n",
       "      <td>473</td>\n",
       "      <td>51.93%</td>\n",
       "    </tr>\n",
       "    <tr>\n",
       "      <th>2</th>\n",
       "      <td>2</td>\n",
       "      <td>Leon Draisaitl</td>\n",
       "      <td>EDM</td>\n",
       "      <td>27</td>\n",
       "      <td>F</td>\n",
       "      <td>77</td>\n",
       "      <td>51</td>\n",
       "      <td>72</td>\n",
       "      <td>123</td>\n",
       "      <td>24</td>\n",
       "      <td>...</td>\n",
       "      <td>0.662</td>\n",
       "      <td>0.935</td>\n",
       "      <td>1.597</td>\n",
       "      <td>243</td>\n",
       "      <td>21.0%</td>\n",
       "      <td>64</td>\n",
       "      <td>40</td>\n",
       "      <td>781</td>\n",
       "      <td>642</td>\n",
       "      <td>54.88%</td>\n",
       "    </tr>\n",
       "    <tr>\n",
       "      <th>3</th>\n",
       "      <td>3</td>\n",
       "      <td>Nikita Kucherov</td>\n",
       "      <td>TBL</td>\n",
       "      <td>29</td>\n",
       "      <td>F</td>\n",
       "      <td>79</td>\n",
       "      <td>30</td>\n",
       "      <td>78</td>\n",
       "      <td>108</td>\n",
       "      <td>34</td>\n",
       "      <td>...</td>\n",
       "      <td>0.38</td>\n",
       "      <td>0.987</td>\n",
       "      <td>1.367</td>\n",
       "      <td>256</td>\n",
       "      <td>11.7%</td>\n",
       "      <td>58</td>\n",
       "      <td>28</td>\n",
       "      <td>2</td>\n",
       "      <td>0</td>\n",
       "      <td>100.00%</td>\n",
       "    </tr>\n",
       "    <tr>\n",
       "      <th>4</th>\n",
       "      <td>4</td>\n",
       "      <td>Matthew Tkachuk</td>\n",
       "      <td>FLA</td>\n",
       "      <td>25</td>\n",
       "      <td>F</td>\n",
       "      <td>76</td>\n",
       "      <td>39</td>\n",
       "      <td>66</td>\n",
       "      <td>105</td>\n",
       "      <td>109</td>\n",
       "      <td>...</td>\n",
       "      <td>0.513</td>\n",
       "      <td>0.868</td>\n",
       "      <td>1.382</td>\n",
       "      <td>304</td>\n",
       "      <td>12.8%</td>\n",
       "      <td>63</td>\n",
       "      <td>31</td>\n",
       "      <td>13</td>\n",
       "      <td>16</td>\n",
       "      <td>44.83%</td>\n",
       "    </tr>\n",
       "    <tr>\n",
       "      <th>5</th>\n",
       "      <td>5</td>\n",
       "      <td>David Pastrnak</td>\n",
       "      <td>BOS</td>\n",
       "      <td>26</td>\n",
       "      <td>F</td>\n",
       "      <td>78</td>\n",
       "      <td>57</td>\n",
       "      <td>47</td>\n",
       "      <td>104</td>\n",
       "      <td>36</td>\n",
       "      <td>...</td>\n",
       "      <td>0.731</td>\n",
       "      <td>0.603</td>\n",
       "      <td>1.333</td>\n",
       "      <td>379</td>\n",
       "      <td>15.0%</td>\n",
       "      <td>87</td>\n",
       "      <td>33</td>\n",
       "      <td>8</td>\n",
       "      <td>11</td>\n",
       "      <td>42.11%</td>\n",
       "    </tr>\n",
       "    <tr>\n",
       "      <th>...</th>\n",
       "      <td>...</td>\n",
       "      <td>...</td>\n",
       "      <td>...</td>\n",
       "      <td>...</td>\n",
       "      <td>...</td>\n",
       "      <td>...</td>\n",
       "      <td>...</td>\n",
       "      <td>...</td>\n",
       "      <td>...</td>\n",
       "      <td>...</td>\n",
       "      <td>...</td>\n",
       "      <td>...</td>\n",
       "      <td>...</td>\n",
       "      <td>...</td>\n",
       "      <td>...</td>\n",
       "      <td>...</td>\n",
       "      <td>...</td>\n",
       "      <td>...</td>\n",
       "      <td>...</td>\n",
       "      <td>...</td>\n",
       "      <td>...</td>\n",
       "    </tr>\n",
       "    <tr>\n",
       "      <th>985</th>\n",
       "      <td>985</td>\n",
       "      <td>Ville Husso</td>\n",
       "      <td>DET</td>\n",
       "      <td>27</td>\n",
       "      <td>G</td>\n",
       "      <td>46</td>\n",
       "      <td>0</td>\n",
       "      <td>0</td>\n",
       "      <td>0</td>\n",
       "      <td>0</td>\n",
       "      <td>...</td>\n",
       "      <td>0</td>\n",
       "      <td>0</td>\n",
       "      <td>0</td>\n",
       "      <td>NaN</td>\n",
       "      <td>NaN</td>\n",
       "      <td>NaN</td>\n",
       "      <td>NaN</td>\n",
       "      <td>NaN</td>\n",
       "      <td>NaN</td>\n",
       "      <td>NaN</td>\n",
       "    </tr>\n",
       "    <tr>\n",
       "      <th>986</th>\n",
       "      <td>986</td>\n",
       "      <td>Juuse Saros</td>\n",
       "      <td>NSH</td>\n",
       "      <td>27</td>\n",
       "      <td>G</td>\n",
       "      <td>47</td>\n",
       "      <td>0</td>\n",
       "      <td>0</td>\n",
       "      <td>0</td>\n",
       "      <td>0</td>\n",
       "      <td>...</td>\n",
       "      <td>0</td>\n",
       "      <td>0</td>\n",
       "      <td>0</td>\n",
       "      <td>NaN</td>\n",
       "      <td>NaN</td>\n",
       "      <td>NaN</td>\n",
       "      <td>NaN</td>\n",
       "      <td>NaN</td>\n",
       "      <td>NaN</td>\n",
       "      <td>NaN</td>\n",
       "    </tr>\n",
       "    <tr>\n",
       "      <th>987</th>\n",
       "      <td>987</td>\n",
       "      <td>Carter Hart</td>\n",
       "      <td>PHI</td>\n",
       "      <td>24</td>\n",
       "      <td>G</td>\n",
       "      <td>47</td>\n",
       "      <td>0</td>\n",
       "      <td>0</td>\n",
       "      <td>0</td>\n",
       "      <td>0</td>\n",
       "      <td>...</td>\n",
       "      <td>0</td>\n",
       "      <td>0</td>\n",
       "      <td>0</td>\n",
       "      <td>NaN</td>\n",
       "      <td>NaN</td>\n",
       "      <td>NaN</td>\n",
       "      <td>NaN</td>\n",
       "      <td>NaN</td>\n",
       "      <td>NaN</td>\n",
       "      <td>NaN</td>\n",
       "    </tr>\n",
       "    <tr>\n",
       "      <th>988</th>\n",
       "      <td>988</td>\n",
       "      <td>Ilya Sorokin</td>\n",
       "      <td>NYI</td>\n",
       "      <td>27</td>\n",
       "      <td>G</td>\n",
       "      <td>48</td>\n",
       "      <td>0</td>\n",
       "      <td>0</td>\n",
       "      <td>0</td>\n",
       "      <td>0</td>\n",
       "      <td>...</td>\n",
       "      <td>0</td>\n",
       "      <td>0</td>\n",
       "      <td>0</td>\n",
       "      <td>NaN</td>\n",
       "      <td>NaN</td>\n",
       "      <td>NaN</td>\n",
       "      <td>NaN</td>\n",
       "      <td>NaN</td>\n",
       "      <td>NaN</td>\n",
       "      <td>NaN</td>\n",
       "    </tr>\n",
       "    <tr>\n",
       "      <th>989</th>\n",
       "      <td>989</td>\n",
       "      <td>Connor Hellebuyck</td>\n",
       "      <td>WPG</td>\n",
       "      <td>29</td>\n",
       "      <td>G</td>\n",
       "      <td>48</td>\n",
       "      <td>0</td>\n",
       "      <td>0</td>\n",
       "      <td>0</td>\n",
       "      <td>0</td>\n",
       "      <td>...</td>\n",
       "      <td>0</td>\n",
       "      <td>0</td>\n",
       "      <td>0</td>\n",
       "      <td>NaN</td>\n",
       "      <td>NaN</td>\n",
       "      <td>NaN</td>\n",
       "      <td>NaN</td>\n",
       "      <td>NaN</td>\n",
       "      <td>NaN</td>\n",
       "      <td>NaN</td>\n",
       "    </tr>\n",
       "  </tbody>\n",
       "</table>\n",
       "<p>5524 rows × 50 columns</p>\n",
       "</div>"
      ],
      "text/plain": [
       "0     Rk               Name Team Age Pos  GP   G   A    P  PIM  ...   G/GP  \\\n",
       "1      1     Connor McDavid  EDM  25   F  79  62  86  148   36  ...  0.785   \n",
       "2      2     Leon Draisaitl  EDM  27   F  77  51  72  123   24  ...  0.662   \n",
       "3      3    Nikita Kucherov  TBL  29   F  79  30  78  108   34  ...   0.38   \n",
       "4      4    Matthew Tkachuk  FLA  25   F  76  39  66  105  109  ...  0.513   \n",
       "5      5     David Pastrnak  BOS  26   F  78  57  47  104   36  ...  0.731   \n",
       "..   ...                ...  ...  ..  ..  ..  ..  ..  ...  ...  ...    ...   \n",
       "985  985        Ville Husso  DET  27   G  46   0   0    0    0  ...      0   \n",
       "986  986        Juuse Saros  NSH  27   G  47   0   0    0    0  ...      0   \n",
       "987  987        Carter Hart  PHI  24   G  47   0   0    0    0  ...      0   \n",
       "988  988       Ilya Sorokin  NYI  27   G  48   0   0    0    0  ...      0   \n",
       "989  989  Connor Hellebuyck  WPG  29   G  48   0   0    0    0  ...      0   \n",
       "\n",
       "0     A/GP   P/GP SHOTS    SH% HITS   BS  FOW  FOL      FO%  \n",
       "1    1.089  1.873   334  18.6%   89   39  511  473   51.93%  \n",
       "2    0.935  1.597   243  21.0%   64   40  781  642   54.88%  \n",
       "3    0.987  1.367   256  11.7%   58   28    2    0  100.00%  \n",
       "4    0.868  1.382   304  12.8%   63   31   13   16   44.83%  \n",
       "5    0.603  1.333   379  15.0%   87   33    8   11   42.11%  \n",
       "..     ...    ...   ...    ...  ...  ...  ...  ...      ...  \n",
       "985      0      0   NaN    NaN  NaN  NaN  NaN  NaN      NaN  \n",
       "986      0      0   NaN    NaN  NaN  NaN  NaN  NaN      NaN  \n",
       "987      0      0   NaN    NaN  NaN  NaN  NaN  NaN      NaN  \n",
       "988      0      0   NaN    NaN  NaN  NaN  NaN  NaN      NaN  \n",
       "989      0      0   NaN    NaN  NaN  NaN  NaN  NaN      NaN  \n",
       "\n",
       "[5524 rows x 50 columns]"
      ]
     },
     "execution_count": 3,
     "metadata": {},
     "output_type": "execute_result"
    }
   ],
   "source": [
    "df"
   ]
  },
  {
   "cell_type": "code",
   "execution_count": 4,
   "id": "1734e903",
   "metadata": {},
   "outputs": [],
   "source": [
    "# Remove goalie entries\n",
    "df = df[df.Pos != \"G\"]\n",
    "# Remove unnecessary columns\n",
    "df = df.drop(['Rk','Team'], axis=1)\n",
    "\n",
    "# Convert time stats (e.g., 20:12) to seconds.\n",
    "# Define function that does the string conversion:\n",
    "def time2sec(time):\n",
    "    m, s = time.split(':')\n",
    "    return 60 * int(m) + int(s)\n",
    "\n",
    "df['TOI'] = df['TOI'].apply(time2sec) \n",
    "df['ES'] = df['ES'].apply(time2sec) \n",
    "df['PP'] = df['PP'].apply(time2sec) \n",
    "df['SH'] = df['SH'].apply(time2sec) \n",
    "\n",
    "# Convert Position to boolean (0 = D, 1 = F)\n",
    "def Pos2bool(pos):\n",
    "    if pos == \"D\":\n",
    "        return 0\n",
    "    if pos == \"F\":\n",
    "        return 1\n",
    "        \n",
    "df['Pos'] = df['Pos'].apply(Pos2bool)\n",
    "\n",
    "# Remove '%' symbol from columns\n",
    "def perc_rem(string):\n",
    "    return string.replace('%','')\n",
    "\n",
    "df['PPP%'] = df['PPP%'].apply(perc_rem)\n",
    "df['FO%'] = df['FO%'].apply(perc_rem)\n",
    "df['SH%'] = df['SH%'].apply(perc_rem)"
   ]
  },
  {
   "cell_type": "code",
   "execution_count": 5,
   "id": "8ac30919",
   "metadata": {},
   "outputs": [],
   "source": [
    "# Create dataframe with season-end Data\n",
    "m = 0 # counter to grab only first header\n",
    "for file in listdir(\"Data/end/\"):\n",
    "    try: \n",
    "        dfa = pd.read_excel(\"Data/end/\" + file, sheet_name = 1)\n",
    "        m += 1\n",
    "        header = dfa.iloc[0]\n",
    "        if m == 1:\n",
    "            dfend = pd.DataFrame(columns = header)\n",
    "        dfa = dfa[1:]\n",
    "        dfa.columns = header\n",
    "        dfend = pd.concat([dfa, dfend])\n",
    "    except ValueError: # so non-excel files aren't grabbed\n",
    "        pass"
   ]
  },
  {
   "cell_type": "code",
   "execution_count": 6,
   "id": "396d8150",
   "metadata": {},
   "outputs": [],
   "source": [
    "# Keep only name (and age for matching) and points total\n",
    "dfend = dfend[['Name', 'Age', 'P']]\n",
    "dfend = dfend.rename(columns={'P': 'Pend'})"
   ]
  },
  {
   "cell_type": "code",
   "execution_count": 7,
   "id": "bf3447de",
   "metadata": {
    "scrolled": true
   },
   "outputs": [
    {
     "data": {
      "text/html": [
       "<div>\n",
       "<style scoped>\n",
       "    .dataframe tbody tr th:only-of-type {\n",
       "        vertical-align: middle;\n",
       "    }\n",
       "\n",
       "    .dataframe tbody tr th {\n",
       "        vertical-align: top;\n",
       "    }\n",
       "\n",
       "    .dataframe thead th {\n",
       "        text-align: right;\n",
       "    }\n",
       "</style>\n",
       "<table border=\"1\" class=\"dataframe\">\n",
       "  <thead>\n",
       "    <tr style=\"text-align: right;\">\n",
       "      <th></th>\n",
       "      <th>Name</th>\n",
       "      <th>Age</th>\n",
       "      <th>Pend</th>\n",
       "    </tr>\n",
       "  </thead>\n",
       "  <tbody>\n",
       "    <tr>\n",
       "      <th>1</th>\n",
       "      <td>Kyle Palmieri</td>\n",
       "      <td>31</td>\n",
       "      <td>33</td>\n",
       "    </tr>\n",
       "    <tr>\n",
       "      <th>2</th>\n",
       "      <td>Kevin Labanc</td>\n",
       "      <td>27</td>\n",
       "      <td>33</td>\n",
       "    </tr>\n",
       "    <tr>\n",
       "      <th>3</th>\n",
       "      <td>Anton Lundell</td>\n",
       "      <td>21</td>\n",
       "      <td>33</td>\n",
       "    </tr>\n",
       "    <tr>\n",
       "      <th>4</th>\n",
       "      <td>Sonny Milano</td>\n",
       "      <td>26</td>\n",
       "      <td>33</td>\n",
       "    </tr>\n",
       "    <tr>\n",
       "      <th>5</th>\n",
       "      <td>John Klingberg</td>\n",
       "      <td>30</td>\n",
       "      <td>33</td>\n",
       "    </tr>\n",
       "    <tr>\n",
       "      <th>...</th>\n",
       "      <td>...</td>\n",
       "      <td>...</td>\n",
       "      <td>...</td>\n",
       "    </tr>\n",
       "    <tr>\n",
       "      <th>46</th>\n",
       "      <td>Viktor Arvidsson</td>\n",
       "      <td>29</td>\n",
       "      <td>59</td>\n",
       "    </tr>\n",
       "    <tr>\n",
       "      <th>47</th>\n",
       "      <td>Roman Josi</td>\n",
       "      <td>32</td>\n",
       "      <td>59</td>\n",
       "    </tr>\n",
       "    <tr>\n",
       "      <th>48</th>\n",
       "      <td>Casey Mittelstadt</td>\n",
       "      <td>24</td>\n",
       "      <td>59</td>\n",
       "    </tr>\n",
       "    <tr>\n",
       "      <th>49</th>\n",
       "      <td>Patrice Bergeron</td>\n",
       "      <td>37</td>\n",
       "      <td>58</td>\n",
       "    </tr>\n",
       "    <tr>\n",
       "      <th>50</th>\n",
       "      <td>Nick Schmaltz</td>\n",
       "      <td>26</td>\n",
       "      <td>58</td>\n",
       "    </tr>\n",
       "  </tbody>\n",
       "</table>\n",
       "<p>600 rows × 3 columns</p>\n",
       "</div>"
      ],
      "text/plain": [
       "0                Name Age Pend\n",
       "1       Kyle Palmieri  31   33\n",
       "2        Kevin Labanc  27   33\n",
       "3       Anton Lundell  21   33\n",
       "4        Sonny Milano  26   33\n",
       "5      John Klingberg  30   33\n",
       "..                ...  ..  ...\n",
       "46   Viktor Arvidsson  29   59\n",
       "47         Roman Josi  32   59\n",
       "48  Casey Mittelstadt  24   59\n",
       "49   Patrice Bergeron  37   58\n",
       "50      Nick Schmaltz  26   58\n",
       "\n",
       "[600 rows x 3 columns]"
      ]
     },
     "execution_count": 7,
     "metadata": {},
     "output_type": "execute_result"
    }
   ],
   "source": [
    "dfend"
   ]
  },
  {
   "cell_type": "code",
   "execution_count": 8,
   "id": "857889b5",
   "metadata": {
    "scrolled": true
   },
   "outputs": [],
   "source": [
    "#Join all data and season end data\n",
    "df = pd.merge(df, dfend, on=['Name', 'Age'], how='left')\n",
    "#Remove rows where Pend is less than 10\n",
    "df = df[df.Pend > 9]\n",
    "# Convert all data to numerical values\n",
    "for col in list(df.columns):\n",
    "    try:\n",
    "        df[col] = pd.to_numeric(df[col])\n",
    "    except ValueError:\n",
    "        pass"
   ]
  },
  {
   "cell_type": "code",
   "execution_count": 9,
   "id": "e8d7139f",
   "metadata": {},
   "outputs": [],
   "source": [
    "df[\"Name_GP\"] = df.Name + \"_\" + df.GP.astype(str)\n",
    "df = df.set_index('Name_GP')\n",
    "\n",
    "del df[\"Name\"]"
   ]
  },
  {
   "cell_type": "markdown",
   "id": "b48a5740",
   "metadata": {},
   "source": [
    "# Exploratory Data Analysis"
   ]
  },
  {
   "cell_type": "code",
   "execution_count": 10,
   "id": "92bed55c",
   "metadata": {},
   "outputs": [
    {
     "data": {
      "image/png": "[encoded data removed]",
      "text/plain": [
       "<Figure size 600x400 with 1 Axes>"
      ]
     },
     "metadata": {},
     "output_type": "display_data"
    }
   ],
   "source": [
    "plt.figure(figsize=(6, 4))\n",
    "\n",
    "sns.histplot(df.Pend, bins=40, color='blue', alpha=0.8)\n",
    "plt.ylabel('Frequency')\n",
    "plt.xlabel('Points at End of Season')\n",
    "plt.title('Points Amongst NHL Players in 2022-2023 Season')\n",
    "\n",
    "plt.show()"
   ]
  },
  {
   "cell_type": "code",
   "execution_count": 11,
   "id": "51787d7a",
   "metadata": {},
   "outputs": [
    {
     "data": {
      "image/png": "[encoded data removed]",
      "text/plain": [
       "<Figure size 640x480 with 1 Axes>"
      ]
     },
     "metadata": {},
     "output_type": "display_data"
    }
   ],
   "source": [
    "plt.scatter(df.P, df.Pend)\n",
    "\n",
    "plt.ylabel('Points at End of Season')\n",
    "plt.xlabel('Points 1 Month into Season')\n",
    "plt.show()"
   ]
  },
  {
   "cell_type": "markdown",
   "id": "e5901039",
   "metadata": {},
   "source": [
    "# Split Data"
   ]
  },
  {
   "cell_type": "code",
   "execution_count": 12,
   "id": "ef599c53",
   "metadata": {},
   "outputs": [],
   "source": [
    "n = len(df)\n",
    "\n",
    "n_val = int(n * 0.2)\n",
    "n_test = int(n * 0.2)\n",
    "n_train = n - (n_val + n_test)"
   ]
  },
  {
   "cell_type": "code",
   "execution_count": 13,
   "id": "fb82f054",
   "metadata": {},
   "outputs": [],
   "source": [
    "idx = np.arange(n)\n",
    "np.random.shuffle(idx)\n",
    "\n",
    "df_shuffled = df.iloc[idx]\n",
    "\n",
    "df_train = df_shuffled.iloc[:n_train].copy()\n",
    "df_val = df_shuffled.iloc[n_train:n_train+n_val].copy()\n",
    "df_test = df_shuffled.iloc[n_train+n_val:].copy()"
   ]
  },
  {
   "cell_type": "code",
   "execution_count": 14,
   "id": "b56f49ad",
   "metadata": {},
   "outputs": [],
   "source": [
    "y_train = df_train.Pend\n",
    "y_val = df_val.Pend\n",
    "y_test = df_test.Pend\n",
    "\n",
    "del df_train['Pend']\n",
    "del df_val['Pend']\n",
    "del df_test['Pend']"
   ]
  },
  {
   "cell_type": "code",
   "execution_count": 15,
   "id": "fe798251",
   "metadata": {},
   "outputs": [],
   "source": [
    "base = list(df_train.columns)"
   ]
  },
  {
   "cell_type": "code",
   "execution_count": 16,
   "id": "8183b9c0",
   "metadata": {},
   "outputs": [],
   "source": [
    "def prepare_X(df):\n",
    "    df_num = df[base]\n",
    "    df_num = df_num.fillna(0)\n",
    "    X = df_num.values\n",
    "    return X"
   ]
  },
  {
   "cell_type": "code",
   "execution_count": 55,
   "id": "cece339f",
   "metadata": {},
   "outputs": [],
   "source": [
    "X_train = prepare_X(df_train)\n",
    "X_val = prepare_X(df_val)\n",
    "X_test = prepare_X(df_test)\n"
   ]
  },
  {
   "cell_type": "markdown",
   "id": "aadda533",
   "metadata": {},
   "source": [
    "# Linear Regression"
   ]
  },
  {
   "cell_type": "code",
   "execution_count": 18,
   "id": "6061f323",
   "metadata": {},
   "outputs": [],
   "source": [
    "def train_linear_regression(X, y):\n",
    "    ones = np.ones(X.shape[0])\n",
    "    X = np.column_stack([ones, X])\n",
    "\n",
    "    XTX = X.T.dot(X)\n",
    "    XTX_inv = np.linalg.inv(XTX)\n",
    "    w = XTX_inv.dot(X.T).dot(y)\n",
    "    \n",
    "    return w[0], w[1:]"
   ]
  },
  {
   "cell_type": "markdown",
   "id": "c5931f0e",
   "metadata": {},
   "source": [
    "# Try Regressing"
   ]
  },
  {
   "cell_type": "code",
   "execution_count": 19,
   "id": "489157d0",
   "metadata": {},
   "outputs": [],
   "source": [
    "w_0, w = train_linear_regression(X_train, y_train)\n",
    "y_train_pred = w_0 + X_train.dot(w)\n",
    "\n",
    "\n",
    "X_val = prepare_X(df_val)\n",
    "y_val_pred = w_0 + X_val.dot(w)"
   ]
  },
  {
   "cell_type": "markdown",
   "id": "2fa90369",
   "metadata": {},
   "source": [
    "## Evaluate Accuracy"
   ]
  },
  {
   "cell_type": "code",
   "execution_count": 20,
   "id": "46924b0a",
   "metadata": {},
   "outputs": [
    {
     "data": {
      "image/png": "[encoded data removed]",
      "text/plain": [
       "<Figure size 600x400 with 1 Axes>"
      ]
     },
     "metadata": {},
     "output_type": "display_data"
    }
   ],
   "source": [
    "plt.figure(figsize=(6, 4))\n",
    "\n",
    "sns.histplot(y_train, label='target', color='#222222', alpha=0.6, bins=40)\n",
    "sns.histplot(y_train_pred, label='prediction', color='#aaaaaa', alpha=0.8, bins=40)\n",
    "\n",
    "plt.legend()\n",
    "\n",
    "plt.ylabel('Frequency')\n",
    "plt.xlabel('Points at End of Season')\n",
    "plt.title('Predictions vs Actual Distribution')\n",
    "\n",
    "plt.show()"
   ]
  },
  {
   "cell_type": "code",
   "execution_count": 21,
   "id": "c9ad1373",
   "metadata": {},
   "outputs": [],
   "source": [
    "def rmse(y, y_pred):\n",
    "    error = y_pred - y\n",
    "    mse = (error ** 2).mean()\n",
    "    return np.sqrt(mse)\n",
    "\n",
    "def mae(y, y_pred):\n",
    "    error = abs(y_pred - y)\n",
    "    return error.mean()"
   ]
  },
  {
   "cell_type": "code",
   "execution_count": 22,
   "id": "f876ba8f",
   "metadata": {},
   "outputs": [
    {
     "name": "stdout",
     "output_type": "stream",
     "text": [
      "train: \n",
      " rmse = 1482.6821906644598 \n",
      " mae =  1201.0838095967426\n",
      "validation: \n",
      " rmse = 1460.6812887052197 \n",
      " mae =  1186.8398493089057\n"
     ]
    }
   ],
   "source": [
    "print('train:', '\\n rmse =', rmse(y_train, y_train_pred), '\\n mae = ', mae(y_train, y_train_pred))\n",
    "print('validation:', '\\n rmse =', rmse(y_val, y_val_pred), '\\n mae = ', mae(y_val, y_val_pred))"
   ]
  },
  {
   "cell_type": "markdown",
   "id": "ca13215e",
   "metadata": {},
   "source": [
    "#### The columns are linearly dependent, giving rise to these huge errors. Let's regularize!"
   ]
  },
  {
   "cell_type": "markdown",
   "id": "45f9e49f",
   "metadata": {},
   "source": [
    "# Regularization"
   ]
  },
  {
   "cell_type": "code",
   "execution_count": 56,
   "id": "1a563ea0",
   "metadata": {},
   "outputs": [],
   "source": [
    "def train_linear_regression_reg(X, y, r=0.0):\n",
    "    ones = np.ones(X.shape[0])\n",
    "    X = np.column_stack([ones, X])\n",
    "\n",
    "    XTX = X.T.dot(X)\n",
    "    reg = r * np.eye(XTX.shape[0])\n",
    "    XTX = XTX + reg\n",
    "\n",
    "    XTX_inv = np.linalg.inv(XTX)\n",
    "    w = XTX_inv.dot(X.T).dot(y)\n",
    "    \n",
    "    return w[0], w[1:]"
   ]
  },
  {
   "cell_type": "code",
   "execution_count": 57,
   "id": "07f3d0dc",
   "metadata": {},
   "outputs": [],
   "source": [
    "X_train = prepare_X(df_train)\n",
    "w_0, w = train_linear_regression_reg(X_train, y_train, r=0.01)\n",
    "y_train_lr = w_0 + X_train.dot(w)\n",
    "\n",
    "X_val = prepare_X(df_val)\n",
    "y_val_lr = w_0 + X_val.dot(w)\n",
    "\n",
    "X_test = prepare_X(df_test)\n",
    "y_test_lr = w_0 + X_test.dot(w)"
   ]
  },
  {
   "cell_type": "code",
   "execution_count": 59,
   "id": "120fb3c1",
   "metadata": {},
   "outputs": [
    {
     "name": "stdout",
     "output_type": "stream",
     "text": [
      "train: \n",
      " rmse = 8.425882679616779 \n",
      " mae =  6.19989301275375\n",
      "validation: \n",
      " rmse = 8.431469192601265 \n",
      " mae =  6.159157488770674\n"
     ]
    }
   ],
   "source": [
    "print('train:', '\\n rmse =', rmse(y_train, y_train_lr), '\\n mae = ', mae(y_train, y_train_lr))\n",
    "print('validation:', '\\n rmse =', rmse(y_val, y_val_lr), '\\n mae = ', mae(y_val, y_val_lr))"
   ]
  },
  {
   "cell_type": "code",
   "execution_count": 60,
   "id": "98ae0dd7",
   "metadata": {},
   "outputs": [
    {
     "data": {
      "image/png": "[encoded data removed]",
      "text/plain": [
       "<Figure size 600x400 with 1 Axes>"
      ]
     },
     "metadata": {},
     "output_type": "display_data"
    }
   ],
   "source": [
    "plt.figure(figsize=(6, 4))\n",
    "\n",
    "sns.histplot(y_train, label='target', color='#222222', alpha=0.6, bins=40)\n",
    "sns.histplot(y_train_lr, label='prediction', color='#aaaaaa', alpha=0.8, bins=40)\n",
    "\n",
    "plt.legend()\n",
    "\n",
    "plt.ylabel('Frequency')\n",
    "plt.xlabel('Points at End of Season')\n",
    "plt.title('Predictions vs Actual Distribution')\n",
    "\n",
    "plt.show()"
   ]
  },
  {
   "cell_type": "markdown",
   "id": "0d0ca645",
   "metadata": {},
   "source": [
    "#### Much better!"
   ]
  },
  {
   "cell_type": "markdown",
   "id": "1ca59566",
   "metadata": {},
   "source": [
    "## Decision Tree Regression"
   ]
  },
  {
   "cell_type": "code",
   "execution_count": 28,
   "id": "f6825717",
   "metadata": {},
   "outputs": [],
   "source": [
    "from sklearn.tree import DecisionTreeRegressor\n",
    "from sklearn.feature_extraction import DictVectorizer"
   ]
  },
  {
   "cell_type": "code",
   "execution_count": 65,
   "id": "f2e24ca5",
   "metadata": {},
   "outputs": [],
   "source": [
    "# Train and Find Optimal Parameters\n",
    "score = 1000000\n",
    "for d in range(1,10):\n",
    "    for l in range(1,10):\n",
    "        train_dicts = df_train.fillna(0).to_dict(orient='records')\n",
    "\n",
    "        dv = DictVectorizer(sparse=False)\n",
    "        X_train = dv.fit_transform(train_dicts)\n",
    "\n",
    "        dt = DecisionTreeRegressor(max_depth=d, min_samples_leaf = l)\n",
    "        dt.fit(X_train, y_train)\n",
    "\n",
    "        val_dicts = df_val.fillna(0).to_dict(orient='records')\n",
    "        X_val = dv.transform(val_dicts)\n",
    "\n",
    "        y_train_pred = dt.predict(X_train)\n",
    "        y_val_pred = dt.predict(X_val)\n",
    "        \n",
    "        if rmse(y_val, y_val_pred) < score:\n",
    "            score = rmse(y_val, y_val_pred)\n",
    "            dbest, lbest = d, l\n",
    "\n",
    "        #print('%4s %4s -> %.3f' % (d, l, rmse(y_val, y_val_pred)))\n",
    "        #print('train:', '\\n rmse =', rmse(y_train, y_train_pred), '\\n mae = ', mae(y_train, y_train_pred))\n",
    "        #print('validation:', '\\n rmse =', rmse(y_val, y_val_pred), '\\n mae = ', mae(y_val, y_val_pred))"
   ]
  },
  {
   "cell_type": "code",
   "execution_count": 66,
   "id": "cba56288",
   "metadata": {},
   "outputs": [],
   "source": [
    "# Finalize model with best parameters      \n",
    "dt = DecisionTreeRegressor(max_depth=dbest, min_samples_leaf = lbest)\n",
    "dt.fit(X_train, y_train)\n",
    "\n",
    "val_dicts = df_val.fillna(0).to_dict(orient='records')\n",
    "X_val = dv.transform(val_dicts)\n",
    "\n",
    "test_dicts = df_test.fillna(0).to_dict(orient='records')\n",
    "X_test = dv.transform(test_dicts)\n",
    "\n",
    "y_train_dt = dt.predict(X_train)\n",
    "y_val_dt = dt.predict(X_val)\n",
    "y_test_dt = dt.predict(X_test)"
   ]
  },
  {
   "cell_type": "code",
   "execution_count": 67,
   "id": "e2ed50c8",
   "metadata": {},
   "outputs": [
    {
     "name": "stdout",
     "output_type": "stream",
     "text": [
      "train: \n",
      " rmse = 5.9659613958698685 \n",
      " mae =  4.141792168285188\n",
      "validation: \n",
      " rmse = 9.079481245958016 \n",
      " mae =  6.215551975776377\n"
     ]
    }
   ],
   "source": [
    "print('train:', '\\n rmse =', rmse(y_train, y_train_dt), '\\n mae = ', mae(y_train, y_train_dt))\n",
    "print('validation:', '\\n rmse =', rmse(y_val, y_val_dt), '\\n mae = ', mae(y_val, y_val_dt))"
   ]
  },
  {
   "cell_type": "markdown",
   "id": "3d0340e9",
   "metadata": {},
   "source": [
    "# Random Forest"
   ]
  },
  {
   "cell_type": "code",
   "execution_count": 111,
   "id": "3ccad364",
   "metadata": {},
   "outputs": [],
   "source": [
    "from sklearn.ensemble import RandomForestRegressor"
   ]
  },
  {
   "cell_type": "code",
   "execution_count": 118,
   "id": "a94c000d",
   "metadata": {},
   "outputs": [],
   "source": [
    "# Reset X matrices\n",
    "X_train = prepare_X(df_train)\n",
    "X_val = prepare_X(df_val)\n",
    "X_test = prepare_X(df_test)"
   ]
  },
  {
   "cell_type": "code",
   "execution_count": 145,
   "id": "bb8224ad",
   "metadata": {},
   "outputs": [
    {
     "name": "stdout",
     "output_type": "stream",
     "text": [
      "10\n",
      "30\n",
      "50\n",
      "90\n",
      "110\n",
      "170\n"
     ]
    }
   ],
   "source": [
    "scores = []\n",
    "scorebest = 10**6\n",
    "for e in range(10,500,20):\n",
    "    rf = RandomForestRegressor(n_estimators=e, n_jobs=-1)\n",
    "    rf.fit(X_train, y_train)\n",
    "    y_train_rf = rf.predict(X_train)\n",
    "    y_val_rf = rf.predict(X_val)\n",
    "    score_e = rmse(y_val, y_val_rf)\n",
    "    scores.append([e,score_e])\n",
    "    if score_e < scorebest:\n",
    "        scorebest = score_e\n",
    "        ebest = e\n",
    "        print(e)"
   ]
  },
  {
   "cell_type": "code",
   "execution_count": 146,
   "id": "5e2c584e",
   "metadata": {},
   "outputs": [],
   "source": [
    "dfscores = pd.DataFrame(scores, columns=['n_estimators', 'rmse'])"
   ]
  },
  {
   "cell_type": "code",
   "execution_count": 147,
   "id": "ba616e3c",
   "metadata": {},
   "outputs": [
    {
     "data": {
      "text/plain": [
       "[<matplotlib.lines.Line2D at 0x7fea516232e0>]"
      ]
     },
     "execution_count": 147,
     "metadata": {},
     "output_type": "execute_result"
    },
    {
     "data": {
      "image/png": "[encoded data removed]",
      "text/plain": [
       "<Figure size 640x480 with 1 Axes>"
      ]
     },
     "metadata": {},
     "output_type": "display_data"
    }
   ],
   "source": [
    "plt.plot(dfscores.n_estimators, dfscores.rmse)"
   ]
  },
  {
   "cell_type": "code",
   "execution_count": 148,
   "id": "24eb8606",
   "metadata": {},
   "outputs": [
    {
     "data": {
      "text/plain": [
       "170"
      ]
     },
     "execution_count": 148,
     "metadata": {},
     "output_type": "execute_result"
    }
   ],
   "source": [
    "ebest"
   ]
  },
  {
   "cell_type": "code",
   "execution_count": 158,
   "id": "a4c442f7",
   "metadata": {},
   "outputs": [
    {
     "name": "stdout",
     "output_type": "stream",
     "text": [
      "15\n",
      "20\n",
      "25\n"
     ]
    }
   ],
   "source": [
    "scores = []\n",
    "\n",
    "for d in [15, 20, 25]:\n",
    "    print(d)\n",
    "    for n in range(10,500,50):\n",
    "        rf = RandomForestRegressor(n_estimators=n,\n",
    "                                    max_depth=d,\n",
    "                                    random_state=1, n_jobs=-1)\n",
    "        rf.fit(X_train, y_train)\n",
    "\n",
    "        y_pred = rf.predict(X_val)\n",
    "        score = rmse(y_val, y_pred)\n",
    "\n",
    "        scores.append((d, n, score))"
   ]
  },
  {
   "cell_type": "code",
   "execution_count": 159,
   "id": "0ffc4b63",
   "metadata": {},
   "outputs": [],
   "source": [
    "columns = ['max_depth', 'n_estimators', 'score']\n",
    "df_scores = pd.DataFrame(scores, columns=columns)"
   ]
  },
  {
   "cell_type": "code",
   "execution_count": 161,
   "id": "705ec19e",
   "metadata": {},
   "outputs": [
    {
     "data": {
      "text/plain": [
       "(7.1, 7.3)"
      ]
     },
     "execution_count": 161,
     "metadata": {},
     "output_type": "execute_result"
    },
    {
     "data": {
      "image/png": "[encoded data removed]",
      "text/plain": [
       "<Figure size 640x480 with 1 Axes>"
      ]
     },
     "metadata": {},
     "output_type": "display_data"
    }
   ],
   "source": [
    "for d in [15,20,25]:\n",
    "    df_subset = df_scores[df_scores.max_depth == d]\n",
    "    \n",
    "    plt.plot(df_subset.n_estimators, df_subset.score,\n",
    "             label='max_depth=%d' % d)\n",
    "\n",
    "plt.legend()\n",
    "plt.ylim(7.1, 7.3)"
   ]
  },
  {
   "cell_type": "code",
   "execution_count": 162,
   "id": "b786b129",
   "metadata": {},
   "outputs": [],
   "source": [
    "max_depth = 25"
   ]
  },
  {
   "cell_type": "code",
   "execution_count": 164,
   "id": "c947e05b",
   "metadata": {},
   "outputs": [
    {
     "name": "stdout",
     "output_type": "stream",
     "text": [
      "1\n",
      "10\n",
      "60\n",
      "110\n",
      "160\n",
      "210\n",
      "260\n",
      "310\n",
      "360\n",
      "410\n",
      "460\n",
      "510\n",
      "560\n",
      "3\n",
      "10\n",
      "60\n",
      "110\n",
      "160\n",
      "210\n",
      "260\n",
      "310\n",
      "360\n",
      "410\n",
      "460\n",
      "510\n",
      "560\n",
      "5\n",
      "10\n",
      "60\n",
      "110\n",
      "160\n",
      "210\n",
      "260\n",
      "310\n",
      "360\n",
      "410\n",
      "460\n",
      "510\n",
      "560\n"
     ]
    }
   ],
   "source": [
    "scores = []\n",
    "\n",
    "for s in [1, 3, 5]:\n",
    "    print(s)\n",
    "    for n in range(10, 600, 50):\n",
    "        print(n)\n",
    "        rf = RandomForestRegressor(n_estimators=n,\n",
    "                                    max_depth=max_depth,\n",
    "                                    min_samples_leaf=s,\n",
    "                                    random_state=1, n_jobs=-1)\n",
    "        rf.fit(X_train, y_train)\n",
    "\n",
    "        y_pred = rf.predict(X_val)\n",
    "        score = rmse(y_val, y_pred)\n",
    "\n",
    "        scores.append((s, n, score))"
   ]
  },
  {
   "cell_type": "code",
   "execution_count": 165,
   "id": "49397750",
   "metadata": {},
   "outputs": [],
   "source": [
    "columns = ['min_samples_leaf', 'n_estimators', 'score']\n",
    "df_scores = pd.DataFrame(scores, columns=columns)"
   ]
  },
  {
   "cell_type": "code",
   "execution_count": 166,
   "id": "c7b831bc",
   "metadata": {},
   "outputs": [
    {
     "data": {
      "text/plain": [
       "<matplotlib.legend.Legend at 0x7fea455cf9a0>"
      ]
     },
     "execution_count": 166,
     "metadata": {},
     "output_type": "execute_result"
    },
    {
     "data": {
      "image/png": "[encoded data removed]",
      "text/plain": [
       "<Figure size 640x480 with 1 Axes>"
      ]
     },
     "metadata": {},
     "output_type": "display_data"
    }
   ],
   "source": [
    "values = [1, 3, 5]\n",
    "\n",
    "for s in values:\n",
    "    df_subset = df_scores[df_scores.min_samples_leaf == s]\n",
    "    \n",
    "    plt.plot(df_subset.n_estimators, df_subset.score,\n",
    "             label='min_samples_leaf=%d' % s)\n",
    "\n",
    "plt.legend()"
   ]
  },
  {
   "cell_type": "code",
   "execution_count": 167,
   "id": "8d36dfc6",
   "metadata": {},
   "outputs": [],
   "source": [
    "min_samples_leaf = 1"
   ]
  },
  {
   "cell_type": "code",
   "execution_count": 168,
   "id": "09659893",
   "metadata": {},
   "outputs": [
    {
     "data": {
      "text/plain": [
       "RandomForestRegressor(max_depth=25, n_estimators=400, random_state=1)"
      ]
     },
     "execution_count": 168,
     "metadata": {},
     "output_type": "execute_result"
    }
   ],
   "source": [
    "rf = RandomForestRegressor(n_estimators=400,\n",
    "                            max_depth=max_depth,\n",
    "                            min_samples_leaf=min_samples_leaf,\n",
    "                            random_state=1)\n",
    "rf.fit(X_train, y_train)"
   ]
  },
  {
   "cell_type": "code",
   "execution_count": 169,
   "id": "538253e7",
   "metadata": {},
   "outputs": [
    {
     "name": "stdout",
     "output_type": "stream",
     "text": [
      "validation: \n",
      " rmse = 7.160622117882787 \n",
      " mae =  4.874097827410758\n"
     ]
    }
   ],
   "source": [
    "y_val_rf = rf.predict(X_val)\n",
    "print('validation:', '\\n rmse =', rmse(y_val, y_val_rf), '\\n mae = ', mae(y_val, y_val_rf))"
   ]
  },
  {
   "cell_type": "code",
   "execution_count": 170,
   "id": "bc36d51d",
   "metadata": {},
   "outputs": [
    {
     "name": "stdout",
     "output_type": "stream",
     "text": [
      "test: \n",
      " rmse = 7.11223260121507 \n",
      " mae =  4.945650142681139\n"
     ]
    }
   ],
   "source": [
    "y_test_rf = rf.predict(X_test)\n",
    "print('test:', '\\n rmse =', rmse(y_test, y_test_rf), '\\n mae = ', mae(y_test, y_test_rf))"
   ]
  },
  {
   "cell_type": "markdown",
   "id": "480e66d2",
   "metadata": {},
   "source": [
    "# Testing on Data just 1 month in again"
   ]
  },
  {
   "cell_type": "markdown",
   "id": "4eadfda4",
   "metadata": {},
   "source": [
    "This model appears to perform pretty well! However, it's deceiving because this dataset includes data close to the end of season, which is easier to predict. Let's see how the model does just on the 1 month data:"
   ]
  },
  {
   "cell_type": "code",
   "execution_count": 171,
   "id": "4ebea22b",
   "metadata": {},
   "outputs": [],
   "source": [
    "df_1month = pd.concat([df_test[df_test.GP < 14], df_val[df_val.GP < 14]])"
   ]
  },
  {
   "cell_type": "code",
   "execution_count": 172,
   "id": "8e711c82",
   "metadata": {},
   "outputs": [],
   "source": [
    "df_y_test = pd.DataFrame(y_test)\n",
    "df_y_val = pd.DataFrame(y_val)\n",
    "df_y_1month = pd.concat([df_y_test, df_y_val])\n",
    "df_y_1month = df_y_1month.reset_index()\n",
    "df_y_1month[['Name', 'GP']] = df_y_1month['Name_GP'].str.split('_', expand=True)\n",
    "df_y_1month[\"GP\"] = pd.to_numeric(df_y_1month[\"GP\"])\n",
    "df_y_1month = df_y_1month[df_y_1month.GP < 14]\n",
    "df_y_1month = df_y_1month.set_index(\"Name_GP\")\n",
    "\n",
    "y_1month = df_y_1month[\"Pend\"]"
   ]
  },
  {
   "cell_type": "code",
   "execution_count": 173,
   "id": "1f65e300",
   "metadata": {},
   "outputs": [
    {
     "name": "stdout",
     "output_type": "stream",
     "text": [
      "Linear Regression: \n",
      " rmse = 11.906914735669503 \n",
      " mae =  8.833905463165513\n",
      "Random Forest: \n",
      " rmse = 11.201675637999882 \n",
      " mae =  8.130595381138665\n"
     ]
    }
   ],
   "source": [
    "X_1month = prepare_X(df_1month)\n",
    "y_1month_lr = w_0 + X_1month.dot(w)\n",
    "y_1month_rf = rf.predict(X_1month)\n",
    "print('Linear Regression:', '\\n rmse =', rmse(y_1month, y_1month_lr), '\\n mae = ', mae(y_1month, y_1month_lr))\n",
    "print('Random Forest:', '\\n rmse =', rmse(y_1month, y_1month_rf), '\\n mae = ', mae(y_1month, y_1month_rf))"
   ]
  },
  {
   "cell_type": "markdown",
   "id": "a01a08c6",
   "metadata": {},
   "source": [
    "### Actually not too bad!"
   ]
  },
  {
   "cell_type": "code",
   "execution_count": 174,
   "id": "3f8a17ab",
   "metadata": {},
   "outputs": [],
   "source": [
    "def maxdif(y, y_pred):\n",
    "    error = abs(y - y_pred)\n",
    "    error_sorted = error.sort_values(ascending=False)[:5]\n",
    "    return error_sorted"
   ]
  },
  {
   "cell_type": "code",
   "execution_count": 175,
   "id": "f460f6e6",
   "metadata": {},
   "outputs": [
    {
     "name": "stdout",
     "output_type": "stream",
     "text": [
      "Linear Regression: \n",
      " 5 Largest Residuals \n",
      " Name_GP\n",
      "Nick Schmaltz_1    46.095077\n",
      "Chris Tierney_1    43.981661\n",
      "Jordan Kyrou_10    37.221489\n",
      "Jack Hughes_12     35.667721\n",
      "Evander Kane_13    35.282513\n",
      "Name: Pend, dtype: float64\n",
      "Random Forest: \n",
      " 5 Largest Residuals \n",
      " Name_GP\n",
      "Nick Schmaltz_1       40.2325\n",
      "Kyle Connor_11        39.8475\n",
      "Jack Hughes_12        37.1825\n",
      "Jordan Kyrou_10       35.0875\n",
      "Johnny Gaudreau_12    34.0225\n",
      "Name: Pend, dtype: float64\n"
     ]
    }
   ],
   "source": [
    "print('Linear Regression:', '\\n 5 Largest Residuals \\n', maxdif(y_1month, y_1month_lr))\n",
    "print('Random Forest:', '\\n 5 Largest Residuals \\n', maxdif(y_1month, y_1month_rf))"
   ]
  },
  {
   "cell_type": "markdown",
   "id": "3e342876",
   "metadata": {},
   "source": [
    "## Investigating Random Forest"
   ]
  },
  {
   "cell_type": "code",
   "execution_count": 176,
   "id": "9c6fb327",
   "metadata": {},
   "outputs": [
    {
     "data": {
      "image/png": "[encoded data removed]",
      "text/plain": [
       "<Figure size 2000x1000 with 1 Axes>"
      ]
     },
     "metadata": {},
     "output_type": "display_data"
    }
   ],
   "source": [
    "from sklearn.tree import plot_tree\n",
    "import matplotlib.pyplot as plt\n",
    "from sklearn.tree import export_text\n",
    "\n",
    "tree_index = 25\n",
    "individual_tree = rf.estimators_[tree_index]\n",
    "\n",
    "# Plot the first decision tree in the random forest\n",
    "plt.figure(figsize=(20, 10))\n",
    "plot_tree(individual_tree, max_depth=2, label='root', filled=True, feature_names=list(df_train.columns), class_names=True)\n",
    "plt.show()"
   ]
  },
  {
   "cell_type": "code",
   "execution_count": 177,
   "id": "1004c507",
   "metadata": {},
   "outputs": [
    {
     "data": {
      "text/html": [
       "<div>\n",
       "<style scoped>\n",
       "    .dataframe tbody tr th:only-of-type {\n",
       "        vertical-align: middle;\n",
       "    }\n",
       "\n",
       "    .dataframe tbody tr th {\n",
       "        vertical-align: top;\n",
       "    }\n",
       "\n",
       "    .dataframe thead th {\n",
       "        text-align: right;\n",
       "    }\n",
       "</style>\n",
       "<table border=\"1\" class=\"dataframe\">\n",
       "  <thead>\n",
       "    <tr style=\"text-align: right;\">\n",
       "      <th></th>\n",
       "      <th>feature</th>\n",
       "      <th>gain</th>\n",
       "    </tr>\n",
       "  </thead>\n",
       "  <tbody>\n",
       "    <tr>\n",
       "      <th>39</th>\n",
       "      <td>P/GP</td>\n",
       "      <td>0.773862</td>\n",
       "    </tr>\n",
       "    <tr>\n",
       "      <th>10</th>\n",
       "      <td>PP</td>\n",
       "      <td>0.032780</td>\n",
       "    </tr>\n",
       "    <tr>\n",
       "      <th>8</th>\n",
       "      <td>TOI</td>\n",
       "      <td>0.018740</td>\n",
       "    </tr>\n",
       "    <tr>\n",
       "      <th>40</th>\n",
       "      <td>SHOTS</td>\n",
       "      <td>0.013513</td>\n",
       "    </tr>\n",
       "    <tr>\n",
       "      <th>5</th>\n",
       "      <td>P</td>\n",
       "      <td>0.013081</td>\n",
       "    </tr>\n",
       "    <tr>\n",
       "      <th>23</th>\n",
       "      <td>PPP</td>\n",
       "      <td>0.008263</td>\n",
       "    </tr>\n",
       "    <tr>\n",
       "      <th>25</th>\n",
       "      <td>GWP</td>\n",
       "      <td>0.007405</td>\n",
       "    </tr>\n",
       "    <tr>\n",
       "      <th>9</th>\n",
       "      <td>ES</td>\n",
       "      <td>0.007215</td>\n",
       "    </tr>\n",
       "    <tr>\n",
       "      <th>46</th>\n",
       "      <td>FO%</td>\n",
       "      <td>0.007167</td>\n",
       "    </tr>\n",
       "    <tr>\n",
       "      <th>36</th>\n",
       "      <td>PPP/60</td>\n",
       "      <td>0.006695</td>\n",
       "    </tr>\n",
       "    <tr>\n",
       "      <th>0</th>\n",
       "      <td>Age</td>\n",
       "      <td>0.005928</td>\n",
       "    </tr>\n",
       "    <tr>\n",
       "      <th>11</th>\n",
       "      <td>SH</td>\n",
       "      <td>0.005882</td>\n",
       "    </tr>\n",
       "    <tr>\n",
       "      <th>42</th>\n",
       "      <td>HITS</td>\n",
       "      <td>0.005122</td>\n",
       "    </tr>\n",
       "    <tr>\n",
       "      <th>30</th>\n",
       "      <td>P/60</td>\n",
       "      <td>0.005023</td>\n",
       "    </tr>\n",
       "    <tr>\n",
       "      <th>6</th>\n",
       "      <td>PIM</td>\n",
       "      <td>0.004890</td>\n",
       "    </tr>\n",
       "    <tr>\n",
       "      <th>27</th>\n",
       "      <td>PPP%</td>\n",
       "      <td>0.004802</td>\n",
       "    </tr>\n",
       "    <tr>\n",
       "      <th>43</th>\n",
       "      <td>BS</td>\n",
       "      <td>0.004538</td>\n",
       "    </tr>\n",
       "    <tr>\n",
       "      <th>45</th>\n",
       "      <td>FOL</td>\n",
       "      <td>0.004528</td>\n",
       "    </tr>\n",
       "    <tr>\n",
       "      <th>33</th>\n",
       "      <td>ESP/60</td>\n",
       "      <td>0.004247</td>\n",
       "    </tr>\n",
       "    <tr>\n",
       "      <th>29</th>\n",
       "      <td>A/60</td>\n",
       "      <td>0.004088</td>\n",
       "    </tr>\n",
       "    <tr>\n",
       "      <th>4</th>\n",
       "      <td>A</td>\n",
       "      <td>0.004011</td>\n",
       "    </tr>\n",
       "    <tr>\n",
       "      <th>32</th>\n",
       "      <td>ESA/60</td>\n",
       "      <td>0.003974</td>\n",
       "    </tr>\n",
       "    <tr>\n",
       "      <th>44</th>\n",
       "      <td>FOW</td>\n",
       "      <td>0.003952</td>\n",
       "    </tr>\n",
       "    <tr>\n",
       "      <th>41</th>\n",
       "      <td>SH%</td>\n",
       "      <td>0.003796</td>\n",
       "    </tr>\n",
       "    <tr>\n",
       "      <th>35</th>\n",
       "      <td>PPA/60</td>\n",
       "      <td>0.003564</td>\n",
       "    </tr>\n",
       "    <tr>\n",
       "      <th>38</th>\n",
       "      <td>A/GP</td>\n",
       "      <td>0.003445</td>\n",
       "    </tr>\n",
       "    <tr>\n",
       "      <th>18</th>\n",
       "      <td>PPA</td>\n",
       "      <td>0.003445</td>\n",
       "    </tr>\n",
       "    <tr>\n",
       "      <th>31</th>\n",
       "      <td>ESG/60</td>\n",
       "      <td>0.003328</td>\n",
       "    </tr>\n",
       "    <tr>\n",
       "      <th>7</th>\n",
       "      <td>+/-</td>\n",
       "      <td>0.003225</td>\n",
       "    </tr>\n",
       "    <tr>\n",
       "      <th>2</th>\n",
       "      <td>GP</td>\n",
       "      <td>0.003210</td>\n",
       "    </tr>\n",
       "    <tr>\n",
       "      <th>34</th>\n",
       "      <td>PPG/60</td>\n",
       "      <td>0.003143</td>\n",
       "    </tr>\n",
       "    <tr>\n",
       "      <th>22</th>\n",
       "      <td>ESP</td>\n",
       "      <td>0.002801</td>\n",
       "    </tr>\n",
       "    <tr>\n",
       "      <th>20</th>\n",
       "      <td>GWA</td>\n",
       "      <td>0.002788</td>\n",
       "    </tr>\n",
       "    <tr>\n",
       "      <th>37</th>\n",
       "      <td>G/GP</td>\n",
       "      <td>0.002623</td>\n",
       "    </tr>\n",
       "    <tr>\n",
       "      <th>28</th>\n",
       "      <td>G/60</td>\n",
       "      <td>0.002133</td>\n",
       "    </tr>\n",
       "    <tr>\n",
       "      <th>3</th>\n",
       "      <td>G</td>\n",
       "      <td>0.002112</td>\n",
       "    </tr>\n",
       "    <tr>\n",
       "      <th>15</th>\n",
       "      <td>GWG</td>\n",
       "      <td>0.002058</td>\n",
       "    </tr>\n",
       "    <tr>\n",
       "      <th>17</th>\n",
       "      <td>ESA</td>\n",
       "      <td>0.001758</td>\n",
       "    </tr>\n",
       "    <tr>\n",
       "      <th>12</th>\n",
       "      <td>ESG</td>\n",
       "      <td>0.001692</td>\n",
       "    </tr>\n",
       "    <tr>\n",
       "      <th>13</th>\n",
       "      <td>PPG</td>\n",
       "      <td>0.001307</td>\n",
       "    </tr>\n",
       "    <tr>\n",
       "      <th>24</th>\n",
       "      <td>SHP</td>\n",
       "      <td>0.000856</td>\n",
       "    </tr>\n",
       "    <tr>\n",
       "      <th>14</th>\n",
       "      <td>SHG</td>\n",
       "      <td>0.000680</td>\n",
       "    </tr>\n",
       "    <tr>\n",
       "      <th>21</th>\n",
       "      <td>OTA</td>\n",
       "      <td>0.000609</td>\n",
       "    </tr>\n",
       "    <tr>\n",
       "      <th>26</th>\n",
       "      <td>OTP</td>\n",
       "      <td>0.000601</td>\n",
       "    </tr>\n",
       "    <tr>\n",
       "      <th>19</th>\n",
       "      <td>SHA</td>\n",
       "      <td>0.000518</td>\n",
       "    </tr>\n",
       "    <tr>\n",
       "      <th>16</th>\n",
       "      <td>OTG</td>\n",
       "      <td>0.000484</td>\n",
       "    </tr>\n",
       "    <tr>\n",
       "      <th>1</th>\n",
       "      <td>Pos</td>\n",
       "      <td>0.000118</td>\n",
       "    </tr>\n",
       "  </tbody>\n",
       "</table>\n",
       "</div>"
      ],
      "text/plain": [
       "   feature      gain\n",
       "39    P/GP  0.773862\n",
       "10      PP  0.032780\n",
       "8      TOI  0.018740\n",
       "40   SHOTS  0.013513\n",
       "5        P  0.013081\n",
       "23     PPP  0.008263\n",
       "25     GWP  0.007405\n",
       "9       ES  0.007215\n",
       "46     FO%  0.007167\n",
       "36  PPP/60  0.006695\n",
       "0      Age  0.005928\n",
       "11      SH  0.005882\n",
       "42    HITS  0.005122\n",
       "30    P/60  0.005023\n",
       "6      PIM  0.004890\n",
       "27    PPP%  0.004802\n",
       "43      BS  0.004538\n",
       "45     FOL  0.004528\n",
       "33  ESP/60  0.004247\n",
       "29    A/60  0.004088\n",
       "4        A  0.004011\n",
       "32  ESA/60  0.003974\n",
       "44     FOW  0.003952\n",
       "41     SH%  0.003796\n",
       "35  PPA/60  0.003564\n",
       "38    A/GP  0.003445\n",
       "18     PPA  0.003445\n",
       "31  ESG/60  0.003328\n",
       "7      +/-  0.003225\n",
       "2       GP  0.003210\n",
       "34  PPG/60  0.003143\n",
       "22     ESP  0.002801\n",
       "20     GWA  0.002788\n",
       "37    G/GP  0.002623\n",
       "28    G/60  0.002133\n",
       "3        G  0.002112\n",
       "15     GWG  0.002058\n",
       "17     ESA  0.001758\n",
       "12     ESG  0.001692\n",
       "13     PPG  0.001307\n",
       "24     SHP  0.000856\n",
       "14     SHG  0.000680\n",
       "21     OTA  0.000609\n",
       "26     OTP  0.000601\n",
       "19     SHA  0.000518\n",
       "16     OTG  0.000484\n",
       "1      Pos  0.000118"
      ]
     },
     "execution_count": 177,
     "metadata": {},
     "output_type": "execute_result"
    }
   ],
   "source": [
    "rf.feature_importances_\n",
    "importances = list(zip(list(df_train.columns), rf.feature_importances_))\n",
    "\n",
    "df_importance = pd.DataFrame(importances, columns=['feature', 'gain'])\n",
    "df_importance = df_importance.sort_values(by='gain', ascending=False)\n",
    "\n",
    "df_importance"
   ]
  },
  {
   "cell_type": "markdown",
   "id": "6aa5868e",
   "metadata": {},
   "source": [
    "# Compare models to simple extrapolation"
   ]
  },
  {
   "cell_type": "code",
   "execution_count": 178,
   "id": "01d38d5b",
   "metadata": {},
   "outputs": [],
   "source": [
    "df_test_simp = df_test.copy()\n",
    "df_test_simp[\"Pred\"] = 82 * df_test_simp[\"P/GP\"]\n",
    "y_test_simp = df_test_simp[\"Pred\"]"
   ]
  },
  {
   "cell_type": "code",
   "execution_count": 180,
   "id": "c5561cb7",
   "metadata": {},
   "outputs": [
    {
     "name": "stdout",
     "output_type": "stream",
     "text": [
      "Simple Model: \n",
      " rmse = 12.302693705038745 \n",
      " mae =  8.225428571428571\n",
      "Linear Regression: \n",
      " rmse = 8.046214480879877 \n",
      " mae =  6.031813657236857\n",
      "Random Forest: \n",
      " rmse = 7.11223260121507 \n",
      " mae =  4.945650142681139\n"
     ]
    }
   ],
   "source": [
    "print('Simple Model:', '\\n rmse =', rmse(y_test, y_test_simp), '\\n mae = ', mae(y_test, y_test_simp))\n",
    "print('Linear Regression:', '\\n rmse =', rmse(y_test, y_test_lr), '\\n mae = ', mae(y_test, y_test_lr))\n",
    "print('Random Forest:', '\\n rmse =', rmse(y_test, y_test_rf), '\\n mae = ', mae(y_test, y_test_rf))"
   ]
  },
  {
   "cell_type": "markdown",
   "id": "373d84fa",
   "metadata": {},
   "source": [
    "### Thus, our models are certainly better than the simple model. The simple model does fail terribly for very low GPs, as expected:"
   ]
  },
  {
   "cell_type": "code",
   "execution_count": 181,
   "id": "454f3fc9",
   "metadata": {},
   "outputs": [
    {
     "name": "stdout",
     "output_type": "stream",
     "text": [
      "Simple model: \n",
      " 5 Largest Residuals \n",
      " Name_GP\n",
      "Mark Jankowski_2      70.000\n",
      "Jakub Vrana_2         66.000\n",
      "Jakub Vrana_2         66.000\n",
      "Alex Iafallo_5        62.400\n",
      "Vince Hinostroza_6    57.306\n",
      "dtype: float64\n"
     ]
    }
   ],
   "source": [
    "print('Simple model:', '\\n 5 Largest Residuals \\n', maxdif(y_test, y_test_simp))"
   ]
  },
  {
   "cell_type": "markdown",
   "id": "bc02d6e1",
   "metadata": {},
   "source": [
    "# Gradient Boosting"
   ]
  },
  {
   "cell_type": "code",
   "execution_count": 318,
   "id": "9e956f10",
   "metadata": {},
   "outputs": [],
   "source": [
    "import xgboost as xgb"
   ]
  },
  {
   "cell_type": "code",
   "execution_count": 319,
   "id": "4009cb15",
   "metadata": {},
   "outputs": [],
   "source": [
    "dtrain = xgb.DMatrix(X_train, label=y_train, feature_names=list(df_train.columns))\n",
    "dval = xgb.DMatrix(X_val, label=y_val, feature_names=list(df_train.columns))\n",
    "dtest = xgb.DMatrix(X_test, label=y_test, feature_names=list(df_train.columns))"
   ]
  },
  {
   "cell_type": "code",
   "execution_count": 327,
   "id": "515a0372",
   "metadata": {},
   "outputs": [],
   "source": [
    "xgb_params = {\n",
    "    'eta': 0.3,\n",
    "    'max_depth': 6,\n",
    "    'min_child_weight': 1,\n",
    "    \n",
    "    'objective': 'reg:squarederror',\n",
    "    'nthread': 8,\n",
    "    \n",
    "    'seed': 1,\n",
    "    'verbosity': 1,  \n",
    "}\n",
    "\n",
    "gb = xgb.train(xgb_params, dtrain, num_boost_round=200)"
   ]
  },
  {
   "cell_type": "code",
   "execution_count": 328,
   "id": "58c3a2a8",
   "metadata": {},
   "outputs": [],
   "source": [
    "y_val_gb = gb.predict(dval)\n",
    "y_test_gb = gb.predict(dtest)"
   ]
  },
  {
   "cell_type": "code",
   "execution_count": 329,
   "id": "2e394963",
   "metadata": {},
   "outputs": [
    {
     "name": "stdout",
     "output_type": "stream",
     "text": [
      "\n",
      " rmse = 7.407213155093375 \n",
      " mae =  4.96942875453404\n"
     ]
    }
   ],
   "source": [
    "print('\\n rmse =', rmse(y_val, y_val_gb), '\\n mae = ', mae(y_val, y_val_gb))"
   ]
  },
  {
   "cell_type": "code",
   "execution_count": 330,
   "id": "fe6fbe90",
   "metadata": {},
   "outputs": [],
   "source": [
    "watchlist = [(dtrain, \"train\"), (dval, \"val\")]"
   ]
  },
  {
   "cell_type": "code",
   "execution_count": 331,
   "id": "7e4c8567",
   "metadata": {},
   "outputs": [],
   "source": [
    "%%capture output\n",
    "\n",
    "xgb_params = {\n",
    "    'eta': 0.3,\n",
    "    'max_depth': 6,\n",
    "    'min_child_weight': 1,\n",
    "    \n",
    "    'objective': 'reg:squarederror',\n",
    "    'nthread': 8,\n",
    "    \n",
    "    'seed': 1,\n",
    "    'verbosity': 1,  \n",
    "}\n",
    "\n",
    "gb = xgb.train(xgb_params, dtrain, num_boost_round=5000, verbose_eval = 1, evals = watchlist)"
   ]
  },
  {
   "cell_type": "code",
   "execution_count": 332,
   "id": "342186d7",
   "metadata": {},
   "outputs": [],
   "source": [
    "def parse_xgb_output(output):\n",
    "    tree = []\n",
    "    rmse_train = []\n",
    "    rmse_val = []\n",
    "\n",
    "    for line in output.stdout.strip().split('\\n'):\n",
    "        it_line, train_line, val_line = line.split('\\t')\n",
    "\n",
    "        it = int(it_line.strip('[]'))\n",
    "        train = float(train_line.split(':')[1])\n",
    "        val = float(val_line.split(':')[1])\n",
    "\n",
    "        tree.append(it)\n",
    "        rmse_train.append(train)\n",
    "        rmse_val.append(val)\n",
    "\n",
    "    return tree, rmse_train, rmse_val"
   ]
  },
  {
   "cell_type": "code",
   "execution_count": 333,
   "id": "b2e621d6",
   "metadata": {},
   "outputs": [],
   "source": [
    "tree, rmse_train, rmse_val = parse_xgb_output(output)"
   ]
  },
  {
   "cell_type": "markdown",
   "id": "50ee0f32",
   "metadata": {},
   "source": [
    "## Checking how num_boost_round affects results"
   ]
  },
  {
   "cell_type": "code",
   "execution_count": 334,
   "id": "cc4399bf",
   "metadata": {},
   "outputs": [
    {
     "data": {
      "image/png": "[encoded data removed]",
      "text/plain": [
       "<Figure size 600x400 with 1 Axes>"
      ]
     },
     "metadata": {},
     "output_type": "display_data"
    }
   ],
   "source": [
    "\n",
    "\n",
    "plt.figure(figsize=(6, 4))\n",
    "\n",
    "plt.plot(tree, rmse_train, color='black', linestyle='dashed', label='Train RMSE')\n",
    "plt.plot(tree, rmse_val, color='black', linestyle='solid', label='Validation RMSE')\n",
    "plt.xticks(range(0, 5001, 1000))\n",
    "\n",
    "plt.legend()\n",
    "\n",
    "plt.title('XGBoost: number of trees vs RMSE')\n",
    "plt.xlabel('Number of trees')\n",
    "plt.ylabel('RMSE')\n",
    "\n",
    "plt.show()\n",
    "\n"
   ]
  },
  {
   "cell_type": "markdown",
   "id": "c956c782",
   "metadata": {},
   "source": [
    "## Checking how eta affects results"
   ]
  },
  {
   "cell_type": "code",
   "execution_count": 336,
   "id": "04f03de7",
   "metadata": {},
   "outputs": [
    {
     "name": "stdout",
     "output_type": "stream",
     "text": [
      "7.40497\n",
      "(7.40497, 285)\n"
     ]
    }
   ],
   "source": [
    "tree, _, rmse_val_eta_03 = parse_xgb_output(output)\n",
    "print(min(rmse_val_eta_03))\n",
    "print(min(zip(rmse_val_eta_03, tree)))"
   ]
  },
  {
   "cell_type": "code",
   "execution_count": 350,
   "id": "811f55e3",
   "metadata": {},
   "outputs": [],
   "source": [
    "%%capture output\n",
    "\n",
    "xgb_params = {\n",
    "    'eta': 0.1,\n",
    "    'max_depth': 6,\n",
    "    'min_child_weight': 1,\n",
    "    \n",
    "    'objective': 'reg:squarederror',\n",
    "    'nthread': 8,\n",
    "    \n",
    "    'seed': 1,\n",
    "    'verbosity': 1,  \n",
    "}\n",
    "\n",
    "gb = xgb.train(xgb_params, dtrain, num_boost_round=5000, verbose_eval = 1, evals = watchlist)"
   ]
  },
  {
   "cell_type": "code",
   "execution_count": 351,
   "id": "78acf72f",
   "metadata": {},
   "outputs": [
    {
     "name": "stdout",
     "output_type": "stream",
     "text": [
      "7.05303\n",
      "(7.05303, 725)\n"
     ]
    }
   ],
   "source": [
    "tree, _, rmse_val_eta_01 = parse_xgb_output(output)\n",
    "print(min(rmse_val_eta_01))\n",
    "print(min(zip(rmse_val_eta_01, tree)))"
   ]
  },
  {
   "cell_type": "code",
   "execution_count": 339,
   "id": "99ff15a2",
   "metadata": {},
   "outputs": [],
   "source": [
    "%%capture output\n",
    "\n",
    "xgb_params = {\n",
    "    'eta': 0.05,\n",
    "    'max_depth': 6,\n",
    "    'min_child_weight': 1,\n",
    "    \n",
    "    'objective': 'reg:squarederror',\n",
    "    'nthread': 8,\n",
    "    \n",
    "    'seed': 1,\n",
    "    'verbosity': 1,  \n",
    "}\n",
    "\n",
    "gb = xgb.train(xgb_params, dtrain, num_boost_round=5000, verbose_eval = 1, evals = watchlist)"
   ]
  },
  {
   "cell_type": "code",
   "execution_count": 340,
   "id": "a4ad94c8",
   "metadata": {},
   "outputs": [
    {
     "name": "stdout",
     "output_type": "stream",
     "text": [
      "6.91903\n",
      "(6.91903, 1763)\n"
     ]
    }
   ],
   "source": [
    "tree, _, rmse_val_eta_005 = parse_xgb_output(output)\n",
    "print(min(rmse_val_eta_005))\n",
    "print(min(zip(rmse_val_eta_005, tree)))"
   ]
  },
  {
   "cell_type": "code",
   "execution_count": 374,
   "id": "9a84c204",
   "metadata": {},
   "outputs": [],
   "source": [
    "%%capture output\n",
    "\n",
    "xgb_params = {\n",
    "    'eta': 0.01,\n",
    "    'max_depth': 6,\n",
    "    'min_child_weight': 1,\n",
    "    \n",
    "    'objective': 'reg:squarederror',\n",
    "    'nthread': 8,\n",
    "    \n",
    "    'seed': 1,\n",
    "    'verbosity': 1,  \n",
    "}\n",
    "\n",
    "gb = xgb.train(xgb_params, dtrain, num_boost_round=5000, verbose_eval = 1, evals = watchlist)"
   ]
  },
  {
   "cell_type": "code",
   "execution_count": 375,
   "id": "58c000a8",
   "metadata": {},
   "outputs": [
    {
     "name": "stdout",
     "output_type": "stream",
     "text": [
      "6.91594\n",
      "(6.91594, 4999)\n"
     ]
    }
   ],
   "source": [
    "tree, _, rmse_val_eta_001 = parse_xgb_output(output)\n",
    "print(min(rmse_val_eta_001))\n",
    "print(min(zip(rmse_val_eta_001, tree)))"
   ]
  },
  {
   "cell_type": "code",
   "execution_count": 343,
   "id": "b3fa98f4",
   "metadata": {},
   "outputs": [],
   "source": [
    "%%capture output\n",
    "\n",
    "xgb_params = {\n",
    "    'eta': 0.005,\n",
    "    'max_depth': 6,\n",
    "    'min_child_weight': 1,\n",
    "    \n",
    "    'objective': 'reg:squarederror',\n",
    "    'nthread': 8,\n",
    "    \n",
    "    'seed': 1,\n",
    "    'verbosity': 1,  \n",
    "}\n",
    "\n",
    "gb = xgb.train(xgb_params, dtrain, num_boost_round=5000, verbose_eval = 1, evals = watchlist)"
   ]
  },
  {
   "cell_type": "code",
   "execution_count": 344,
   "id": "cc4d7344",
   "metadata": {},
   "outputs": [
    {
     "name": "stdout",
     "output_type": "stream",
     "text": [
      "6.90634\n",
      "(6.90634, 4993)\n"
     ]
    }
   ],
   "source": [
    "tree, _, rmse_val_eta_0005 = parse_xgb_output(output)\n",
    "print(min(rmse_val_eta_0005))\n",
    "print(min(zip(rmse_val_eta_0005, tree)))"
   ]
  },
  {
   "cell_type": "code",
   "execution_count": 352,
   "id": "783f394f",
   "metadata": {},
   "outputs": [
    {
     "data": {
      "image/png": "[encoded data removed]",
      "text/plain": [
       "<Figure size 600x400 with 1 Axes>"
      ]
     },
     "metadata": {},
     "output_type": "display_data"
    }
   ],
   "source": [
    "plt.figure(figsize=(6, 4))\n",
    "\n",
    "plt.plot(tree, rmse_val_eta_0005, color='black', linestyle='solid', label='eta=0.005')\n",
    "plt.plot(tree, rmse_val_eta_01, color='black', linestyle='dashed', label='eta=0.1')\n",
    "plt.plot(tree, rmse_val_eta_005, color='grey', linestyle='solid', label='eta=0.05')\n",
    "plt.plot(tree, rmse_val_eta_001, color='grey', linestyle='dashed', label='eta=0.01')\n",
    "plt.plot(tree, rmse_val_eta_03, color='blue', linestyle='solid', label='eta=0.03')\n",
    "\n",
    "\n",
    "plt.xticks(range(0, 5001, 1000))\n",
    "plt.ylim(6.5, 7.5)\n",
    "\n",
    "plt.legend()\n",
    "\n",
    "plt.title('The effect of eta on model performance')\n",
    "plt.xlabel('Number of trees')\n",
    "plt.ylabel('RMSE (validation)')\n",
    "\n",
    "\n",
    "plt.show()"
   ]
  },
  {
   "cell_type": "markdown",
   "id": "c40beaa7",
   "metadata": {},
   "source": [
    "## Checking how max_depth affects results"
   ]
  },
  {
   "cell_type": "code",
   "execution_count": 367,
   "id": "f061416c",
   "metadata": {},
   "outputs": [],
   "source": [
    "%%capture output\n",
    "\n",
    "xgb_params = {\n",
    "    'eta': 0.01,\n",
    "    'max_depth': 7,\n",
    "    'min_child_weight': 1,\n",
    "    \n",
    "    'objective': 'reg:squarederror',\n",
    "    'nthread': 8,\n",
    "    \n",
    "    'seed': 1,\n",
    "    'verbosity': 1,  \n",
    "}\n",
    "\n",
    "gb = xgb.train(xgb_params, dtrain, num_boost_round=10000, verbose_eval = 1, evals = watchlist)"
   ]
  },
  {
   "cell_type": "code",
   "execution_count": 368,
   "id": "283099b9",
   "metadata": {},
   "outputs": [
    {
     "name": "stdout",
     "output_type": "stream",
     "text": [
      "7.03035\n",
      "(7.03035, 7478)\n"
     ]
    }
   ],
   "source": [
    "tree, _, rmse_val_depth7 = parse_xgb_output(output)\n",
    "print(min(rmse_val_depth7))\n",
    "print(min(zip(rmse_val_depth7, tree)))"
   ]
  },
  {
   "cell_type": "code",
   "execution_count": 369,
   "id": "6b83b94a",
   "metadata": {},
   "outputs": [],
   "source": [
    "%%capture output\n",
    "\n",
    "xgb_params = {\n",
    "    'eta': 0.01,\n",
    "    'max_depth': 4,\n",
    "    'min_child_weight': 1,\n",
    "    \n",
    "    'objective': 'reg:squarederror',\n",
    "    'nthread': 8,\n",
    "    \n",
    "    'seed': 1,\n",
    "    'verbosity': 1,  \n",
    "}\n",
    "\n",
    "gb = xgb.train(xgb_params, dtrain, num_boost_round=10000, verbose_eval = 1, evals = watchlist)"
   ]
  },
  {
   "cell_type": "code",
   "execution_count": 370,
   "id": "9df05b9e",
   "metadata": {},
   "outputs": [
    {
     "name": "stdout",
     "output_type": "stream",
     "text": [
      "6.89552\n",
      "(6.89552, 9975)\n"
     ]
    }
   ],
   "source": [
    "tree, _, rmse_val_depth4 = parse_xgb_output(output)\n",
    "print(min(rmse_val_depth4))\n",
    "print(min(zip(rmse_val_depth4, tree)))"
   ]
  },
  {
   "cell_type": "code",
   "execution_count": 365,
   "id": "13d34df2",
   "metadata": {},
   "outputs": [],
   "source": [
    "%%capture output\n",
    "\n",
    "xgb_params = {\n",
    "    'eta': 0.01,\n",
    "    'max_depth': 5,\n",
    "    'min_child_weight': 1,\n",
    "    \n",
    "    'objective': 'reg:squarederror',\n",
    "    'nthread': 8,\n",
    "    \n",
    "    'seed': 1,\n",
    "    'verbosity': 1,  \n",
    "}\n",
    "\n",
    "gb = xgb.train(xgb_params, dtrain, num_boost_round=10000, verbose_eval = 1, evals = watchlist)"
   ]
  },
  {
   "cell_type": "code",
   "execution_count": 366,
   "id": "b1f38155",
   "metadata": {},
   "outputs": [
    {
     "name": "stdout",
     "output_type": "stream",
     "text": [
      "6.81726\n",
      "(6.81726, 9873)\n"
     ]
    }
   ],
   "source": [
    "tree, _, rmse_val_depth5 = parse_xgb_output(output)\n",
    "print(min(rmse_val_depth5))\n",
    "print(min(zip(rmse_val_depth5, tree)))"
   ]
  },
  {
   "cell_type": "code",
   "execution_count": 373,
   "id": "b2ba68cc",
   "metadata": {},
   "outputs": [
    {
     "data": {
      "image/png": "[encoded data removed]",
      "text/plain": [
       "<Figure size 600x400 with 1 Axes>"
      ]
     },
     "metadata": {},
     "output_type": "display_data"
    }
   ],
   "source": [
    "plt.figure(figsize=(6, 4))\n",
    "\n",
    "plt.plot(tree, rmse_val_depth7, color='black', linestyle='dashed', label='max_depth=7')\n",
    "plt.plot(tree, rmse_val_depth5, color='grey', linestyle='dashed', label='max_depth=5')\n",
    "plt.plot(tree, rmse_val_depth4, color='grey', linestyle='solid', label='max_depth=4')\n",
    "\n",
    "plt.ylim(6.6, 8)\n",
    "plt.xlim(-10, 510)\n",
    "plt.xticks(range(0, 10001, 1500))\n",
    "\n",
    "plt.legend()\n",
    "\n",
    "plt.title('The effect of max_depth on model performance')\n",
    "plt.xlabel('Number of trees')\n",
    "plt.ylabel('RMSE (validation)')\n",
    "\n",
    "\n",
    "plt.show()"
   ]
  },
  {
   "cell_type": "markdown",
   "id": "498ee2c2",
   "metadata": {},
   "source": [
    "## Tune min_child_weight"
   ]
  },
  {
   "cell_type": "code",
   "execution_count": 376,
   "id": "4de7fc41",
   "metadata": {},
   "outputs": [],
   "source": [
    "%%capture output\n",
    "\n",
    "xgb_params = {\n",
    "    'eta': 0.01,\n",
    "    'max_depth': 5,\n",
    "    'min_child_weight': 1,\n",
    "    \n",
    "    'objective': 'reg:squarederror',\n",
    "    'nthread': 8,\n",
    "    \n",
    "    'seed': 1,\n",
    "    'verbosity': 1,  \n",
    "}\n",
    "\n",
    "gb = xgb.train(xgb_params, dtrain, num_boost_round=7500, verbose_eval = 1, evals = watchlist)"
   ]
  },
  {
   "cell_type": "code",
   "execution_count": 377,
   "id": "5ee5727e",
   "metadata": {},
   "outputs": [
    {
     "name": "stdout",
     "output_type": "stream",
     "text": [
      "6.81939\n",
      "(6.81939, 7494)\n"
     ]
    }
   ],
   "source": [
    "tree, _, rmse_val_mcw1 = parse_xgb_output(output)\n",
    "print(min(rmse_val_mcw1))\n",
    "print(min(zip(rmse_val_mcw1, tree)))"
   ]
  },
  {
   "cell_type": "code",
   "execution_count": 378,
   "id": "463ef0dd",
   "metadata": {},
   "outputs": [],
   "source": [
    "%%capture output\n",
    "\n",
    "xgb_params = {\n",
    "    'eta': 0.01,\n",
    "    'max_depth': 5,\n",
    "    'min_child_weight': 5,\n",
    "    \n",
    "    'objective': 'reg:squarederror',\n",
    "    'nthread': 8,\n",
    "    \n",
    "    'seed': 1,\n",
    "    'verbosity': 1,  \n",
    "}\n",
    "\n",
    "gb = xgb.train(xgb_params, dtrain, num_boost_round=7500, verbose_eval = 1, evals = watchlist)"
   ]
  },
  {
   "cell_type": "code",
   "execution_count": 379,
   "id": "80c60281",
   "metadata": {},
   "outputs": [
    {
     "name": "stdout",
     "output_type": "stream",
     "text": [
      "6.80663\n",
      "(6.80663, 7124)\n"
     ]
    }
   ],
   "source": [
    "tree, _, rmse_val_mcw5 = parse_xgb_output(output)\n",
    "print(min(rmse_val_mcw5))\n",
    "print(min(zip(rmse_val_mcw5, tree)))"
   ]
  },
  {
   "cell_type": "code",
   "execution_count": 384,
   "id": "0486aa13",
   "metadata": {},
   "outputs": [],
   "source": [
    "%%capture output\n",
    "\n",
    "xgb_params = {\n",
    "    'eta': 0.01,\n",
    "    'max_depth': 5,\n",
    "    'min_child_weight': 3,\n",
    "    \n",
    "    'objective': 'reg:squarederror',\n",
    "    'nthread': 8,\n",
    "    \n",
    "    'seed': 1,\n",
    "    'verbosity': 1,  \n",
    "}\n",
    "\n",
    "gb = xgb.train(xgb_params, dtrain, num_boost_round=7500, verbose_eval = 1, evals = watchlist)"
   ]
  },
  {
   "cell_type": "code",
   "execution_count": 385,
   "id": "75779e28",
   "metadata": {},
   "outputs": [
    {
     "name": "stdout",
     "output_type": "stream",
     "text": [
      "6.77526\n",
      "(6.77526, 7468)\n"
     ]
    }
   ],
   "source": [
    "tree, _, rmse_val_mcw3 = parse_xgb_output(output)\n",
    "print(min(rmse_val_mcw3))\n",
    "print(min(zip(rmse_val_mcw3, tree)))"
   ]
  },
  {
   "cell_type": "code",
   "execution_count": 386,
   "id": "48b49822",
   "metadata": {},
   "outputs": [],
   "source": [
    "%%capture output\n",
    "\n",
    "xgb_params = {\n",
    "    'eta': 0.01,\n",
    "    'max_depth': 5,\n",
    "    'min_child_weight': 6,\n",
    "    \n",
    "    'objective': 'reg:squarederror',\n",
    "    'nthread': 8,\n",
    "    \n",
    "    'seed': 1,\n",
    "    'verbosity': 1,  \n",
    "}\n",
    "\n",
    "gb = xgb.train(xgb_params, dtrain, num_boost_round=7500, verbose_eval = 1, evals = watchlist)"
   ]
  },
  {
   "cell_type": "code",
   "execution_count": 387,
   "id": "6d7a07b3",
   "metadata": {},
   "outputs": [
    {
     "name": "stdout",
     "output_type": "stream",
     "text": [
      "6.86671\n",
      "(6.86671, 7499)\n"
     ]
    }
   ],
   "source": [
    "tree, _, rmse_val_mcw6 = parse_xgb_output(output)\n",
    "print(min(rmse_val_mcw6))\n",
    "print(min(zip(rmse_val_mcw6, tree)))"
   ]
  },
  {
   "cell_type": "code",
   "execution_count": 388,
   "id": "46bef42c",
   "metadata": {},
   "outputs": [
    {
     "data": {
      "image/png": "[encoded data removed]",
      "text/plain": [
       "<Figure size 600x400 with 1 Axes>"
      ]
     },
     "metadata": {},
     "output_type": "display_data"
    }
   ],
   "source": [
    "plt.figure(figsize=(6, 4))\n",
    "\n",
    "plt.plot(tree, rmse_val_mcw1, color='black', linestyle='solid', label='min_child_weight=1')\n",
    "plt.plot(tree, rmse_val_mcw3, color='grey', linestyle='solid', label='min_child_weight=3')\n",
    "plt.plot(tree, rmse_val_mcw6, color='grey', linestyle='dashed', label='min_child_weight=6')\n",
    "plt.plot(tree, rmse_val_mcw5, color='black', linestyle='dashed', label='min_child_weight=5')\n",
    "\n",
    "plt.ylim(6.5, 7.5)\n",
    "plt.xlim(0, 7501)\n",
    "plt.xticks(range(0, 7501, 1500))\n",
    "\n",
    "plt.legend()\n",
    "\n",
    "plt.title('The effect of min_child_weight on model performance')\n",
    "plt.xlabel('Number of trees')\n",
    "plt.ylabel('RMSE (validation)')\n",
    "\n",
    "plt.show()"
   ]
  },
  {
   "cell_type": "markdown",
   "id": "076c1be9",
   "metadata": {},
   "source": [
    "## Final Gradient Boost Model"
   ]
  },
  {
   "cell_type": "code",
   "execution_count": 389,
   "id": "9df91fba",
   "metadata": {},
   "outputs": [],
   "source": [
    "%%capture output\n",
    "\n",
    "xgb_params = {\n",
    "    'eta': 0.01,\n",
    "    'max_depth': 5,\n",
    "    'min_child_weight': 3,\n",
    "    \n",
    "    'objective': 'reg:squarederror',\n",
    "    'nthread': 8,\n",
    "    \n",
    "    'seed': 1,\n",
    "    'verbosity': 1,  \n",
    "}\n",
    "\n",
    "gb = xgb.train(xgb_params, dtrain, num_boost_round=10000, verbose_eval = 1, evals = watchlist)"
   ]
  },
  {
   "cell_type": "markdown",
   "id": "9b88e366",
   "metadata": {},
   "source": [
    "#### Model used on website:\n",
    "\n",
    "xgb_params = {\n",
    "    \n",
    "    'eta': 0.01,\n",
    "    'max_depth': 5,\n",
    "    'min_child_weight': 3,\n",
    "    \n",
    "    'objective': 'reg:squarederror',\n",
    "    'nthread': 8,\n",
    "    \n",
    "    'seed': 1,\n",
    "    'verbosity': 1,  \n",
    "}\n",
    "\n",
    "gb = xgb.train(xgb_params, dtrain, num_boost_round=10000, verbose_eval = 1, evals = watchlist)\n",
    "\n",
    "gb.save_model('model1')\n",
    "\n",
    "Gradient Boosting (validation): \n",
    " rmse = 6.744598740205384 \n",
    " mae =  4.534530933925084"
   ]
  },
  {
   "cell_type": "code",
   "execution_count": 391,
   "id": "1c1f19b3",
   "metadata": {},
   "outputs": [],
   "source": [
    "y_val_gb = gb.predict(dval)\n",
    "y_test_gb = gb.predict(dtest)"
   ]
  },
  {
   "cell_type": "code",
   "execution_count": 393,
   "id": "c7e49f7b",
   "metadata": {},
   "outputs": [
    {
     "name": "stdout",
     "output_type": "stream",
     "text": [
      "Gradient Boosting: \n",
      " rmse = 6.770652504149732 \n",
      " mae =  4.511974722998483\n",
      "Gradient Boosting: \n",
      " 5 Largest Residuals \n",
      " Name_GP\n",
      "Mikael Granlund_12    36.689247\n",
      "Jack Hughes_12        35.264893\n",
      "Johnny Gaudreau_12    33.304417\n",
      "Matthew Tkachuk_39    23.009888\n",
      "Vince Dunn_25         22.979328\n",
      "Name: Pend, dtype: float64\n"
     ]
    }
   ],
   "source": [
    "print('Gradient Boosting:', '\\n rmse =', rmse(y_val, y_val_gb), '\\n mae = ', mae(y_val, y_val_gb))\n",
    "print('Gradient Boosting:', '\\n 5 Largest Residuals \\n', maxdif(y_test, y_test_gb))"
   ]
  },
  {
   "cell_type": "markdown",
   "id": "78bf3597",
   "metadata": {},
   "source": [
    "### Comparison to all previous models:"
   ]
  },
  {
   "cell_type": "code",
   "execution_count": 402,
   "id": "dc88e553",
   "metadata": {
    "scrolled": true
   },
   "outputs": [
    {
     "name": "stdout",
     "output_type": "stream",
     "text": [
      "Simple Model: \n",
      " rmse = 12.302693705038745 \n",
      " mae =  8.225428571428571\n",
      "Linear Regression: \n",
      " rmse = 8.046214480879877 \n",
      " mae =  6.031813657236857\n",
      "Decision Tree: \n",
      " rmse = 9.079481245958016 \n",
      " mae =  6.215551975776377\n",
      "Random Forest: \n",
      " rmse = 7.11223260121507 \n",
      " mae =  4.945650142681139\n",
      "Gradient Boosting: \n",
      " rmse = 6.737976334394981 \n",
      " mae =  4.615544306891305\n"
     ]
    }
   ],
   "source": [
    "print('Simple Model:', '\\n rmse =', rmse(y_test, y_test_simp), '\\n mae = ', mae(y_test, y_test_simp))\n",
    "print('Linear Regression:', '\\n rmse =', rmse(y_test, y_test_lr), '\\n mae = ', mae(y_test, y_test_lr))\n",
    "print('Decision Tree:', '\\n rmse =', rmse(y_val, y_val_dt), '\\n mae = ', mae(y_val, y_val_dt))\n",
    "print('Random Forest:', '\\n rmse =', rmse(y_test, y_test_rf), '\\n mae = ', mae(y_test, y_test_rf))\n",
    "print('Gradient Boosting:', '\\n rmse =', rmse(y_test, y_test_gb), '\\n mae = ', mae(y_test, y_test_gb))"
   ]
  },
  {
   "cell_type": "code",
   "execution_count": 397,
   "id": "0db15874",
   "metadata": {},
   "outputs": [],
   "source": [
    "d1month = xgb.DMatrix(X_1month, label=y_1month, feature_names=list(df_train.columns))\n",
    "y_1month_gb = gb.predict(d1month)"
   ]
  },
  {
   "cell_type": "code",
   "execution_count": 398,
   "id": "be164a83",
   "metadata": {},
   "outputs": [
    {
     "name": "stdout",
     "output_type": "stream",
     "text": [
      "Linear Regression: \n",
      " rmse = 11.906914735669503 \n",
      " mae =  8.833905463165513\n",
      "Random Forest: \n",
      " rmse = 11.201675637999882 \n",
      " mae =  8.130595381138665\n",
      "Gradient Boosting: \n",
      " rmse = 10.524801982470343 \n",
      " mae =  7.550418627066691\n"
     ]
    }
   ],
   "source": [
    "print('Linear Regression:', '\\n rmse =', rmse(y_1month, y_1month_lr), '\\n mae = ', mae(y_1month, y_1month_lr))\n",
    "print('Random Forest:', '\\n rmse =', rmse(y_1month, y_1month_rf), '\\n mae = ', mae(y_1month, y_1month_rf))\n",
    "print('Gradient Boosting:', '\\n rmse =', rmse(y_1month, y_1month_gb), '\\n mae = ', mae(y_1month, y_1month_gb))"
   ]
  },
  {
   "cell_type": "markdown",
   "id": "835074d1",
   "metadata": {},
   "source": [
    "## Investigating gradient boost model"
   ]
  },
  {
   "cell_type": "code",
   "execution_count": 399,
   "id": "a309bd12",
   "metadata": {},
   "outputs": [
    {
     "data": {
      "text/plain": [
       "[('P/GP', 6933.0439453125),\n",
       " ('PPP', 374.84320068359375),\n",
       " ('P', 344.36346435546875),\n",
       " ('PP', 202.38125610351562),\n",
       " ('TOI', 127.46450805664062),\n",
       " ('GWP', 109.60179901123047),\n",
       " ('PPA', 107.47138977050781),\n",
       " ('FOL', 77.35833740234375),\n",
       " ('Pos', 76.47396850585938),\n",
       " ('P/60', 70.75310516357422),\n",
       " ('SHOTS', 69.80402374267578),\n",
       " ('FOW', 68.06732177734375),\n",
       " ('SHG', 66.24889373779297),\n",
       " ('GWA', 66.22977447509766),\n",
       " ('PPP/60', 64.23098754882812),\n",
       " ('ES', 61.72932434082031),\n",
       " ('FO%', 58.73463821411133),\n",
       " ('G', 57.63962936401367),\n",
       " ('SHP', 52.42782211303711),\n",
       " ('ESP/60', 45.88002014160156),\n",
       " ('PPP%', 37.831512451171875),\n",
       " ('PIM', 36.271480560302734),\n",
       " ('OTG', 35.07526397705078),\n",
       " ('PPA/60', 34.98452377319336),\n",
       " ('OTA', 34.06192398071289),\n",
       " ('PPG', 31.510272979736328),\n",
       " ('BS', 31.00472068786621),\n",
       " ('G/GP', 28.524667739868164),\n",
       " ('A/GP', 28.485795974731445),\n",
       " ('ESG/60', 27.57053565979004),\n",
       " ('SH', 27.5352840423584),\n",
       " ('A/60', 27.00492286682129),\n",
       " ('ESP', 26.99584197998047),\n",
       " ('GWG', 25.715373992919922),\n",
       " ('PPG/60', 24.969223022460938),\n",
       " ('Age', 24.840063095092773),\n",
       " ('GP', 23.282442092895508),\n",
       " ('A', 22.396211624145508),\n",
       " ('SH%', 22.178075790405273),\n",
       " ('HITS', 21.499366760253906),\n",
       " ('OTP', 21.17548942565918),\n",
       " ('ESG', 18.551998138427734),\n",
       " ('ESA/60', 18.387523651123047),\n",
       " ('+/-', 18.130765914916992),\n",
       " ('G/60', 18.128582000732422),\n",
       " ('ESA', 11.10767936706543),\n",
       " ('SHA', 10.030942916870117)]"
      ]
     },
     "execution_count": 399,
     "metadata": {},
     "output_type": "execute_result"
    }
   ],
   "source": [
    "scores = gb.get_score(importance_type='gain')\n",
    "scores = sorted(scores.items(), key=lambda x: x[1])\n",
    "list(reversed(scores))"
   ]
  },
  {
   "cell_type": "code",
   "execution_count": 400,
   "id": "98f6c906",
   "metadata": {},
   "outputs": [],
   "source": [
    "names = [n for (n, s) in scores]\n",
    "scores = [s for (n, s) in scores]"
   ]
  },
  {
   "cell_type": "code",
   "execution_count": 401,
   "id": "11b30bdf",
   "metadata": {},
   "outputs": [
    {
     "data": {
      "image/png": "[encoded data removed]",
      "text/plain": [
       "<Figure size 600x800 with 1 Axes>"
      ]
     },
     "metadata": {},
     "output_type": "display_data"
    }
   ],
   "source": [
    "plt.figure(figsize=(6, 8))\n",
    "\n",
    "plt.barh(np.arange(len(scores)), scores)\n",
    "plt.yticks(np.arange(len(names)), names)\n",
    "\n",
    "plt.show()"
   ]
  },
  {
   "cell_type": "code",
   "execution_count": null,
   "id": "52f3bafe",
   "metadata": {},
   "outputs": [],
   "source": []
  }
 ],
 "metadata": {
  "kernelspec": {
   "display_name": "Python 3 (ipykernel)",
   "language": "python",
   "name": "python3"
  },
  "language_info": {
   "codemirror_mode": {
    "name": "ipython",
    "version": 3
   },
   "file_extension": ".py",
   "mimetype": "text/x-python",
   "name": "python",
   "nbconvert_exporter": "python",
   "pygments_lexer": "ipython3",
   "version": "3.9.13"
  }
 },
 "nbformat": 4,
 "nbformat_minor": 5
}
