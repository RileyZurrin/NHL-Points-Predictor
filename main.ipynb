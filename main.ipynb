{
 "cells": [
  {
   "cell_type": "markdown",
   "id": "acbb0575",
   "metadata": {},
   "source": [
    "#  Preparing Data"
   ]
  },
  {
   "cell_type": "code",
   "execution_count": 289,
   "id": "cf7edc41",
   "metadata": {},
   "outputs": [],
   "source": [
    "import pandas as pd\n",
    "from os import listdir\n",
    "import numpy as np\n",
    "\n",
    "import seaborn as sns\n",
    "from matplotlib import pyplot as plt\n",
    "%matplotlib inline"
   ]
  },
  {
   "cell_type": "code",
   "execution_count": 290,
   "id": "04d3b840",
   "metadata": {},
   "outputs": [],
   "source": [
    "# Create dataframe with all 1 month Data\n",
    "n = 0 # counter to grab only first header\n",
    "for file in listdir(\"Data/1month/\"):\n",
    "    try: \n",
    "        dfa = pd.read_excel(\"Data/1month/\" + file, sheet_name = 1)\n",
    "        n += 1\n",
    "        header = dfa.iloc[0]\n",
    "        if n == 1:\n",
    "            df = pd.DataFrame(columns = header)\n",
    "        dfa = dfa[1:]\n",
    "        dfa.columns = header\n",
    "        df = pd.concat([dfa, df])\n",
    "    except ValueError: # so non-excel files aren't grabbed\n",
    "        pass"
   ]
  },
  {
   "cell_type": "code",
   "execution_count": 291,
   "id": "19d0a14d",
   "metadata": {},
   "outputs": [
    {
     "data": {
      "text/html": [
       "<div>\n",
       "<style scoped>\n",
       "    .dataframe tbody tr th:only-of-type {\n",
       "        vertical-align: middle;\n",
       "    }\n",
       "\n",
       "    .dataframe tbody tr th {\n",
       "        vertical-align: top;\n",
       "    }\n",
       "\n",
       "    .dataframe thead th {\n",
       "        text-align: right;\n",
       "    }\n",
       "</style>\n",
       "<table border=\"1\" class=\"dataframe\">\n",
       "  <thead>\n",
       "    <tr style=\"text-align: right;\">\n",
       "      <th></th>\n",
       "      <th>Rk</th>\n",
       "      <th>Name</th>\n",
       "      <th>Team</th>\n",
       "      <th>Age</th>\n",
       "      <th>Pos</th>\n",
       "      <th>GP</th>\n",
       "      <th>G</th>\n",
       "      <th>A</th>\n",
       "      <th>P</th>\n",
       "      <th>PIM</th>\n",
       "      <th>...</th>\n",
       "      <th>G/GP</th>\n",
       "      <th>A/GP</th>\n",
       "      <th>P/GP</th>\n",
       "      <th>SHOTS</th>\n",
       "      <th>SH%</th>\n",
       "      <th>HITS</th>\n",
       "      <th>BS</th>\n",
       "      <th>FOW</th>\n",
       "      <th>FOL</th>\n",
       "      <th>FO%</th>\n",
       "    </tr>\n",
       "  </thead>\n",
       "  <tbody>\n",
       "    <tr>\n",
       "      <th>1</th>\n",
       "      <td>151</td>\n",
       "      <td>Anton Lundell</td>\n",
       "      <td>FLA</td>\n",
       "      <td>21</td>\n",
       "      <td>F</td>\n",
       "      <td>13</td>\n",
       "      <td>1</td>\n",
       "      <td>7</td>\n",
       "      <td>8</td>\n",
       "      <td>4</td>\n",
       "      <td>...</td>\n",
       "      <td>0.077</td>\n",
       "      <td>0.538</td>\n",
       "      <td>0.615</td>\n",
       "      <td>33</td>\n",
       "      <td>3.0%</td>\n",
       "      <td>7</td>\n",
       "      <td>10</td>\n",
       "      <td>80</td>\n",
       "      <td>83</td>\n",
       "      <td>49.08%</td>\n",
       "    </tr>\n",
       "    <tr>\n",
       "      <th>2</th>\n",
       "      <td>152</td>\n",
       "      <td>Shane Pinto</td>\n",
       "      <td>OTT</td>\n",
       "      <td>22</td>\n",
       "      <td>F</td>\n",
       "      <td>11</td>\n",
       "      <td>6</td>\n",
       "      <td>1</td>\n",
       "      <td>7</td>\n",
       "      <td>2</td>\n",
       "      <td>...</td>\n",
       "      <td>0.545</td>\n",
       "      <td>0.091</td>\n",
       "      <td>0.636</td>\n",
       "      <td>23</td>\n",
       "      <td>26.1%</td>\n",
       "      <td>10</td>\n",
       "      <td>2</td>\n",
       "      <td>59</td>\n",
       "      <td>44</td>\n",
       "      <td>57.28%</td>\n",
       "    </tr>\n",
       "    <tr>\n",
       "      <th>3</th>\n",
       "      <td>153</td>\n",
       "      <td>Lawson Crouse</td>\n",
       "      <td>ARI</td>\n",
       "      <td>25</td>\n",
       "      <td>F</td>\n",
       "      <td>11</td>\n",
       "      <td>5</td>\n",
       "      <td>2</td>\n",
       "      <td>7</td>\n",
       "      <td>2</td>\n",
       "      <td>...</td>\n",
       "      <td>0.455</td>\n",
       "      <td>0.182</td>\n",
       "      <td>0.636</td>\n",
       "      <td>23</td>\n",
       "      <td>21.7%</td>\n",
       "      <td>30</td>\n",
       "      <td>5</td>\n",
       "      <td>1</td>\n",
       "      <td>2</td>\n",
       "      <td>33.33%</td>\n",
       "    </tr>\n",
       "    <tr>\n",
       "      <th>4</th>\n",
       "      <td>154</td>\n",
       "      <td>Charlie Coyle</td>\n",
       "      <td>BOS</td>\n",
       "      <td>30</td>\n",
       "      <td>F</td>\n",
       "      <td>13</td>\n",
       "      <td>5</td>\n",
       "      <td>2</td>\n",
       "      <td>7</td>\n",
       "      <td>6</td>\n",
       "      <td>...</td>\n",
       "      <td>0.385</td>\n",
       "      <td>0.154</td>\n",
       "      <td>0.538</td>\n",
       "      <td>25</td>\n",
       "      <td>20.0%</td>\n",
       "      <td>13</td>\n",
       "      <td>12</td>\n",
       "      <td>79</td>\n",
       "      <td>63</td>\n",
       "      <td>55.63%</td>\n",
       "    </tr>\n",
       "    <tr>\n",
       "      <th>5</th>\n",
       "      <td>155</td>\n",
       "      <td>Brad Marchand</td>\n",
       "      <td>BOS</td>\n",
       "      <td>34</td>\n",
       "      <td>F</td>\n",
       "      <td>5</td>\n",
       "      <td>4</td>\n",
       "      <td>3</td>\n",
       "      <td>7</td>\n",
       "      <td>0</td>\n",
       "      <td>...</td>\n",
       "      <td>0.8</td>\n",
       "      <td>0.6</td>\n",
       "      <td>1.4</td>\n",
       "      <td>17</td>\n",
       "      <td>23.5%</td>\n",
       "      <td>10</td>\n",
       "      <td>1</td>\n",
       "      <td>1</td>\n",
       "      <td>2</td>\n",
       "      <td>33.33%</td>\n",
       "    </tr>\n",
       "    <tr>\n",
       "      <th>...</th>\n",
       "      <td>...</td>\n",
       "      <td>...</td>\n",
       "      <td>...</td>\n",
       "      <td>...</td>\n",
       "      <td>...</td>\n",
       "      <td>...</td>\n",
       "      <td>...</td>\n",
       "      <td>...</td>\n",
       "      <td>...</td>\n",
       "      <td>...</td>\n",
       "      <td>...</td>\n",
       "      <td>...</td>\n",
       "      <td>...</td>\n",
       "      <td>...</td>\n",
       "      <td>...</td>\n",
       "      <td>...</td>\n",
       "      <td>...</td>\n",
       "      <td>...</td>\n",
       "      <td>...</td>\n",
       "      <td>...</td>\n",
       "      <td>...</td>\n",
       "    </tr>\n",
       "    <tr>\n",
       "      <th>46</th>\n",
       "      <td>696</td>\n",
       "      <td>Logan Brown</td>\n",
       "      <td>STL</td>\n",
       "      <td>24</td>\n",
       "      <td>F</td>\n",
       "      <td>4</td>\n",
       "      <td>0</td>\n",
       "      <td>0</td>\n",
       "      <td>0</td>\n",
       "      <td>0</td>\n",
       "      <td>...</td>\n",
       "      <td>0</td>\n",
       "      <td>0</td>\n",
       "      <td>0</td>\n",
       "      <td>3</td>\n",
       "      <td>0.0%</td>\n",
       "      <td>3</td>\n",
       "      <td>2</td>\n",
       "      <td>4</td>\n",
       "      <td>14</td>\n",
       "      <td>22.22%</td>\n",
       "    </tr>\n",
       "    <tr>\n",
       "      <th>47</th>\n",
       "      <td>697</td>\n",
       "      <td>Connor Ingram</td>\n",
       "      <td>ARI</td>\n",
       "      <td>25</td>\n",
       "      <td>G</td>\n",
       "      <td>4</td>\n",
       "      <td>0</td>\n",
       "      <td>0</td>\n",
       "      <td>0</td>\n",
       "      <td>0</td>\n",
       "      <td>...</td>\n",
       "      <td>0</td>\n",
       "      <td>0</td>\n",
       "      <td>0</td>\n",
       "      <td>NaN</td>\n",
       "      <td>NaN</td>\n",
       "      <td>NaN</td>\n",
       "      <td>NaN</td>\n",
       "      <td>NaN</td>\n",
       "      <td>NaN</td>\n",
       "      <td>NaN</td>\n",
       "    </tr>\n",
       "    <tr>\n",
       "      <th>48</th>\n",
       "      <td>698</td>\n",
       "      <td>Vitaly Kravtsov</td>\n",
       "      <td>VAN</td>\n",
       "      <td>23</td>\n",
       "      <td>F</td>\n",
       "      <td>4</td>\n",
       "      <td>0</td>\n",
       "      <td>0</td>\n",
       "      <td>0</td>\n",
       "      <td>0</td>\n",
       "      <td>...</td>\n",
       "      <td>0</td>\n",
       "      <td>0</td>\n",
       "      <td>0</td>\n",
       "      <td>0</td>\n",
       "      <td>0.00%</td>\n",
       "      <td>3</td>\n",
       "      <td>1</td>\n",
       "      <td>0</td>\n",
       "      <td>0</td>\n",
       "      <td>0.00%</td>\n",
       "    </tr>\n",
       "    <tr>\n",
       "      <th>49</th>\n",
       "      <td>699</td>\n",
       "      <td>Arvid Söderblom</td>\n",
       "      <td>CHI</td>\n",
       "      <td>23</td>\n",
       "      <td>G</td>\n",
       "      <td>4</td>\n",
       "      <td>0</td>\n",
       "      <td>0</td>\n",
       "      <td>0</td>\n",
       "      <td>0</td>\n",
       "      <td>...</td>\n",
       "      <td>0</td>\n",
       "      <td>0</td>\n",
       "      <td>0</td>\n",
       "      <td>NaN</td>\n",
       "      <td>NaN</td>\n",
       "      <td>NaN</td>\n",
       "      <td>NaN</td>\n",
       "      <td>NaN</td>\n",
       "      <td>NaN</td>\n",
       "      <td>NaN</td>\n",
       "    </tr>\n",
       "    <tr>\n",
       "      <th>50</th>\n",
       "      <td>700</td>\n",
       "      <td>Adam Boqvist</td>\n",
       "      <td>CBJ</td>\n",
       "      <td>22</td>\n",
       "      <td>D</td>\n",
       "      <td>4</td>\n",
       "      <td>0</td>\n",
       "      <td>0</td>\n",
       "      <td>0</td>\n",
       "      <td>0</td>\n",
       "      <td>...</td>\n",
       "      <td>0</td>\n",
       "      <td>0</td>\n",
       "      <td>0</td>\n",
       "      <td>3</td>\n",
       "      <td>0.0%</td>\n",
       "      <td>2</td>\n",
       "      <td>4</td>\n",
       "      <td>0</td>\n",
       "      <td>0</td>\n",
       "      <td>0.00%</td>\n",
       "    </tr>\n",
       "  </tbody>\n",
       "</table>\n",
       "<p>804 rows × 50 columns</p>\n",
       "</div>"
      ],
      "text/plain": [
       "0    Rk             Name Team Age Pos  GP  G  A  P PIM  ...   G/GP   A/GP  \\\n",
       "1   151    Anton Lundell  FLA  21   F  13  1  7  8   4  ...  0.077  0.538   \n",
       "2   152      Shane Pinto  OTT  22   F  11  6  1  7   2  ...  0.545  0.091   \n",
       "3   153    Lawson Crouse  ARI  25   F  11  5  2  7   2  ...  0.455  0.182   \n",
       "4   154    Charlie Coyle  BOS  30   F  13  5  2  7   6  ...  0.385  0.154   \n",
       "5   155    Brad Marchand  BOS  34   F   5  4  3  7   0  ...    0.8    0.6   \n",
       "..  ...              ...  ...  ..  ..  .. .. .. ..  ..  ...    ...    ...   \n",
       "46  696      Logan Brown  STL  24   F   4  0  0  0   0  ...      0      0   \n",
       "47  697    Connor Ingram  ARI  25   G   4  0  0  0   0  ...      0      0   \n",
       "48  698  Vitaly Kravtsov  VAN  23   F   4  0  0  0   0  ...      0      0   \n",
       "49  699  Arvid Söderblom  CHI  23   G   4  0  0  0   0  ...      0      0   \n",
       "50  700     Adam Boqvist  CBJ  22   D   4  0  0  0   0  ...      0      0   \n",
       "\n",
       "0    P/GP SHOTS    SH% HITS   BS  FOW  FOL     FO%  \n",
       "1   0.615    33   3.0%    7   10   80   83  49.08%  \n",
       "2   0.636    23  26.1%   10    2   59   44  57.28%  \n",
       "3   0.636    23  21.7%   30    5    1    2  33.33%  \n",
       "4   0.538    25  20.0%   13   12   79   63  55.63%  \n",
       "5     1.4    17  23.5%   10    1    1    2  33.33%  \n",
       "..    ...   ...    ...  ...  ...  ...  ...     ...  \n",
       "46      0     3   0.0%    3    2    4   14  22.22%  \n",
       "47      0   NaN    NaN  NaN  NaN  NaN  NaN     NaN  \n",
       "48      0     0  0.00%    3    1    0    0   0.00%  \n",
       "49      0   NaN    NaN  NaN  NaN  NaN  NaN     NaN  \n",
       "50      0     3   0.0%    2    4    0    0   0.00%  \n",
       "\n",
       "[804 rows x 50 columns]"
      ]
     },
     "execution_count": 291,
     "metadata": {},
     "output_type": "execute_result"
    }
   ],
   "source": [
    "df"
   ]
  },
  {
   "cell_type": "code",
   "execution_count": 292,
   "id": "ad53f48e",
   "metadata": {},
   "outputs": [],
   "source": [
    "# Remove goalie entries\n",
    "df = df[df.Pos != \"G\"]\n",
    "# Remove unnecessary columns\n",
    "df = df.drop(['Rk','Team'], axis=1)"
   ]
  },
  {
   "cell_type": "code",
   "execution_count": 293,
   "id": "f8ef71dd",
   "metadata": {},
   "outputs": [],
   "source": [
    "# Convert time stats (e.g., 20:12) to seconds.\n",
    "# Define function that does the string conversion:\n",
    "def time2sec(time):\n",
    "    m, s = time.split(':')\n",
    "    return 60 * int(m) + int(s)\n",
    "\n",
    "df['TOI'] = df['TOI'].apply(time2sec) \n",
    "df['ES'] = df['ES'].apply(time2sec) \n",
    "df['PP'] = df['PP'].apply(time2sec) \n",
    "df['SH'] = df['SH'].apply(time2sec) "
   ]
  },
  {
   "cell_type": "code",
   "execution_count": 294,
   "id": "87783edb",
   "metadata": {},
   "outputs": [],
   "source": [
    "# Convert Position to boolean (0 = D, 1 = F)\n",
    "def Pos2bool(pos):\n",
    "    if pos == \"D\":\n",
    "        return 0\n",
    "    if pos == \"F\":\n",
    "        return 1\n",
    "        \n",
    "df['Pos'] = df['Pos'].apply(Pos2bool)"
   ]
  },
  {
   "cell_type": "code",
   "execution_count": 295,
   "id": "b8c95bea",
   "metadata": {},
   "outputs": [],
   "source": [
    "# Remove '%' symbol from columns\n",
    "def perc_rem(string):\n",
    "    return string.replace('%','')\n",
    "\n",
    "df['PPP%'] = df['PPP%'].apply(perc_rem)\n",
    "df['FO%'] = df['FO%'].apply(perc_rem)\n",
    "df['SH%'] = df['SH%'].apply(perc_rem)"
   ]
  },
  {
   "cell_type": "code",
   "execution_count": 296,
   "id": "74b149e9",
   "metadata": {},
   "outputs": [
    {
     "data": {
      "text/html": [
       "<div>\n",
       "<style scoped>\n",
       "    .dataframe tbody tr th:only-of-type {\n",
       "        vertical-align: middle;\n",
       "    }\n",
       "\n",
       "    .dataframe tbody tr th {\n",
       "        vertical-align: top;\n",
       "    }\n",
       "\n",
       "    .dataframe thead th {\n",
       "        text-align: right;\n",
       "    }\n",
       "</style>\n",
       "<table border=\"1\" class=\"dataframe\">\n",
       "  <thead>\n",
       "    <tr style=\"text-align: right;\">\n",
       "      <th></th>\n",
       "      <th>Age</th>\n",
       "      <th>Pos</th>\n",
       "      <th>GP</th>\n",
       "      <th>G</th>\n",
       "      <th>A</th>\n",
       "      <th>P</th>\n",
       "      <th>PIM</th>\n",
       "      <th>+/-</th>\n",
       "      <th>TOI</th>\n",
       "      <th>ES</th>\n",
       "      <th>...</th>\n",
       "      <th>G/GP</th>\n",
       "      <th>A/GP</th>\n",
       "      <th>P/GP</th>\n",
       "      <th>SHOTS</th>\n",
       "      <th>SH%</th>\n",
       "      <th>HITS</th>\n",
       "      <th>BS</th>\n",
       "      <th>FOW</th>\n",
       "      <th>FOL</th>\n",
       "      <th>FO%</th>\n",
       "    </tr>\n",
       "    <tr>\n",
       "      <th>Name</th>\n",
       "      <th></th>\n",
       "      <th></th>\n",
       "      <th></th>\n",
       "      <th></th>\n",
       "      <th></th>\n",
       "      <th></th>\n",
       "      <th></th>\n",
       "      <th></th>\n",
       "      <th></th>\n",
       "      <th></th>\n",
       "      <th></th>\n",
       "      <th></th>\n",
       "      <th></th>\n",
       "      <th></th>\n",
       "      <th></th>\n",
       "      <th></th>\n",
       "      <th></th>\n",
       "      <th></th>\n",
       "      <th></th>\n",
       "      <th></th>\n",
       "      <th></th>\n",
       "    </tr>\n",
       "  </thead>\n",
       "  <tbody>\n",
       "    <tr>\n",
       "      <th>Anton Lundell</th>\n",
       "      <td>21</td>\n",
       "      <td>1</td>\n",
       "      <td>13</td>\n",
       "      <td>1</td>\n",
       "      <td>7</td>\n",
       "      <td>8</td>\n",
       "      <td>4</td>\n",
       "      <td>6</td>\n",
       "      <td>1063</td>\n",
       "      <td>735</td>\n",
       "      <td>...</td>\n",
       "      <td>0.077</td>\n",
       "      <td>0.538</td>\n",
       "      <td>0.615</td>\n",
       "      <td>33</td>\n",
       "      <td>3.0</td>\n",
       "      <td>7</td>\n",
       "      <td>10</td>\n",
       "      <td>80</td>\n",
       "      <td>83</td>\n",
       "      <td>49.08</td>\n",
       "    </tr>\n",
       "    <tr>\n",
       "      <th>Shane Pinto</th>\n",
       "      <td>22</td>\n",
       "      <td>1</td>\n",
       "      <td>11</td>\n",
       "      <td>6</td>\n",
       "      <td>1</td>\n",
       "      <td>7</td>\n",
       "      <td>2</td>\n",
       "      <td>2</td>\n",
       "      <td>921</td>\n",
       "      <td>768</td>\n",
       "      <td>...</td>\n",
       "      <td>0.545</td>\n",
       "      <td>0.091</td>\n",
       "      <td>0.636</td>\n",
       "      <td>23</td>\n",
       "      <td>26.1</td>\n",
       "      <td>10</td>\n",
       "      <td>2</td>\n",
       "      <td>59</td>\n",
       "      <td>44</td>\n",
       "      <td>57.28</td>\n",
       "    </tr>\n",
       "    <tr>\n",
       "      <th>Lawson Crouse</th>\n",
       "      <td>25</td>\n",
       "      <td>1</td>\n",
       "      <td>11</td>\n",
       "      <td>5</td>\n",
       "      <td>2</td>\n",
       "      <td>7</td>\n",
       "      <td>2</td>\n",
       "      <td>-3</td>\n",
       "      <td>1045</td>\n",
       "      <td>756</td>\n",
       "      <td>...</td>\n",
       "      <td>0.455</td>\n",
       "      <td>0.182</td>\n",
       "      <td>0.636</td>\n",
       "      <td>23</td>\n",
       "      <td>21.7</td>\n",
       "      <td>30</td>\n",
       "      <td>5</td>\n",
       "      <td>1</td>\n",
       "      <td>2</td>\n",
       "      <td>33.33</td>\n",
       "    </tr>\n",
       "    <tr>\n",
       "      <th>Charlie Coyle</th>\n",
       "      <td>30</td>\n",
       "      <td>1</td>\n",
       "      <td>13</td>\n",
       "      <td>5</td>\n",
       "      <td>2</td>\n",
       "      <td>7</td>\n",
       "      <td>6</td>\n",
       "      <td>6</td>\n",
       "      <td>1060</td>\n",
       "      <td>785</td>\n",
       "      <td>...</td>\n",
       "      <td>0.385</td>\n",
       "      <td>0.154</td>\n",
       "      <td>0.538</td>\n",
       "      <td>25</td>\n",
       "      <td>20.0</td>\n",
       "      <td>13</td>\n",
       "      <td>12</td>\n",
       "      <td>79</td>\n",
       "      <td>63</td>\n",
       "      <td>55.63</td>\n",
       "    </tr>\n",
       "    <tr>\n",
       "      <th>Brad Marchand</th>\n",
       "      <td>34</td>\n",
       "      <td>1</td>\n",
       "      <td>5</td>\n",
       "      <td>4</td>\n",
       "      <td>3</td>\n",
       "      <td>7</td>\n",
       "      <td>0</td>\n",
       "      <td>2</td>\n",
       "      <td>1132</td>\n",
       "      <td>856</td>\n",
       "      <td>...</td>\n",
       "      <td>0.8</td>\n",
       "      <td>0.6</td>\n",
       "      <td>1.4</td>\n",
       "      <td>17</td>\n",
       "      <td>23.5</td>\n",
       "      <td>10</td>\n",
       "      <td>1</td>\n",
       "      <td>1</td>\n",
       "      <td>2</td>\n",
       "      <td>33.33</td>\n",
       "    </tr>\n",
       "    <tr>\n",
       "      <th>...</th>\n",
       "      <td>...</td>\n",
       "      <td>...</td>\n",
       "      <td>...</td>\n",
       "      <td>...</td>\n",
       "      <td>...</td>\n",
       "      <td>...</td>\n",
       "      <td>...</td>\n",
       "      <td>...</td>\n",
       "      <td>...</td>\n",
       "      <td>...</td>\n",
       "      <td>...</td>\n",
       "      <td>...</td>\n",
       "      <td>...</td>\n",
       "      <td>...</td>\n",
       "      <td>...</td>\n",
       "      <td>...</td>\n",
       "      <td>...</td>\n",
       "      <td>...</td>\n",
       "      <td>...</td>\n",
       "      <td>...</td>\n",
       "      <td>...</td>\n",
       "    </tr>\n",
       "    <tr>\n",
       "      <th>Jacob MacDonald</th>\n",
       "      <td>29</td>\n",
       "      <td>0</td>\n",
       "      <td>4</td>\n",
       "      <td>0</td>\n",
       "      <td>0</td>\n",
       "      <td>0</td>\n",
       "      <td>0</td>\n",
       "      <td>1</td>\n",
       "      <td>441</td>\n",
       "      <td>426</td>\n",
       "      <td>...</td>\n",
       "      <td>0</td>\n",
       "      <td>0</td>\n",
       "      <td>0</td>\n",
       "      <td>1</td>\n",
       "      <td>0.0</td>\n",
       "      <td>3</td>\n",
       "      <td>0</td>\n",
       "      <td>0</td>\n",
       "      <td>0</td>\n",
       "      <td>0.00</td>\n",
       "    </tr>\n",
       "    <tr>\n",
       "      <th>Kieffer Bellows</th>\n",
       "      <td>24</td>\n",
       "      <td>1</td>\n",
       "      <td>4</td>\n",
       "      <td>0</td>\n",
       "      <td>0</td>\n",
       "      <td>0</td>\n",
       "      <td>0</td>\n",
       "      <td>-2</td>\n",
       "      <td>682</td>\n",
       "      <td>624</td>\n",
       "      <td>...</td>\n",
       "      <td>0</td>\n",
       "      <td>0</td>\n",
       "      <td>0</td>\n",
       "      <td>2</td>\n",
       "      <td>0.0</td>\n",
       "      <td>10</td>\n",
       "      <td>1</td>\n",
       "      <td>1</td>\n",
       "      <td>0</td>\n",
       "      <td>100.00</td>\n",
       "    </tr>\n",
       "    <tr>\n",
       "      <th>Logan Brown</th>\n",
       "      <td>24</td>\n",
       "      <td>1</td>\n",
       "      <td>4</td>\n",
       "      <td>0</td>\n",
       "      <td>0</td>\n",
       "      <td>0</td>\n",
       "      <td>0</td>\n",
       "      <td>-2</td>\n",
       "      <td>604</td>\n",
       "      <td>559</td>\n",
       "      <td>...</td>\n",
       "      <td>0</td>\n",
       "      <td>0</td>\n",
       "      <td>0</td>\n",
       "      <td>3</td>\n",
       "      <td>0.0</td>\n",
       "      <td>3</td>\n",
       "      <td>2</td>\n",
       "      <td>4</td>\n",
       "      <td>14</td>\n",
       "      <td>22.22</td>\n",
       "    </tr>\n",
       "    <tr>\n",
       "      <th>Vitaly Kravtsov</th>\n",
       "      <td>23</td>\n",
       "      <td>1</td>\n",
       "      <td>4</td>\n",
       "      <td>0</td>\n",
       "      <td>0</td>\n",
       "      <td>0</td>\n",
       "      <td>0</td>\n",
       "      <td>1</td>\n",
       "      <td>433</td>\n",
       "      <td>393</td>\n",
       "      <td>...</td>\n",
       "      <td>0</td>\n",
       "      <td>0</td>\n",
       "      <td>0</td>\n",
       "      <td>0</td>\n",
       "      <td>0.00</td>\n",
       "      <td>3</td>\n",
       "      <td>1</td>\n",
       "      <td>0</td>\n",
       "      <td>0</td>\n",
       "      <td>0.00</td>\n",
       "    </tr>\n",
       "    <tr>\n",
       "      <th>Adam Boqvist</th>\n",
       "      <td>22</td>\n",
       "      <td>0</td>\n",
       "      <td>4</td>\n",
       "      <td>0</td>\n",
       "      <td>0</td>\n",
       "      <td>0</td>\n",
       "      <td>0</td>\n",
       "      <td>-1</td>\n",
       "      <td>956</td>\n",
       "      <td>849</td>\n",
       "      <td>...</td>\n",
       "      <td>0</td>\n",
       "      <td>0</td>\n",
       "      <td>0</td>\n",
       "      <td>3</td>\n",
       "      <td>0.0</td>\n",
       "      <td>2</td>\n",
       "      <td>4</td>\n",
       "      <td>0</td>\n",
       "      <td>0</td>\n",
       "      <td>0.00</td>\n",
       "    </tr>\n",
       "  </tbody>\n",
       "</table>\n",
       "<p>722 rows × 47 columns</p>\n",
       "</div>"
      ],
      "text/plain": [
       "0               Age  Pos  GP  G  A  P PIM +/-   TOI   ES  ...   G/GP   A/GP  \\\n",
       "Name                                                      ...                 \n",
       "Anton Lundell    21    1  13  1  7  8   4   6  1063  735  ...  0.077  0.538   \n",
       "Shane Pinto      22    1  11  6  1  7   2   2   921  768  ...  0.545  0.091   \n",
       "Lawson Crouse    25    1  11  5  2  7   2  -3  1045  756  ...  0.455  0.182   \n",
       "Charlie Coyle    30    1  13  5  2  7   6   6  1060  785  ...  0.385  0.154   \n",
       "Brad Marchand    34    1   5  4  3  7   0   2  1132  856  ...    0.8    0.6   \n",
       "...              ..  ...  .. .. .. ..  ..  ..   ...  ...  ...    ...    ...   \n",
       "Jacob MacDonald  29    0   4  0  0  0   0   1   441  426  ...      0      0   \n",
       "Kieffer Bellows  24    1   4  0  0  0   0  -2   682  624  ...      0      0   \n",
       "Logan Brown      24    1   4  0  0  0   0  -2   604  559  ...      0      0   \n",
       "Vitaly Kravtsov  23    1   4  0  0  0   0   1   433  393  ...      0      0   \n",
       "Adam Boqvist     22    0   4  0  0  0   0  -1   956  849  ...      0      0   \n",
       "\n",
       "0                 P/GP SHOTS   SH% HITS  BS FOW FOL     FO%  \n",
       "Name                                                         \n",
       "Anton Lundell    0.615    33   3.0    7  10  80  83   49.08  \n",
       "Shane Pinto      0.636    23  26.1   10   2  59  44   57.28  \n",
       "Lawson Crouse    0.636    23  21.7   30   5   1   2   33.33  \n",
       "Charlie Coyle    0.538    25  20.0   13  12  79  63   55.63  \n",
       "Brad Marchand      1.4    17  23.5   10   1   1   2   33.33  \n",
       "...                ...   ...   ...  ...  ..  ..  ..     ...  \n",
       "Jacob MacDonald      0     1   0.0    3   0   0   0    0.00  \n",
       "Kieffer Bellows      0     2   0.0   10   1   1   0  100.00  \n",
       "Logan Brown          0     3   0.0    3   2   4  14   22.22  \n",
       "Vitaly Kravtsov      0     0  0.00    3   1   0   0    0.00  \n",
       "Adam Boqvist         0     3   0.0    2   4   0   0    0.00  \n",
       "\n",
       "[722 rows x 47 columns]"
      ]
     },
     "execution_count": 296,
     "metadata": {},
     "output_type": "execute_result"
    }
   ],
   "source": [
    "df.set_index('Name')"
   ]
  },
  {
   "cell_type": "code",
   "execution_count": 297,
   "id": "cfdebf69",
   "metadata": {},
   "outputs": [],
   "source": [
    "# Create dataframe with season-end Data\n",
    "m = 0 # counter to grab only first header\n",
    "for file in listdir(\"Data/end/\"):\n",
    "    try: \n",
    "        dfa = pd.read_excel(\"Data/end/\" + file, sheet_name = 1)\n",
    "        m += 1\n",
    "        header = dfa.iloc[0]\n",
    "        if m == 1:\n",
    "            dfend = pd.DataFrame(columns = header)\n",
    "        dfa = dfa[1:]\n",
    "        dfa.columns = header\n",
    "        dfend = pd.concat([dfa, dfend])\n",
    "    except ValueError: # so non-excel files aren't grabbed\n",
    "        pass"
   ]
  },
  {
   "cell_type": "code",
   "execution_count": 298,
   "id": "de861025",
   "metadata": {},
   "outputs": [
    {
     "data": {
      "text/html": [
       "<div>\n",
       "<style scoped>\n",
       "    .dataframe tbody tr th:only-of-type {\n",
       "        vertical-align: middle;\n",
       "    }\n",
       "\n",
       "    .dataframe tbody tr th {\n",
       "        vertical-align: top;\n",
       "    }\n",
       "\n",
       "    .dataframe thead th {\n",
       "        text-align: right;\n",
       "    }\n",
       "</style>\n",
       "<table border=\"1\" class=\"dataframe\">\n",
       "  <thead>\n",
       "    <tr style=\"text-align: right;\">\n",
       "      <th></th>\n",
       "      <th>Pend</th>\n",
       "    </tr>\n",
       "    <tr>\n",
       "      <th>Name</th>\n",
       "      <th></th>\n",
       "    </tr>\n",
       "  </thead>\n",
       "  <tbody>\n",
       "    <tr>\n",
       "      <th>Kyle Palmieri</th>\n",
       "      <td>33</td>\n",
       "    </tr>\n",
       "    <tr>\n",
       "      <th>Kevin Labanc</th>\n",
       "      <td>33</td>\n",
       "    </tr>\n",
       "    <tr>\n",
       "      <th>Anton Lundell</th>\n",
       "      <td>33</td>\n",
       "    </tr>\n",
       "    <tr>\n",
       "      <th>Sonny Milano</th>\n",
       "      <td>33</td>\n",
       "    </tr>\n",
       "    <tr>\n",
       "      <th>John Klingberg</th>\n",
       "      <td>33</td>\n",
       "    </tr>\n",
       "    <tr>\n",
       "      <th>...</th>\n",
       "      <td>...</td>\n",
       "    </tr>\n",
       "    <tr>\n",
       "      <th>Viktor Arvidsson</th>\n",
       "      <td>59</td>\n",
       "    </tr>\n",
       "    <tr>\n",
       "      <th>Roman Josi</th>\n",
       "      <td>59</td>\n",
       "    </tr>\n",
       "    <tr>\n",
       "      <th>Casey Mittelstadt</th>\n",
       "      <td>59</td>\n",
       "    </tr>\n",
       "    <tr>\n",
       "      <th>Patrice Bergeron</th>\n",
       "      <td>58</td>\n",
       "    </tr>\n",
       "    <tr>\n",
       "      <th>Nick Schmaltz</th>\n",
       "      <td>58</td>\n",
       "    </tr>\n",
       "  </tbody>\n",
       "</table>\n",
       "<p>600 rows × 1 columns</p>\n",
       "</div>"
      ],
      "text/plain": [
       "0                 Pend\n",
       "Name                  \n",
       "Kyle Palmieri       33\n",
       "Kevin Labanc        33\n",
       "Anton Lundell       33\n",
       "Sonny Milano        33\n",
       "John Klingberg      33\n",
       "...                ...\n",
       "Viktor Arvidsson    59\n",
       "Roman Josi          59\n",
       "Casey Mittelstadt   59\n",
       "Patrice Bergeron    58\n",
       "Nick Schmaltz       58\n",
       "\n",
       "[600 rows x 1 columns]"
      ]
     },
     "execution_count": 298,
     "metadata": {},
     "output_type": "execute_result"
    }
   ],
   "source": [
    "# Keep only name and points total\n",
    "dfend = dfend[['Name', 'P']]\n",
    "dfend = dfend.rename(columns={'P': 'Pend'})\n",
    "dfend.set_index('Name')"
   ]
  },
  {
   "cell_type": "code",
   "execution_count": 299,
   "id": "1a7c8a7d",
   "metadata": {},
   "outputs": [],
   "source": [
    "#Join the two datasets\n",
    "df = df.set_index('Name').join(dfend.set_index('Name'))"
   ]
  },
  {
   "cell_type": "code",
   "execution_count": 300,
   "id": "4ee24b53",
   "metadata": {},
   "outputs": [],
   "source": [
    "#Remove rows where Pend is less than 10\n",
    "df = df[df.Pend > 9]"
   ]
  },
  {
   "cell_type": "markdown",
   "id": "5697025d",
   "metadata": {},
   "source": [
    "# Exploratory Data Analysis"
   ]
  },
  {
   "cell_type": "code",
   "execution_count": 301,
   "id": "254f20be",
   "metadata": {
    "scrolled": true
   },
   "outputs": [
    {
     "data": {
      "image/png": "[encoded data removed]",
      "text/plain": [
       "<Figure size 600x400 with 1 Axes>"
      ]
     },
     "metadata": {},
     "output_type": "display_data"
    }
   ],
   "source": [
    "plt.figure(figsize=(6, 4))\n",
    "\n",
    "sns.histplot(df.Pend, bins=40, color='blue', alpha=0.8)\n",
    "plt.ylabel('Frequency')\n",
    "plt.xlabel('Points at End of Season')\n",
    "plt.title('Points Amongst NHL Players in 2022-2023 Season')\n",
    "\n",
    "plt.show()"
   ]
  },
  {
   "cell_type": "code",
   "execution_count": 302,
   "id": "beb30993",
   "metadata": {},
   "outputs": [
    {
     "data": {
      "image/png": "[encoded data removed]",
      "text/plain": [
       "<Figure size 640x480 with 1 Axes>"
      ]
     },
     "metadata": {},
     "output_type": "display_data"
    }
   ],
   "source": [
    "plt.scatter(df.P, df.Pend)\n",
    "\n",
    "plt.ylabel('Points at End of Season')\n",
    "plt.xlabel('Points 1 Month into Season')\n",
    "plt.show()"
   ]
  },
  {
   "cell_type": "markdown",
   "id": "776e4452",
   "metadata": {},
   "source": [
    "# Split Data"
   ]
  },
  {
   "cell_type": "code",
   "execution_count": 303,
   "id": "4178fd6a",
   "metadata": {},
   "outputs": [],
   "source": [
    "# Convert all data to numerical values\n",
    "for col in list(df.columns):\n",
    "    df[col] = pd.to_numeric(df[col])"
   ]
  },
  {
   "cell_type": "code",
   "execution_count": 304,
   "id": "fab8f04d",
   "metadata": {},
   "outputs": [],
   "source": [
    "n = len(df)\n",
    "\n",
    "n_val = int(n * 0.2)\n",
    "n_test = int(n * 0.2)\n",
    "n_train = n - (n_val + n_test)"
   ]
  },
  {
   "cell_type": "code",
   "execution_count": 305,
   "id": "27a49899",
   "metadata": {},
   "outputs": [
    {
     "data": {
      "text/plain": [
       "(567, 567)"
      ]
     },
     "execution_count": 305,
     "metadata": {},
     "output_type": "execute_result"
    }
   ],
   "source": [
    "n, n_val + n_test + n_train"
   ]
  },
  {
   "cell_type": "code",
   "execution_count": 306,
   "id": "c39076d6",
   "metadata": {},
   "outputs": [],
   "source": [
    "idx = np.arange(n)\n",
    "np.random.shuffle(idx)\n",
    "\n",
    "df_shuffled = df.iloc[idx]\n",
    "\n",
    "df_train = df_shuffled.iloc[:n_train].copy()\n",
    "df_val = df_shuffled.iloc[n_train:n_train+n_val].copy()\n",
    "df_test = df_shuffled.iloc[n_train+n_val:].copy()"
   ]
  },
  {
   "cell_type": "code",
   "execution_count": 307,
   "id": "42e8e7b0",
   "metadata": {},
   "outputs": [],
   "source": [
    "y_train = df_train.Pend\n",
    "y_val = df_val.Pend\n",
    "y_test = df_test.Pend\n",
    "\n",
    "del df_train['Pend']\n",
    "del df_val['Pend']\n",
    "del df_test['Pend']"
   ]
  },
  {
   "cell_type": "markdown",
   "id": "eccbc456",
   "metadata": {},
   "source": [
    "# Linear Regression"
   ]
  },
  {
   "cell_type": "code",
   "execution_count": 308,
   "id": "26929042",
   "metadata": {},
   "outputs": [],
   "source": [
    "def train_linear_regression(X, y):\n",
    "    ones = np.ones(X.shape[0])\n",
    "    X = np.column_stack([ones, X])\n",
    "\n",
    "    XTX = X.T.dot(X)\n",
    "    XTX_inv = np.linalg.inv(XTX)\n",
    "    w = XTX_inv.dot(X.T).dot(y)\n",
    "    \n",
    "    return w[0], w[1:]"
   ]
  },
  {
   "cell_type": "markdown",
   "id": "01536945",
   "metadata": {},
   "source": [
    "# Try Regressing"
   ]
  },
  {
   "cell_type": "code",
   "execution_count": 309,
   "id": "c6bb9ee8",
   "metadata": {},
   "outputs": [],
   "source": [
    "base = list(df_train.columns)"
   ]
  },
  {
   "cell_type": "code",
   "execution_count": 310,
   "id": "94928bf8",
   "metadata": {},
   "outputs": [],
   "source": [
    "def prepare_X(df):\n",
    "    df_num = df[base]\n",
    "    df_num = df_num.fillna(0)\n",
    "    X = df_num.values\n",
    "    return X"
   ]
  },
  {
   "cell_type": "code",
   "execution_count": 311,
   "id": "27fc2cf3",
   "metadata": {},
   "outputs": [],
   "source": [
    "X_train = prepare_X(df_train)"
   ]
  },
  {
   "cell_type": "code",
   "execution_count": 312,
   "id": "959b02c8",
   "metadata": {},
   "outputs": [],
   "source": [
    "w_0, w = train_linear_regression(X_train, y_train)"
   ]
  },
  {
   "cell_type": "code",
   "execution_count": 313,
   "id": "253aaa23",
   "metadata": {},
   "outputs": [],
   "source": [
    "y_train_pred = w_0 + X_train.dot(w)\n",
    "\n",
    "\n",
    "X_val = prepare_X(df_val)\n",
    "y_val_pred = w_0 + X_val.dot(w)"
   ]
  },
  {
   "cell_type": "markdown",
   "id": "45888f36",
   "metadata": {},
   "source": [
    "## Evaluate Accuracy"
   ]
  },
  {
   "cell_type": "code",
   "execution_count": 314,
   "id": "32cda190",
   "metadata": {},
   "outputs": [
    {
     "data": {
      "image/png": "[encoded data removed]",
      "text/plain": [
       "<Figure size 600x400 with 1 Axes>"
      ]
     },
     "metadata": {},
     "output_type": "display_data"
    }
   ],
   "source": [
    "plt.figure(figsize=(6, 4))\n",
    "\n",
    "sns.histplot(y_train, label='target', color='#222222', alpha=0.6, bins=40)\n",
    "sns.histplot(y_train_pred, label='prediction', color='#aaaaaa', alpha=0.8, bins=40)\n",
    "\n",
    "plt.legend()\n",
    "\n",
    "plt.ylabel('Frequency')\n",
    "plt.xlabel('Points at End of Season')\n",
    "plt.title('Predictions vs Actual Distribution')\n",
    "\n",
    "plt.show()"
   ]
  },
  {
   "cell_type": "code",
   "execution_count": 315,
   "id": "9e7d9a86",
   "metadata": {},
   "outputs": [],
   "source": [
    "def rmse(y, y_pred):\n",
    "    error = y_pred - y\n",
    "    mse = (error ** 2).mean()\n",
    "    return np.sqrt(mse)\n",
    "\n",
    "def mae(y, y_pred):\n",
    "    error = abs(y_pred - y)\n",
    "    return error.mean()"
   ]
  },
  {
   "cell_type": "code",
   "execution_count": 316,
   "id": "47765fc2",
   "metadata": {},
   "outputs": [
    {
     "name": "stdout",
     "output_type": "stream",
     "text": [
      "train: \n",
      " rmse = 11623.4704895972 \n",
      " mae =  9314.40960106405\n",
      "validation: \n",
      " rmse = 13098.983053849748 \n",
      " mae =  10632.734276567366\n"
     ]
    }
   ],
   "source": [
    "print('train:', '\\n rmse =', rmse(y_train, y_train_pred), '\\n mae = ', mae(y_train, y_train_pred))\n",
    "print('validation:', '\\n rmse =', rmse(y_val, y_val_pred), '\\n mae = ', mae(y_val, y_val_pred))"
   ]
  },
  {
   "cell_type": "markdown",
   "id": "3e5074b4",
   "metadata": {},
   "source": [
    "# Regularization"
   ]
  },
  {
   "cell_type": "code",
   "execution_count": 317,
   "id": "ba4b41a4",
   "metadata": {},
   "outputs": [],
   "source": [
    "# The columns of df are not linearly independent (e.g., P = G + A), so we have to regularize.\n",
    "\n",
    "def train_linear_regression_reg(X, y, r=0.0):\n",
    "    ones = np.ones(X.shape[0])\n",
    "    X = np.column_stack([ones, X])\n",
    "\n",
    "    XTX = X.T.dot(X)\n",
    "    reg = r * np.eye(XTX.shape[0])\n",
    "    XTX = XTX + reg\n",
    "\n",
    "    XTX_inv = np.linalg.inv(XTX)\n",
    "    w = XTX_inv.dot(X.T).dot(y)\n",
    "    \n",
    "    return w[0], w[1:]"
   ]
  },
  {
   "cell_type": "code",
   "execution_count": 318,
   "id": "2af57d4c",
   "metadata": {},
   "outputs": [],
   "source": [
    "X_train = prepare_X(df_train)\n",
    "w_0, w = train_linear_regression_reg(X_train, y_train, r=0.01)\n",
    "y_train_pred = w_0 + X_train.dot(w)\n",
    "\n",
    "\n",
    "X_val = prepare_X(df_val)\n",
    "y_val_pred = w_0 + X_val.dot(w)"
   ]
  },
  {
   "cell_type": "code",
   "execution_count": 319,
   "id": "8e7edb92",
   "metadata": {},
   "outputs": [
    {
     "name": "stdout",
     "output_type": "stream",
     "text": [
      "train: \n",
      " rmse = 10.389254455054724 \n",
      " mae =  7.8026921110992795\n",
      "validation: \n",
      " rmse = 11.705346278584923 \n",
      " mae =  8.466236535352138\n"
     ]
    }
   ],
   "source": [
    "print('train:', '\\n rmse =', rmse(y_train, y_train_pred), '\\n mae = ', mae(y_train, y_train_pred))\n",
    "print('validation:', '\\n rmse =', rmse(y_val, y_val_pred), '\\n mae = ', mae(y_val, y_val_pred))"
   ]
  },
  {
   "cell_type": "code",
   "execution_count": 320,
   "id": "1f51e1c3",
   "metadata": {
    "scrolled": true
   },
   "outputs": [
    {
     "data": {
      "image/png": "[encoded data removed]",
      "text/plain": [
       "<Figure size 600x400 with 1 Axes>"
      ]
     },
     "metadata": {},
     "output_type": "display_data"
    }
   ],
   "source": [
    "plt.figure(figsize=(6, 4))\n",
    "\n",
    "sns.histplot(y_train, label='target', color='#222222', alpha=0.6, bins=40)\n",
    "sns.histplot(y_train_pred, label='prediction', color='#aaaaaa', alpha=0.8, bins=40)\n",
    "\n",
    "plt.legend()\n",
    "\n",
    "plt.ylabel('Frequency')\n",
    "plt.xlabel('Points at End of Season')\n",
    "plt.title('Predictions vs Actual Distribution')\n",
    "\n",
    "plt.show()"
   ]
  },
  {
   "cell_type": "markdown",
   "id": "ad004118",
   "metadata": {},
   "source": [
    "## Use the model to predict"
   ]
  },
  {
   "cell_type": "code",
   "execution_count": 321,
   "id": "c65ae041",
   "metadata": {},
   "outputs": [
    {
     "data": {
      "text/html": [
       "<div>\n",
       "<style scoped>\n",
       "    .dataframe tbody tr th:only-of-type {\n",
       "        vertical-align: middle;\n",
       "    }\n",
       "\n",
       "    .dataframe tbody tr th {\n",
       "        vertical-align: top;\n",
       "    }\n",
       "\n",
       "    .dataframe thead th {\n",
       "        text-align: right;\n",
       "    }\n",
       "</style>\n",
       "<table border=\"1\" class=\"dataframe\">\n",
       "  <thead>\n",
       "    <tr style=\"text-align: right;\">\n",
       "      <th></th>\n",
       "      <th>Name</th>\n",
       "      <th>Age</th>\n",
       "      <th>Pos</th>\n",
       "      <th>GP</th>\n",
       "      <th>G</th>\n",
       "      <th>A</th>\n",
       "      <th>P</th>\n",
       "      <th>PIM</th>\n",
       "      <th>+/-</th>\n",
       "      <th>TOI</th>\n",
       "      <th>...</th>\n",
       "      <th>G/GP</th>\n",
       "      <th>A/GP</th>\n",
       "      <th>P/GP</th>\n",
       "      <th>SHOTS</th>\n",
       "      <th>SH%</th>\n",
       "      <th>HITS</th>\n",
       "      <th>BS</th>\n",
       "      <th>FOW</th>\n",
       "      <th>FOL</th>\n",
       "      <th>FO%</th>\n",
       "    </tr>\n",
       "  </thead>\n",
       "  <tbody>\n",
       "    <tr>\n",
       "      <th>0</th>\n",
       "      <td>Drew Doughty</td>\n",
       "      <td>33</td>\n",
       "      <td>0</td>\n",
       "      <td>14</td>\n",
       "      <td>1</td>\n",
       "      <td>5</td>\n",
       "      <td>6</td>\n",
       "      <td>12</td>\n",
       "      <td>0</td>\n",
       "      <td>1598</td>\n",
       "      <td>...</td>\n",
       "      <td>0.071</td>\n",
       "      <td>0.357</td>\n",
       "      <td>0.429</td>\n",
       "      <td>28</td>\n",
       "      <td>3.6</td>\n",
       "      <td>21</td>\n",
       "      <td>17</td>\n",
       "      <td>0</td>\n",
       "      <td>0</td>\n",
       "      <td>0.00</td>\n",
       "    </tr>\n",
       "    <tr>\n",
       "      <th>1</th>\n",
       "      <td>Brent Burns</td>\n",
       "      <td>37</td>\n",
       "      <td>0</td>\n",
       "      <td>12</td>\n",
       "      <td>2</td>\n",
       "      <td>7</td>\n",
       "      <td>9</td>\n",
       "      <td>8</td>\n",
       "      <td>-2</td>\n",
       "      <td>1410</td>\n",
       "      <td>...</td>\n",
       "      <td>0.167</td>\n",
       "      <td>0.583</td>\n",
       "      <td>0.750</td>\n",
       "      <td>51</td>\n",
       "      <td>3.9</td>\n",
       "      <td>6</td>\n",
       "      <td>8</td>\n",
       "      <td>0</td>\n",
       "      <td>0</td>\n",
       "      <td>0.00</td>\n",
       "    </tr>\n",
       "    <tr>\n",
       "      <th>2</th>\n",
       "      <td>Paul Stastny</td>\n",
       "      <td>37</td>\n",
       "      <td>1</td>\n",
       "      <td>12</td>\n",
       "      <td>0</td>\n",
       "      <td>4</td>\n",
       "      <td>4</td>\n",
       "      <td>10</td>\n",
       "      <td>0</td>\n",
       "      <td>734</td>\n",
       "      <td>...</td>\n",
       "      <td>0.000</td>\n",
       "      <td>0.333</td>\n",
       "      <td>0.333</td>\n",
       "      <td>7</td>\n",
       "      <td>0.0</td>\n",
       "      <td>7</td>\n",
       "      <td>0</td>\n",
       "      <td>29</td>\n",
       "      <td>19</td>\n",
       "      <td>60.42</td>\n",
       "    </tr>\n",
       "    <tr>\n",
       "      <th>3</th>\n",
       "      <td>Vladislav Gavrikov</td>\n",
       "      <td>27</td>\n",
       "      <td>0</td>\n",
       "      <td>12</td>\n",
       "      <td>1</td>\n",
       "      <td>1</td>\n",
       "      <td>2</td>\n",
       "      <td>6</td>\n",
       "      <td>-4</td>\n",
       "      <td>1274</td>\n",
       "      <td>...</td>\n",
       "      <td>0.083</td>\n",
       "      <td>0.083</td>\n",
       "      <td>0.167</td>\n",
       "      <td>14</td>\n",
       "      <td>7.1</td>\n",
       "      <td>17</td>\n",
       "      <td>20</td>\n",
       "      <td>0</td>\n",
       "      <td>0</td>\n",
       "      <td>0.00</td>\n",
       "    </tr>\n",
       "    <tr>\n",
       "      <th>4</th>\n",
       "      <td>Noah Dobson</td>\n",
       "      <td>22</td>\n",
       "      <td>0</td>\n",
       "      <td>13</td>\n",
       "      <td>4</td>\n",
       "      <td>5</td>\n",
       "      <td>9</td>\n",
       "      <td>2</td>\n",
       "      <td>1</td>\n",
       "      <td>1223</td>\n",
       "      <td>...</td>\n",
       "      <td>0.308</td>\n",
       "      <td>0.385</td>\n",
       "      <td>0.692</td>\n",
       "      <td>33</td>\n",
       "      <td>12.1</td>\n",
       "      <td>8</td>\n",
       "      <td>18</td>\n",
       "      <td>0</td>\n",
       "      <td>0</td>\n",
       "      <td>0.00</td>\n",
       "    </tr>\n",
       "    <tr>\n",
       "      <th>...</th>\n",
       "      <td>...</td>\n",
       "      <td>...</td>\n",
       "      <td>...</td>\n",
       "      <td>...</td>\n",
       "      <td>...</td>\n",
       "      <td>...</td>\n",
       "      <td>...</td>\n",
       "      <td>...</td>\n",
       "      <td>...</td>\n",
       "      <td>...</td>\n",
       "      <td>...</td>\n",
       "      <td>...</td>\n",
       "      <td>...</td>\n",
       "      <td>...</td>\n",
       "      <td>...</td>\n",
       "      <td>...</td>\n",
       "      <td>...</td>\n",
       "      <td>...</td>\n",
       "      <td>...</td>\n",
       "      <td>...</td>\n",
       "      <td>...</td>\n",
       "    </tr>\n",
       "    <tr>\n",
       "      <th>108</th>\n",
       "      <td>J.J. Moser</td>\n",
       "      <td>22</td>\n",
       "      <td>0</td>\n",
       "      <td>11</td>\n",
       "      <td>1</td>\n",
       "      <td>4</td>\n",
       "      <td>5</td>\n",
       "      <td>6</td>\n",
       "      <td>-6</td>\n",
       "      <td>1397</td>\n",
       "      <td>...</td>\n",
       "      <td>0.091</td>\n",
       "      <td>0.364</td>\n",
       "      <td>0.455</td>\n",
       "      <td>11</td>\n",
       "      <td>9.1</td>\n",
       "      <td>10</td>\n",
       "      <td>25</td>\n",
       "      <td>0</td>\n",
       "      <td>0</td>\n",
       "      <td>0.00</td>\n",
       "    </tr>\n",
       "    <tr>\n",
       "      <th>109</th>\n",
       "      <td>Craig Smith</td>\n",
       "      <td>33</td>\n",
       "      <td>1</td>\n",
       "      <td>8</td>\n",
       "      <td>1</td>\n",
       "      <td>2</td>\n",
       "      <td>3</td>\n",
       "      <td>2</td>\n",
       "      <td>2</td>\n",
       "      <td>668</td>\n",
       "      <td>...</td>\n",
       "      <td>0.125</td>\n",
       "      <td>0.250</td>\n",
       "      <td>0.375</td>\n",
       "      <td>11</td>\n",
       "      <td>9.1</td>\n",
       "      <td>9</td>\n",
       "      <td>3</td>\n",
       "      <td>0</td>\n",
       "      <td>1</td>\n",
       "      <td>0.00</td>\n",
       "    </tr>\n",
       "    <tr>\n",
       "      <th>110</th>\n",
       "      <td>Kirby Dach</td>\n",
       "      <td>21</td>\n",
       "      <td>1</td>\n",
       "      <td>12</td>\n",
       "      <td>2</td>\n",
       "      <td>8</td>\n",
       "      <td>10</td>\n",
       "      <td>8</td>\n",
       "      <td>1</td>\n",
       "      <td>917</td>\n",
       "      <td>...</td>\n",
       "      <td>0.167</td>\n",
       "      <td>0.667</td>\n",
       "      <td>0.833</td>\n",
       "      <td>18</td>\n",
       "      <td>11.1</td>\n",
       "      <td>7</td>\n",
       "      <td>4</td>\n",
       "      <td>18</td>\n",
       "      <td>30</td>\n",
       "      <td>37.50</td>\n",
       "    </tr>\n",
       "    <tr>\n",
       "      <th>111</th>\n",
       "      <td>Braden Schneider</td>\n",
       "      <td>21</td>\n",
       "      <td>0</td>\n",
       "      <td>13</td>\n",
       "      <td>0</td>\n",
       "      <td>1</td>\n",
       "      <td>1</td>\n",
       "      <td>5</td>\n",
       "      <td>-2</td>\n",
       "      <td>863</td>\n",
       "      <td>...</td>\n",
       "      <td>0.000</td>\n",
       "      <td>0.077</td>\n",
       "      <td>0.077</td>\n",
       "      <td>11</td>\n",
       "      <td>0.0</td>\n",
       "      <td>22</td>\n",
       "      <td>16</td>\n",
       "      <td>0</td>\n",
       "      <td>0</td>\n",
       "      <td>0.00</td>\n",
       "    </tr>\n",
       "    <tr>\n",
       "      <th>112</th>\n",
       "      <td>Brett Ritchie</td>\n",
       "      <td>29</td>\n",
       "      <td>1</td>\n",
       "      <td>11</td>\n",
       "      <td>3</td>\n",
       "      <td>2</td>\n",
       "      <td>5</td>\n",
       "      <td>6</td>\n",
       "      <td>3</td>\n",
       "      <td>627</td>\n",
       "      <td>...</td>\n",
       "      <td>0.273</td>\n",
       "      <td>0.182</td>\n",
       "      <td>0.455</td>\n",
       "      <td>15</td>\n",
       "      <td>20.0</td>\n",
       "      <td>27</td>\n",
       "      <td>1</td>\n",
       "      <td>0</td>\n",
       "      <td>0</td>\n",
       "      <td>0.00</td>\n",
       "    </tr>\n",
       "  </tbody>\n",
       "</table>\n",
       "<p>113 rows × 48 columns</p>\n",
       "</div>"
      ],
      "text/plain": [
       "0                  Name  Age  Pos  GP  G  A   P  PIM  +/-   TOI  ...   G/GP  \\\n",
       "0          Drew Doughty   33    0  14  1  5   6   12    0  1598  ...  0.071   \n",
       "1           Brent Burns   37    0  12  2  7   9    8   -2  1410  ...  0.167   \n",
       "2          Paul Stastny   37    1  12  0  4   4   10    0   734  ...  0.000   \n",
       "3    Vladislav Gavrikov   27    0  12  1  1   2    6   -4  1274  ...  0.083   \n",
       "4           Noah Dobson   22    0  13  4  5   9    2    1  1223  ...  0.308   \n",
       "..                  ...  ...  ...  .. .. ..  ..  ...  ...   ...  ...    ...   \n",
       "108          J.J. Moser   22    0  11  1  4   5    6   -6  1397  ...  0.091   \n",
       "109         Craig Smith   33    1   8  1  2   3    2    2   668  ...  0.125   \n",
       "110          Kirby Dach   21    1  12  2  8  10    8    1   917  ...  0.167   \n",
       "111    Braden Schneider   21    0  13  0  1   1    5   -2   863  ...  0.000   \n",
       "112       Brett Ritchie   29    1  11  3  2   5    6    3   627  ...  0.273   \n",
       "\n",
       "0     A/GP   P/GP  SHOTS   SH%  HITS  BS  FOW  FOL    FO%  \n",
       "0    0.357  0.429     28   3.6    21  17    0    0   0.00  \n",
       "1    0.583  0.750     51   3.9     6   8    0    0   0.00  \n",
       "2    0.333  0.333      7   0.0     7   0   29   19  60.42  \n",
       "3    0.083  0.167     14   7.1    17  20    0    0   0.00  \n",
       "4    0.385  0.692     33  12.1     8  18    0    0   0.00  \n",
       "..     ...    ...    ...   ...   ...  ..  ...  ...    ...  \n",
       "108  0.364  0.455     11   9.1    10  25    0    0   0.00  \n",
       "109  0.250  0.375     11   9.1     9   3    0    1   0.00  \n",
       "110  0.667  0.833     18  11.1     7   4   18   30  37.50  \n",
       "111  0.077  0.077     11   0.0    22  16    0    0   0.00  \n",
       "112  0.182  0.455     15  20.0    27   1    0    0   0.00  \n",
       "\n",
       "[113 rows x 48 columns]"
      ]
     },
     "execution_count": 321,
     "metadata": {},
     "output_type": "execute_result"
    }
   ],
   "source": [
    "df_test.reset_index()"
   ]
  },
  {
   "cell_type": "code",
   "execution_count": 322,
   "id": "2441f72e",
   "metadata": {},
   "outputs": [],
   "source": [
    "i = 110\n",
    "guy = df_test.iloc[i].to_dict()"
   ]
  },
  {
   "cell_type": "code",
   "execution_count": 323,
   "id": "5d55829e",
   "metadata": {},
   "outputs": [
    {
     "data": {
      "text/plain": [
       "41.87225920057279"
      ]
     },
     "execution_count": 323,
     "metadata": {},
     "output_type": "execute_result"
    }
   ],
   "source": [
    "X_test = prepare_X(pd.DataFrame([guy]))[0]\n",
    "y_pred = w_0 + X_test.dot(w)\n",
    "y_pred"
   ]
  },
  {
   "cell_type": "code",
   "execution_count": 324,
   "id": "7665a7cf",
   "metadata": {},
   "outputs": [
    {
     "data": {
      "text/plain": [
       "Name\n",
       "Drew Doughty          52\n",
       "Brent Burns           61\n",
       "Paul Stastny          22\n",
       "Vladislav Gavrikov    19\n",
       "Noah Dobson           49\n",
       "                      ..\n",
       "J.J. Moser            31\n",
       "Craig Smith           16\n",
       "Kirby Dach            38\n",
       "Braden Schneider      18\n",
       "Brett Ritchie         13\n",
       "Name: Pend, Length: 113, dtype: int64"
      ]
     },
     "execution_count": 324,
     "metadata": {},
     "output_type": "execute_result"
    }
   ],
   "source": [
    "y_test"
   ]
  },
  {
   "cell_type": "markdown",
   "id": "cc68ea32",
   "metadata": {},
   "source": [
    "## Decision Tree Regression"
   ]
  },
  {
   "cell_type": "code",
   "execution_count": 325,
   "id": "41bbeeaf",
   "metadata": {},
   "outputs": [],
   "source": [
    "from sklearn.tree import DecisionTreeRegressor\n",
    "from sklearn.feature_extraction import DictVectorizer"
   ]
  },
  {
   "cell_type": "code",
   "execution_count": 326,
   "id": "fcfb3e3f",
   "metadata": {
    "scrolled": false
   },
   "outputs": [],
   "source": [
    "# Train and Find Optimal Parameters\n",
    "score = 1000000\n",
    "for d in range(1,10):\n",
    "    for l in range(1,10):\n",
    "        train_dicts = df_train.fillna(0).to_dict(orient='records')\n",
    "\n",
    "        dv = DictVectorizer(sparse=False)\n",
    "        X_train = dv.fit_transform(train_dicts)\n",
    "\n",
    "        dt = DecisionTreeRegressor(max_depth=d, min_samples_leaf = l)\n",
    "        dt.fit(X_train, y_train)\n",
    "\n",
    "        val_dicts = df_val.fillna(0).to_dict(orient='records')\n",
    "        X_val = dv.transform(val_dicts)\n",
    "\n",
    "        y_train_pred = dt.predict(X_train)\n",
    "        y_val_pred = dt.predict(X_val)\n",
    "        \n",
    "        if rmse(y_val, y_val_pred) < score:\n",
    "            score = rmse(y_val, y_val_pred)\n",
    "            dbest, lbest = d, l\n",
    "\n",
    "        #print('%4s %4s -> %.3f' % (d, l, rmse(y_val, y_val_pred)))\n",
    "        #print('train:', '\\n rmse =', rmse(y_train, y_train_pred), '\\n mae = ', mae(y_train, y_train_pred))\n",
    "        #print('validation:', '\\n rmse =', rmse(y_val, y_val_pred), '\\n mae = ', mae(y_val, y_val_pred))\n",
    "        \n",
    "# Finalize model with best parameters      \n",
    "dt = DecisionTreeRegressor(max_depth=dbest, min_samples_leaf = lbest)\n",
    "dt.fit(X_train, y_train)\n",
    "\n",
    "val_dicts = df_val.fillna(0).to_dict(orient='records')\n",
    "X_val = dv.transform(val_dicts)\n",
    "\n",
    "y_train_pred_dt = dt.predict(X_train)\n",
    "y_val_pred_dt = dt.predict(X_val)"
   ]
  },
  {
   "cell_type": "code",
   "execution_count": 327,
   "id": "6a6fa46b",
   "metadata": {
    "scrolled": true
   },
   "outputs": [
    {
     "data": {
      "text/plain": [
       "(5, 9)"
      ]
     },
     "execution_count": 327,
     "metadata": {},
     "output_type": "execute_result"
    }
   ],
   "source": [
    "dbest,lbest"
   ]
  },
  {
   "cell_type": "code",
   "execution_count": 328,
   "id": "455dd95a",
   "metadata": {
    "scrolled": false
   },
   "outputs": [
    {
     "name": "stdout",
     "output_type": "stream",
     "text": [
      "train: \n",
      " rmse = 10.767384655731632 \n",
      " mae =  7.6956879902260065\n",
      "validation: \n",
      " rmse = 12.128271769165403 \n",
      " mae =  8.901785474455098\n"
     ]
    }
   ],
   "source": [
    "print('train:', '\\n rmse =', rmse(y_train, y_train_pred_dt), '\\n mae = ', mae(y_train, y_train_pred_dt))\n",
    "print('validation:', '\\n rmse =', rmse(y_val, y_val_pred_dt), '\\n mae = ', mae(y_val, y_val_pred_dt))"
   ]
  },
  {
   "cell_type": "markdown",
   "id": "da6ed752",
   "metadata": {},
   "source": [
    "## Averaging Linear and Decision Tree Regressions"
   ]
  },
  {
   "cell_type": "code",
   "execution_count": 329,
   "id": "c53e89db",
   "metadata": {},
   "outputs": [],
   "source": [
    "wscore = 10**6\n",
    "for w in np.linspace(0,1,10000):\n",
    "    y_train_pred_total = w*y_train_pred + (1-w)*y_train_pred_dt\n",
    "    y_val_pred_total = w*y_val_pred + (1-w)*y_val_pred_dt\n",
    "    #print('%.2f -> %.3f' % (w, rmse(y_val, y_val_pred_total)))\n",
    "    if rmse(y_val, y_val_pred_total) < wscore:\n",
    "        wscore = rmse(y_val, y_val_pred_total)\n",
    "        wbest = w\n",
    "    #print('train:', '\\n rmse =', rmse(y_train, y_train_pred_total), '\\n mae = ', mae(y_train, y_train_pred_total))\n",
    "    #print('validation:', '\\n rmse =', rmse(y_val, y_val_pred_total), '\\n mae = ', mae(y_val, y_val_pred_total))"
   ]
  },
  {
   "cell_type": "code",
   "execution_count": 330,
   "id": "6431b79e",
   "metadata": {},
   "outputs": [
    {
     "data": {
      "text/plain": [
       "0.11821182118211822"
      ]
     },
     "execution_count": 330,
     "metadata": {},
     "output_type": "execute_result"
    }
   ],
   "source": [
    "wbest"
   ]
  },
  {
   "cell_type": "code",
   "execution_count": 331,
   "id": "1201f454",
   "metadata": {},
   "outputs": [
    {
     "name": "stdout",
     "output_type": "stream",
     "text": [
      "train: \n",
      " rmse = 10.355813058697631 \n",
      " mae =  7.169025787621621\n",
      "validation: \n",
      " rmse = 12.355156058193403 \n",
      " mae =  8.854814509193737\n"
     ]
    }
   ],
   "source": [
    "print('train:', '\\n rmse =', rmse(y_train, y_train_pred_total), '\\n mae = ', mae(y_train, y_train_pred_total))\n",
    "print('validation:', '\\n rmse =', rmse(y_val, y_val_pred_total), '\\n mae = ', mae(y_val, y_val_pred_total))"
   ]
  },
  {
   "cell_type": "markdown",
   "id": "0d4267f4",
   "metadata": {},
   "source": [
    "## Random Forest"
   ]
  },
  {
   "cell_type": "code",
   "execution_count": 332,
   "id": "a96d02cd",
   "metadata": {},
   "outputs": [],
   "source": [
    "from sklearn.ensemble import RandomForestRegressor"
   ]
  },
  {
   "cell_type": "code",
   "execution_count": 438,
   "id": "f4297714",
   "metadata": {},
   "outputs": [],
   "source": [
    "scores = []\n",
    "scorebest = 10**6\n",
    "for e in range(500,1500,50):\n",
    "    rf = RandomForestRegressor(n_estimators=e, n_jobs=-1)\n",
    "    rf.fit(X_train, y_train)\n",
    "    y_train_pred_rf = rf.predict(X_train)\n",
    "    y_val_pred_rf = rf.predict(X_val)\n",
    "    score_e = rmse(y_val, y_val_pred_rf)\n",
    "    scores.append([e,score_e])\n",
    "    if score_e < scorebest:\n",
    "        scorebest = score_e\n",
    "        ebest = e"
   ]
  },
  {
   "cell_type": "code",
   "execution_count": 439,
   "id": "1496a5c3",
   "metadata": {},
   "outputs": [],
   "source": [
    "dfscores = pd.DataFrame(scores, columns=['n_estimators', 'rmse'])"
   ]
  },
  {
   "cell_type": "code",
   "execution_count": 440,
   "id": "4b883e94",
   "metadata": {},
   "outputs": [
    {
     "data": {
      "text/plain": [
       "[<matplotlib.lines.Line2D at 0x7fc7f0df2c10>]"
      ]
     },
     "execution_count": 440,
     "metadata": {},
     "output_type": "execute_result"
    },
    {
     "data": {
      "image/png": "[encoded data removed]",
      "text/plain": [
       "<Figure size 640x480 with 1 Axes>"
      ]
     },
     "metadata": {},
     "output_type": "display_data"
    }
   ],
   "source": [
    "plt.plot(dfscores.n_estimators, dfscores.rmse)"
   ]
  },
  {
   "cell_type": "code",
   "execution_count": 441,
   "id": "c2f96158",
   "metadata": {},
   "outputs": [],
   "source": [
    "rf = RandomForestRegressor(n_estimators=ebest)\n",
    "rf.fit(X_train, y_train)\n",
    "y_train_pred_rf = rf.predict(X_train)\n",
    "y_val_pred_rf = rf.predict(X_val)"
   ]
  },
  {
   "cell_type": "code",
   "execution_count": 442,
   "id": "7d30c852",
   "metadata": {},
   "outputs": [
    {
     "name": "stdout",
     "output_type": "stream",
     "text": [
      "validation: \n",
      " rmse = 11.36929694550367 \n",
      " mae =  8.356773704171937\n"
     ]
    }
   ],
   "source": [
    "print('validation:', '\\n rmse =', rmse(y_val, y_val_pred_rf), '\\n mae = ', mae(y_val, y_val_pred_rf))"
   ]
  },
  {
   "cell_type": "code",
   "execution_count": 443,
   "id": "b4add5d8",
   "metadata": {},
   "outputs": [
    {
     "data": {
      "text/plain": [
       "700"
      ]
     },
     "execution_count": 443,
     "metadata": {},
     "output_type": "execute_result"
    }
   ],
   "source": [
    "ebest"
   ]
  },
  {
   "cell_type": "code",
   "execution_count": 444,
   "id": "de1cb624",
   "metadata": {},
   "outputs": [],
   "source": [
    "scores = []\n",
    "\n",
    "for d in [5, 10, 15]:\n",
    "    for n in range(500,700,50):\n",
    "        rf = RandomForestRegressor(n_estimators=n,\n",
    "                                    max_depth=d,\n",
    "                                    random_state=1)\n",
    "        rf.fit(X_train, y_train)\n",
    "\n",
    "        y_pred = rf.predict(X_val)\n",
    "        score = rmse(y_val, y_pred)\n",
    "\n",
    "        scores.append((d, n, score))"
   ]
  },
  {
   "cell_type": "code",
   "execution_count": 417,
   "id": "846d6799",
   "metadata": {},
   "outputs": [],
   "source": [
    "columns = ['max_depth', 'n_estimators', 'score']\n",
    "df_scores = pd.DataFrame(scores, columns=columns)"
   ]
  },
  {
   "cell_type": "code",
   "execution_count": 418,
   "id": "883c39f2",
   "metadata": {},
   "outputs": [
    {
     "data": {
      "text/plain": [
       "<matplotlib.legend.Legend at 0x7fc8336571f0>"
      ]
     },
     "execution_count": 418,
     "metadata": {},
     "output_type": "execute_result"
    },
    {
     "data": {
      "image/png": "[encoded data removed]",
      "text/plain": [
       "<Figure size 640x480 with 1 Axes>"
      ]
     },
     "metadata": {},
     "output_type": "display_data"
    }
   ],
   "source": [
    "for d in [5, 10, 15]:\n",
    "    df_subset = df_scores[df_scores.max_depth == d]\n",
    "    \n",
    "    plt.plot(df_subset.n_estimators, df_subset.score,\n",
    "             label='max_depth=%d' % d)\n",
    "\n",
    "plt.legend()"
   ]
  },
  {
   "cell_type": "code",
   "execution_count": 419,
   "id": "ead5249f",
   "metadata": {},
   "outputs": [],
   "source": [
    "max_depth = 10"
   ]
  },
  {
   "cell_type": "code",
   "execution_count": 421,
   "id": "5e37f652",
   "metadata": {},
   "outputs": [],
   "source": [
    "scores = []\n",
    "\n",
    "for s in [1, 3, 5, 10, 50]:\n",
    "    for n in range(500, 700, 50):\n",
    "        rf = RandomForestRegressor(n_estimators=n,\n",
    "                                    max_depth=max_depth,\n",
    "                                    min_samples_leaf=s,\n",
    "                                    random_state=1)\n",
    "        rf.fit(X_train, y_train)\n",
    "\n",
    "        y_pred = rf.predict(X_val)\n",
    "        score = rmse(y_val, y_pred)\n",
    "\n",
    "        scores.append((s, n, score))"
   ]
  },
  {
   "cell_type": "code",
   "execution_count": 422,
   "id": "b9eed6db",
   "metadata": {},
   "outputs": [],
   "source": [
    "columns = ['min_samples_leaf', 'n_estimators', 'score']\n",
    "df_scores = pd.DataFrame(scores, columns=columns)"
   ]
  },
  {
   "cell_type": "code",
   "execution_count": 424,
   "id": "c5fc6d4c",
   "metadata": {},
   "outputs": [
    {
     "data": {
      "text/plain": [
       "<matplotlib.legend.Legend at 0x7fc8336572b0>"
      ]
     },
     "execution_count": 424,
     "metadata": {},
     "output_type": "execute_result"
    },
    {
     "data": {
      "image/png": "[encoded data removed]",
      "text/plain": [
       "<Figure size 640x480 with 1 Axes>"
      ]
     },
     "metadata": {},
     "output_type": "display_data"
    }
   ],
   "source": [
    "values = [1, 3, 5, 10, 50]\n",
    "\n",
    "for s in values:\n",
    "    df_subset = df_scores[df_scores.min_samples_leaf == s]\n",
    "    \n",
    "    plt.plot(df_subset.n_estimators, df_subset.score,\n",
    "             label='min_samples_leaf=%d' % s)\n",
    "\n",
    "plt.legend()"
   ]
  },
  {
   "cell_type": "code",
   "execution_count": 425,
   "id": "9b3ef8cd",
   "metadata": {},
   "outputs": [],
   "source": [
    "min_samples_leaf = 3"
   ]
  },
  {
   "cell_type": "code",
   "execution_count": 427,
   "id": "f04f18d5",
   "metadata": {},
   "outputs": [
    {
     "data": {
      "text/plain": [
       "RandomForestRegressor(max_depth=10, min_samples_leaf=3, n_estimators=500,\n",
       "                      random_state=1)"
      ]
     },
     "execution_count": 427,
     "metadata": {},
     "output_type": "execute_result"
    }
   ],
   "source": [
    "rf = RandomForestRegressor(n_estimators=500,\n",
    "                            max_depth=max_depth,\n",
    "                            min_samples_leaf=min_samples_leaf,\n",
    "                            random_state=1)\n",
    "rf.fit(X_train, y_train)"
   ]
  },
  {
   "cell_type": "code",
   "execution_count": 429,
   "id": "ec38cae8",
   "metadata": {},
   "outputs": [
    {
     "name": "stdout",
     "output_type": "stream",
     "text": [
      "validation: \n",
      " rmse = 11.172863672922775 \n",
      " mae =  8.164023688947795\n"
     ]
    }
   ],
   "source": [
    "y_val_pred_rf = rf.predict(X_val)\n",
    "print('validation:', '\\n rmse =', rmse(y_val, y_val_pred_rf), '\\n mae = ', mae(y_val, y_val_pred_rf))"
   ]
  },
  {
   "cell_type": "markdown",
   "id": "369d4c2b",
   "metadata": {},
   "source": [
    "## Gradient Boosting"
   ]
  },
  {
   "cell_type": "code",
   "execution_count": null,
   "id": "dacc9ddb",
   "metadata": {},
   "outputs": [],
   "source": []
  }
 ],
 "metadata": {
  "kernelspec": {
   "display_name": "Python 3 (ipykernel)",
   "language": "python",
   "name": "python3"
  },
  "language_info": {
   "codemirror_mode": {
    "name": "ipython",
    "version": 3
   },
   "file_extension": ".py",
   "mimetype": "text/x-python",
   "name": "python",
   "nbconvert_exporter": "python",
   "pygments_lexer": "ipython3",
   "version": "3.9.13"
  }
 },
 "nbformat": 4,
 "nbformat_minor": 5
}
