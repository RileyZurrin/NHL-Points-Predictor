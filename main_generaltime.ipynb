{
 "cells": [
  {
   "cell_type": "code",
   "execution_count": 1,
   "id": "f7b2b86b",
   "metadata": {},
   "outputs": [],
   "source": [
    "import pandas as pd\n",
    "from os import listdir\n",
    "import numpy as np\n",
    "\n",
    "import seaborn as sns\n",
    "from matplotlib import pyplot as plt\n",
    "%matplotlib inline"
   ]
  },
  {
   "cell_type": "code",
   "execution_count": 2,
   "id": "70865478",
   "metadata": {},
   "outputs": [],
   "source": [
    "# Create dataframe with all Data (except end)\n",
    "n = 0 # counter to grab only first header\n",
    "m = 6 # number of months to grab from (usually 6)\n",
    "months = [x + \"month\" for x in map(str, range(1, 1 + m))]\n",
    "for dir in listdir(\"Data/\"):\n",
    "    if dir in months:\n",
    "        for file in listdir(\"Data/\" + dir):\n",
    "            try: \n",
    "                dfa = pd.read_excel(\"Data/\" + dir + \"/\" + file, sheet_name = 1)\n",
    "                n += 1\n",
    "                header = dfa.iloc[0]\n",
    "                if n == 1:\n",
    "                    df = pd.DataFrame(columns = header)\n",
    "                dfa = dfa[1:]\n",
    "                dfa.columns = header\n",
    "                df = pd.concat([dfa, df])\n",
    "            except ValueError: # so non-excel files aren't grabbed\n",
    "                pass"
   ]
  },
  {
   "cell_type": "code",
   "execution_count": 3,
   "id": "1033d427",
   "metadata": {},
   "outputs": [
    {
     "data": {
      "text/html": [
       "<div>\n",
       "<style scoped>\n",
       "    .dataframe tbody tr th:only-of-type {\n",
       "        vertical-align: middle;\n",
       "    }\n",
       "\n",
       "    .dataframe tbody tr th {\n",
       "        vertical-align: top;\n",
       "    }\n",
       "\n",
       "    .dataframe thead th {\n",
       "        text-align: right;\n",
       "    }\n",
       "</style>\n",
       "<table border=\"1\" class=\"dataframe\">\n",
       "  <thead>\n",
       "    <tr style=\"text-align: right;\">\n",
       "      <th></th>\n",
       "      <th>Rk</th>\n",
       "      <th>Name</th>\n",
       "      <th>Team</th>\n",
       "      <th>Age</th>\n",
       "      <th>Pos</th>\n",
       "      <th>GP</th>\n",
       "      <th>G</th>\n",
       "      <th>A</th>\n",
       "      <th>P</th>\n",
       "      <th>PIM</th>\n",
       "      <th>...</th>\n",
       "      <th>G/GP</th>\n",
       "      <th>A/GP</th>\n",
       "      <th>P/GP</th>\n",
       "      <th>SHOTS</th>\n",
       "      <th>SH%</th>\n",
       "      <th>HITS</th>\n",
       "      <th>BS</th>\n",
       "      <th>FOW</th>\n",
       "      <th>FOL</th>\n",
       "      <th>FO%</th>\n",
       "    </tr>\n",
       "  </thead>\n",
       "  <tbody>\n",
       "    <tr>\n",
       "      <th>1</th>\n",
       "      <td>1</td>\n",
       "      <td>Connor McDavid</td>\n",
       "      <td>EDM</td>\n",
       "      <td>25</td>\n",
       "      <td>F</td>\n",
       "      <td>79</td>\n",
       "      <td>62</td>\n",
       "      <td>86</td>\n",
       "      <td>148</td>\n",
       "      <td>36</td>\n",
       "      <td>...</td>\n",
       "      <td>0.785</td>\n",
       "      <td>1.089</td>\n",
       "      <td>1.873</td>\n",
       "      <td>334</td>\n",
       "      <td>18.6%</td>\n",
       "      <td>89</td>\n",
       "      <td>39</td>\n",
       "      <td>511</td>\n",
       "      <td>473</td>\n",
       "      <td>51.93%</td>\n",
       "    </tr>\n",
       "    <tr>\n",
       "      <th>2</th>\n",
       "      <td>2</td>\n",
       "      <td>Leon Draisaitl</td>\n",
       "      <td>EDM</td>\n",
       "      <td>27</td>\n",
       "      <td>F</td>\n",
       "      <td>77</td>\n",
       "      <td>51</td>\n",
       "      <td>72</td>\n",
       "      <td>123</td>\n",
       "      <td>24</td>\n",
       "      <td>...</td>\n",
       "      <td>0.662</td>\n",
       "      <td>0.935</td>\n",
       "      <td>1.597</td>\n",
       "      <td>243</td>\n",
       "      <td>21.0%</td>\n",
       "      <td>64</td>\n",
       "      <td>40</td>\n",
       "      <td>781</td>\n",
       "      <td>642</td>\n",
       "      <td>54.88%</td>\n",
       "    </tr>\n",
       "    <tr>\n",
       "      <th>3</th>\n",
       "      <td>3</td>\n",
       "      <td>Nikita Kucherov</td>\n",
       "      <td>TBL</td>\n",
       "      <td>29</td>\n",
       "      <td>F</td>\n",
       "      <td>79</td>\n",
       "      <td>30</td>\n",
       "      <td>78</td>\n",
       "      <td>108</td>\n",
       "      <td>34</td>\n",
       "      <td>...</td>\n",
       "      <td>0.38</td>\n",
       "      <td>0.987</td>\n",
       "      <td>1.367</td>\n",
       "      <td>256</td>\n",
       "      <td>11.7%</td>\n",
       "      <td>58</td>\n",
       "      <td>28</td>\n",
       "      <td>2</td>\n",
       "      <td>0</td>\n",
       "      <td>100.00%</td>\n",
       "    </tr>\n",
       "    <tr>\n",
       "      <th>4</th>\n",
       "      <td>4</td>\n",
       "      <td>Matthew Tkachuk</td>\n",
       "      <td>FLA</td>\n",
       "      <td>25</td>\n",
       "      <td>F</td>\n",
       "      <td>76</td>\n",
       "      <td>39</td>\n",
       "      <td>66</td>\n",
       "      <td>105</td>\n",
       "      <td>109</td>\n",
       "      <td>...</td>\n",
       "      <td>0.513</td>\n",
       "      <td>0.868</td>\n",
       "      <td>1.382</td>\n",
       "      <td>304</td>\n",
       "      <td>12.8%</td>\n",
       "      <td>63</td>\n",
       "      <td>31</td>\n",
       "      <td>13</td>\n",
       "      <td>16</td>\n",
       "      <td>44.83%</td>\n",
       "    </tr>\n",
       "    <tr>\n",
       "      <th>5</th>\n",
       "      <td>5</td>\n",
       "      <td>David Pastrnak</td>\n",
       "      <td>BOS</td>\n",
       "      <td>26</td>\n",
       "      <td>F</td>\n",
       "      <td>78</td>\n",
       "      <td>57</td>\n",
       "      <td>47</td>\n",
       "      <td>104</td>\n",
       "      <td>36</td>\n",
       "      <td>...</td>\n",
       "      <td>0.731</td>\n",
       "      <td>0.603</td>\n",
       "      <td>1.333</td>\n",
       "      <td>379</td>\n",
       "      <td>15.0%</td>\n",
       "      <td>87</td>\n",
       "      <td>33</td>\n",
       "      <td>8</td>\n",
       "      <td>11</td>\n",
       "      <td>42.11%</td>\n",
       "    </tr>\n",
       "    <tr>\n",
       "      <th>...</th>\n",
       "      <td>...</td>\n",
       "      <td>...</td>\n",
       "      <td>...</td>\n",
       "      <td>...</td>\n",
       "      <td>...</td>\n",
       "      <td>...</td>\n",
       "      <td>...</td>\n",
       "      <td>...</td>\n",
       "      <td>...</td>\n",
       "      <td>...</td>\n",
       "      <td>...</td>\n",
       "      <td>...</td>\n",
       "      <td>...</td>\n",
       "      <td>...</td>\n",
       "      <td>...</td>\n",
       "      <td>...</td>\n",
       "      <td>...</td>\n",
       "      <td>...</td>\n",
       "      <td>...</td>\n",
       "      <td>...</td>\n",
       "      <td>...</td>\n",
       "    </tr>\n",
       "    <tr>\n",
       "      <th>985</th>\n",
       "      <td>985</td>\n",
       "      <td>Ville Husso</td>\n",
       "      <td>DET</td>\n",
       "      <td>27</td>\n",
       "      <td>G</td>\n",
       "      <td>46</td>\n",
       "      <td>0</td>\n",
       "      <td>0</td>\n",
       "      <td>0</td>\n",
       "      <td>0</td>\n",
       "      <td>...</td>\n",
       "      <td>0</td>\n",
       "      <td>0</td>\n",
       "      <td>0</td>\n",
       "      <td>NaN</td>\n",
       "      <td>NaN</td>\n",
       "      <td>NaN</td>\n",
       "      <td>NaN</td>\n",
       "      <td>NaN</td>\n",
       "      <td>NaN</td>\n",
       "      <td>NaN</td>\n",
       "    </tr>\n",
       "    <tr>\n",
       "      <th>986</th>\n",
       "      <td>986</td>\n",
       "      <td>Juuse Saros</td>\n",
       "      <td>NSH</td>\n",
       "      <td>27</td>\n",
       "      <td>G</td>\n",
       "      <td>47</td>\n",
       "      <td>0</td>\n",
       "      <td>0</td>\n",
       "      <td>0</td>\n",
       "      <td>0</td>\n",
       "      <td>...</td>\n",
       "      <td>0</td>\n",
       "      <td>0</td>\n",
       "      <td>0</td>\n",
       "      <td>NaN</td>\n",
       "      <td>NaN</td>\n",
       "      <td>NaN</td>\n",
       "      <td>NaN</td>\n",
       "      <td>NaN</td>\n",
       "      <td>NaN</td>\n",
       "      <td>NaN</td>\n",
       "    </tr>\n",
       "    <tr>\n",
       "      <th>987</th>\n",
       "      <td>987</td>\n",
       "      <td>Carter Hart</td>\n",
       "      <td>PHI</td>\n",
       "      <td>24</td>\n",
       "      <td>G</td>\n",
       "      <td>47</td>\n",
       "      <td>0</td>\n",
       "      <td>0</td>\n",
       "      <td>0</td>\n",
       "      <td>0</td>\n",
       "      <td>...</td>\n",
       "      <td>0</td>\n",
       "      <td>0</td>\n",
       "      <td>0</td>\n",
       "      <td>NaN</td>\n",
       "      <td>NaN</td>\n",
       "      <td>NaN</td>\n",
       "      <td>NaN</td>\n",
       "      <td>NaN</td>\n",
       "      <td>NaN</td>\n",
       "      <td>NaN</td>\n",
       "    </tr>\n",
       "    <tr>\n",
       "      <th>988</th>\n",
       "      <td>988</td>\n",
       "      <td>Ilya Sorokin</td>\n",
       "      <td>NYI</td>\n",
       "      <td>27</td>\n",
       "      <td>G</td>\n",
       "      <td>48</td>\n",
       "      <td>0</td>\n",
       "      <td>0</td>\n",
       "      <td>0</td>\n",
       "      <td>0</td>\n",
       "      <td>...</td>\n",
       "      <td>0</td>\n",
       "      <td>0</td>\n",
       "      <td>0</td>\n",
       "      <td>NaN</td>\n",
       "      <td>NaN</td>\n",
       "      <td>NaN</td>\n",
       "      <td>NaN</td>\n",
       "      <td>NaN</td>\n",
       "      <td>NaN</td>\n",
       "      <td>NaN</td>\n",
       "    </tr>\n",
       "    <tr>\n",
       "      <th>989</th>\n",
       "      <td>989</td>\n",
       "      <td>Connor Hellebuyck</td>\n",
       "      <td>WPG</td>\n",
       "      <td>29</td>\n",
       "      <td>G</td>\n",
       "      <td>48</td>\n",
       "      <td>0</td>\n",
       "      <td>0</td>\n",
       "      <td>0</td>\n",
       "      <td>0</td>\n",
       "      <td>...</td>\n",
       "      <td>0</td>\n",
       "      <td>0</td>\n",
       "      <td>0</td>\n",
       "      <td>NaN</td>\n",
       "      <td>NaN</td>\n",
       "      <td>NaN</td>\n",
       "      <td>NaN</td>\n",
       "      <td>NaN</td>\n",
       "      <td>NaN</td>\n",
       "      <td>NaN</td>\n",
       "    </tr>\n",
       "  </tbody>\n",
       "</table>\n",
       "<p>5524 rows × 50 columns</p>\n",
       "</div>"
      ],
      "text/plain": [
       "0     Rk               Name Team Age Pos  GP   G   A    P  PIM  ...   G/GP  \\\n",
       "1      1     Connor McDavid  EDM  25   F  79  62  86  148   36  ...  0.785   \n",
       "2      2     Leon Draisaitl  EDM  27   F  77  51  72  123   24  ...  0.662   \n",
       "3      3    Nikita Kucherov  TBL  29   F  79  30  78  108   34  ...   0.38   \n",
       "4      4    Matthew Tkachuk  FLA  25   F  76  39  66  105  109  ...  0.513   \n",
       "5      5     David Pastrnak  BOS  26   F  78  57  47  104   36  ...  0.731   \n",
       "..   ...                ...  ...  ..  ..  ..  ..  ..  ...  ...  ...    ...   \n",
       "985  985        Ville Husso  DET  27   G  46   0   0    0    0  ...      0   \n",
       "986  986        Juuse Saros  NSH  27   G  47   0   0    0    0  ...      0   \n",
       "987  987        Carter Hart  PHI  24   G  47   0   0    0    0  ...      0   \n",
       "988  988       Ilya Sorokin  NYI  27   G  48   0   0    0    0  ...      0   \n",
       "989  989  Connor Hellebuyck  WPG  29   G  48   0   0    0    0  ...      0   \n",
       "\n",
       "0     A/GP   P/GP SHOTS    SH% HITS   BS  FOW  FOL      FO%  \n",
       "1    1.089  1.873   334  18.6%   89   39  511  473   51.93%  \n",
       "2    0.935  1.597   243  21.0%   64   40  781  642   54.88%  \n",
       "3    0.987  1.367   256  11.7%   58   28    2    0  100.00%  \n",
       "4    0.868  1.382   304  12.8%   63   31   13   16   44.83%  \n",
       "5    0.603  1.333   379  15.0%   87   33    8   11   42.11%  \n",
       "..     ...    ...   ...    ...  ...  ...  ...  ...      ...  \n",
       "985      0      0   NaN    NaN  NaN  NaN  NaN  NaN      NaN  \n",
       "986      0      0   NaN    NaN  NaN  NaN  NaN  NaN      NaN  \n",
       "987      0      0   NaN    NaN  NaN  NaN  NaN  NaN      NaN  \n",
       "988      0      0   NaN    NaN  NaN  NaN  NaN  NaN      NaN  \n",
       "989      0      0   NaN    NaN  NaN  NaN  NaN  NaN      NaN  \n",
       "\n",
       "[5524 rows x 50 columns]"
      ]
     },
     "execution_count": 3,
     "metadata": {},
     "output_type": "execute_result"
    }
   ],
   "source": [
    "df"
   ]
  },
  {
   "cell_type": "code",
   "execution_count": 4,
   "id": "1734e903",
   "metadata": {},
   "outputs": [],
   "source": [
    "# Remove goalie entries\n",
    "df = df[df.Pos != \"G\"]\n",
    "# Remove unnecessary columns\n",
    "df = df.drop(['Rk','Team'], axis=1)\n",
    "\n",
    "# Convert time stats (e.g., 20:12) to seconds.\n",
    "# Define function that does the string conversion:\n",
    "def time2sec(time):\n",
    "    m, s = time.split(':')\n",
    "    return 60 * int(m) + int(s)\n",
    "\n",
    "df['TOI'] = df['TOI'].apply(time2sec) \n",
    "df['ES'] = df['ES'].apply(time2sec) \n",
    "df['PP'] = df['PP'].apply(time2sec) \n",
    "df['SH'] = df['SH'].apply(time2sec) \n",
    "\n",
    "# Convert Position to boolean (0 = D, 1 = F)\n",
    "def Pos2bool(pos):\n",
    "    if pos == \"D\":\n",
    "        return 0\n",
    "    if pos == \"F\":\n",
    "        return 1\n",
    "        \n",
    "df['Pos'] = df['Pos'].apply(Pos2bool)\n",
    "\n",
    "# Remove '%' symbol from columns\n",
    "def perc_rem(string):\n",
    "    return string.replace('%','')\n",
    "\n",
    "df['PPP%'] = df['PPP%'].apply(perc_rem)\n",
    "df['FO%'] = df['FO%'].apply(perc_rem)\n",
    "df['SH%'] = df['SH%'].apply(perc_rem)"
   ]
  },
  {
   "cell_type": "code",
   "execution_count": 5,
   "id": "8ac30919",
   "metadata": {},
   "outputs": [],
   "source": [
    "# Create dataframe with season-end Data\n",
    "m = 0 # counter to grab only first header\n",
    "for file in listdir(\"Data/end/\"):\n",
    "    try: \n",
    "        dfa = pd.read_excel(\"Data/end/\" + file, sheet_name = 1)\n",
    "        m += 1\n",
    "        header = dfa.iloc[0]\n",
    "        if m == 1:\n",
    "            dfend = pd.DataFrame(columns = header)\n",
    "        dfa = dfa[1:]\n",
    "        dfa.columns = header\n",
    "        dfend = pd.concat([dfa, dfend])\n",
    "    except ValueError: # so non-excel files aren't grabbed\n",
    "        pass"
   ]
  },
  {
   "cell_type": "code",
   "execution_count": 6,
   "id": "396d8150",
   "metadata": {},
   "outputs": [],
   "source": [
    "# Keep only name (and age for matching) and points total\n",
    "dfend = dfend[['Name', 'Age', 'P']]\n",
    "dfend = dfend.rename(columns={'P': 'Pend'})"
   ]
  },
  {
   "cell_type": "code",
   "execution_count": 7,
   "id": "bf3447de",
   "metadata": {
    "scrolled": true
   },
   "outputs": [
    {
     "data": {
      "text/html": [
       "<div>\n",
       "<style scoped>\n",
       "    .dataframe tbody tr th:only-of-type {\n",
       "        vertical-align: middle;\n",
       "    }\n",
       "\n",
       "    .dataframe tbody tr th {\n",
       "        vertical-align: top;\n",
       "    }\n",
       "\n",
       "    .dataframe thead th {\n",
       "        text-align: right;\n",
       "    }\n",
       "</style>\n",
       "<table border=\"1\" class=\"dataframe\">\n",
       "  <thead>\n",
       "    <tr style=\"text-align: right;\">\n",
       "      <th></th>\n",
       "      <th>Name</th>\n",
       "      <th>Age</th>\n",
       "      <th>Pend</th>\n",
       "    </tr>\n",
       "  </thead>\n",
       "  <tbody>\n",
       "    <tr>\n",
       "      <th>1</th>\n",
       "      <td>Kyle Palmieri</td>\n",
       "      <td>31</td>\n",
       "      <td>33</td>\n",
       "    </tr>\n",
       "    <tr>\n",
       "      <th>2</th>\n",
       "      <td>Kevin Labanc</td>\n",
       "      <td>27</td>\n",
       "      <td>33</td>\n",
       "    </tr>\n",
       "    <tr>\n",
       "      <th>3</th>\n",
       "      <td>Anton Lundell</td>\n",
       "      <td>21</td>\n",
       "      <td>33</td>\n",
       "    </tr>\n",
       "    <tr>\n",
       "      <th>4</th>\n",
       "      <td>Sonny Milano</td>\n",
       "      <td>26</td>\n",
       "      <td>33</td>\n",
       "    </tr>\n",
       "    <tr>\n",
       "      <th>5</th>\n",
       "      <td>John Klingberg</td>\n",
       "      <td>30</td>\n",
       "      <td>33</td>\n",
       "    </tr>\n",
       "    <tr>\n",
       "      <th>...</th>\n",
       "      <td>...</td>\n",
       "      <td>...</td>\n",
       "      <td>...</td>\n",
       "    </tr>\n",
       "    <tr>\n",
       "      <th>46</th>\n",
       "      <td>Viktor Arvidsson</td>\n",
       "      <td>29</td>\n",
       "      <td>59</td>\n",
       "    </tr>\n",
       "    <tr>\n",
       "      <th>47</th>\n",
       "      <td>Roman Josi</td>\n",
       "      <td>32</td>\n",
       "      <td>59</td>\n",
       "    </tr>\n",
       "    <tr>\n",
       "      <th>48</th>\n",
       "      <td>Casey Mittelstadt</td>\n",
       "      <td>24</td>\n",
       "      <td>59</td>\n",
       "    </tr>\n",
       "    <tr>\n",
       "      <th>49</th>\n",
       "      <td>Patrice Bergeron</td>\n",
       "      <td>37</td>\n",
       "      <td>58</td>\n",
       "    </tr>\n",
       "    <tr>\n",
       "      <th>50</th>\n",
       "      <td>Nick Schmaltz</td>\n",
       "      <td>26</td>\n",
       "      <td>58</td>\n",
       "    </tr>\n",
       "  </tbody>\n",
       "</table>\n",
       "<p>600 rows × 3 columns</p>\n",
       "</div>"
      ],
      "text/plain": [
       "0                Name Age Pend\n",
       "1       Kyle Palmieri  31   33\n",
       "2        Kevin Labanc  27   33\n",
       "3       Anton Lundell  21   33\n",
       "4        Sonny Milano  26   33\n",
       "5      John Klingberg  30   33\n",
       "..                ...  ..  ...\n",
       "46   Viktor Arvidsson  29   59\n",
       "47         Roman Josi  32   59\n",
       "48  Casey Mittelstadt  24   59\n",
       "49   Patrice Bergeron  37   58\n",
       "50      Nick Schmaltz  26   58\n",
       "\n",
       "[600 rows x 3 columns]"
      ]
     },
     "execution_count": 7,
     "metadata": {},
     "output_type": "execute_result"
    }
   ],
   "source": [
    "dfend"
   ]
  },
  {
   "cell_type": "code",
   "execution_count": 8,
   "id": "857889b5",
   "metadata": {
    "scrolled": true
   },
   "outputs": [],
   "source": [
    "#Join all data and season end data\n",
    "df = pd.merge(df, dfend, on=['Name', 'Age'], how='left')\n",
    "#Remove rows where Pend is less than 10\n",
    "df = df[df.Pend > 9]\n",
    "# Convert all data to numerical values\n",
    "for col in list(df.columns):\n",
    "    try:\n",
    "        df[col] = pd.to_numeric(df[col])\n",
    "    except ValueError:\n",
    "        pass"
   ]
  },
  {
   "cell_type": "code",
   "execution_count": 9,
   "id": "e8d7139f",
   "metadata": {},
   "outputs": [],
   "source": [
    "df[\"Name_GP\"] = df.Name + \"_\" + df.GP.astype(str)\n",
    "df = df.set_index('Name_GP')\n",
    "\n",
    "del df[\"Name\"]"
   ]
  },
  {
   "cell_type": "markdown",
   "id": "e5901039",
   "metadata": {},
   "source": [
    "# Split Data"
   ]
  },
  {
   "cell_type": "code",
   "execution_count": 10,
   "id": "ef599c53",
   "metadata": {},
   "outputs": [],
   "source": [
    "n = len(df)\n",
    "\n",
    "n_val = int(n * 0.2)\n",
    "n_test = int(n * 0.2)\n",
    "n_train = n - (n_val + n_test)"
   ]
  },
  {
   "cell_type": "code",
   "execution_count": 11,
   "id": "fb82f054",
   "metadata": {},
   "outputs": [],
   "source": [
    "idx = np.arange(n)\n",
    "np.random.shuffle(idx)\n",
    "\n",
    "df_shuffled = df.iloc[idx]\n",
    "\n",
    "df_train = df_shuffled.iloc[:n_train].copy()\n",
    "df_val = df_shuffled.iloc[n_train:n_train+n_val].copy()\n",
    "df_test = df_shuffled.iloc[n_train+n_val:].copy()"
   ]
  },
  {
   "cell_type": "code",
   "execution_count": 12,
   "id": "b56f49ad",
   "metadata": {},
   "outputs": [],
   "source": [
    "y_train = df_train.Pend\n",
    "y_val = df_val.Pend\n",
    "y_test = df_test.Pend\n",
    "\n",
    "del df_train['Pend']\n",
    "del df_val['Pend']\n",
    "del df_test['Pend']"
   ]
  },
  {
   "cell_type": "code",
   "execution_count": null,
   "id": "fe798251",
   "metadata": {},
   "outputs": [],
   "source": [
    "base = list(df_train.columns)"
   ]
  },
  {
   "cell_type": "code",
   "execution_count": 25,
   "id": "8183b9c0",
   "metadata": {},
   "outputs": [],
   "source": [
    "def prepare_X(df):\n",
    "    df_num = df[base]\n",
    "    df_num = df_num.fillna(0)\n",
    "    X = df_num.values\n",
    "    return X"
   ]
  },
  {
   "cell_type": "code",
   "execution_count": 26,
   "id": "cece339f",
   "metadata": {},
   "outputs": [],
   "source": [
    "X_train = prepare_X(df_train)\n",
    "X_val = prepare_X(df_val)\n",
    "X_test = prepare_X(df_test)"
   ]
  },
  {
   "cell_type": "markdown",
   "id": "aadda533",
   "metadata": {},
   "source": [
    "# Linear Regression"
   ]
  },
  {
   "cell_type": "code",
   "execution_count": 20,
   "id": "6061f323",
   "metadata": {},
   "outputs": [],
   "source": [
    "def train_linear_regression_reg(X, y, r=0.0):\n",
    "    ones = np.ones(X.shape[0])\n",
    "    X = np.column_stack([ones, X])\n",
    "\n",
    "    XTX = X.T.dot(X)\n",
    "    reg = r * np.eye(XTX.shape[0])\n",
    "    XTX = XTX + reg\n",
    "\n",
    "    XTX_inv = np.linalg.inv(XTX)\n",
    "    w = XTX_inv.dot(X.T).dot(y)\n",
    "    \n",
    "    return w[0], w[1:]"
   ]
  },
  {
   "cell_type": "code",
   "execution_count": 23,
   "id": "489157d0",
   "metadata": {},
   "outputs": [],
   "source": [
    "w_0, w = train_linear_regression_reg(X_train, y_train, r=0.01)\n",
    "y_train_pred = w_0 + X_train.dot(w)\n",
    "\n",
    "y_val_pred = w_0 + X_val.dot(w)"
   ]
  },
  {
   "cell_type": "markdown",
   "id": "2fa90369",
   "metadata": {},
   "source": [
    "## Evaluate Accuracy"
   ]
  },
  {
   "cell_type": "code",
   "execution_count": 27,
   "id": "c9ad1373",
   "metadata": {},
   "outputs": [],
   "source": [
    "def rmse(y, y_pred):\n",
    "    error = y_pred - y\n",
    "    mse = (error ** 2).mean()\n",
    "    return np.sqrt(mse)\n",
    "\n",
    "def mae(y, y_pred):\n",
    "    error = abs(y_pred - y)\n",
    "    return error.mean()"
   ]
  },
  {
   "cell_type": "code",
   "execution_count": 28,
   "id": "120fb3c1",
   "metadata": {},
   "outputs": [
    {
     "name": "stdout",
     "output_type": "stream",
     "text": [
      "train: \n",
      " rmse = 8.065358123474535 \n",
      " mae =  5.9228786993673515\n",
      "validation: \n",
      " rmse = 8.887497921718596 \n",
      " mae =  6.521815901573227\n"
     ]
    }
   ],
   "source": [
    "print('train:', '\\n rmse =', rmse(y_train, y_train_pred), '\\n mae = ', mae(y_train, y_train_pred))\n",
    "print('validation:', '\\n rmse =', rmse(y_val, y_val_pred), '\\n mae = ', mae(y_val, y_val_pred))"
   ]
  },
  {
   "cell_type": "markdown",
   "id": "3d0340e9",
   "metadata": {},
   "source": [
    "# Random Forest"
   ]
  },
  {
   "cell_type": "code",
   "execution_count": 29,
   "id": "3ccad364",
   "metadata": {},
   "outputs": [],
   "source": [
    "from sklearn.ensemble import RandomForestRegressor"
   ]
  },
  {
   "cell_type": "code",
   "execution_count": 30,
   "id": "bb8224ad",
   "metadata": {},
   "outputs": [
    {
     "name": "stdout",
     "output_type": "stream",
     "text": [
      "100\n",
      "110\n",
      "120\n",
      "130\n",
      "140\n",
      "150\n",
      "160\n",
      "170\n"
     ]
    },
    {
     "ename": "KeyboardInterrupt",
     "evalue": "",
     "output_type": "error",
     "traceback": [
      "\u001b[0;31m---------------------------------------------------------------------------\u001b[0m",
      "\u001b[0;31mKeyboardInterrupt\u001b[0m                         Traceback (most recent call last)",
      "\u001b[0;32m/var/folders/m1/l84qyc6j7tv9r0vfy0xw410c0000gn/T/ipykernel_11872/2106970423.py\u001b[0m in \u001b[0;36m<module>\u001b[0;34m\u001b[0m\n\u001b[1;32m      4\u001b[0m     \u001b[0mprint\u001b[0m\u001b[0;34m(\u001b[0m\u001b[0me\u001b[0m\u001b[0;34m)\u001b[0m\u001b[0;34m\u001b[0m\u001b[0;34m\u001b[0m\u001b[0m\n\u001b[1;32m      5\u001b[0m     \u001b[0mrf\u001b[0m \u001b[0;34m=\u001b[0m \u001b[0mRandomForestRegressor\u001b[0m\u001b[0;34m(\u001b[0m\u001b[0mn_estimators\u001b[0m\u001b[0;34m=\u001b[0m\u001b[0me\u001b[0m\u001b[0;34m,\u001b[0m \u001b[0mn_jobs\u001b[0m\u001b[0;34m=\u001b[0m\u001b[0;34m-\u001b[0m\u001b[0;36m1\u001b[0m\u001b[0;34m)\u001b[0m\u001b[0;34m\u001b[0m\u001b[0;34m\u001b[0m\u001b[0m\n\u001b[0;32m----> 6\u001b[0;31m     \u001b[0mrf\u001b[0m\u001b[0;34m.\u001b[0m\u001b[0mfit\u001b[0m\u001b[0;34m(\u001b[0m\u001b[0mX_train\u001b[0m\u001b[0;34m,\u001b[0m \u001b[0my_train\u001b[0m\u001b[0;34m)\u001b[0m\u001b[0;34m\u001b[0m\u001b[0;34m\u001b[0m\u001b[0m\n\u001b[0m\u001b[1;32m      7\u001b[0m     \u001b[0my_train_pred_rf\u001b[0m \u001b[0;34m=\u001b[0m \u001b[0mrf\u001b[0m\u001b[0;34m.\u001b[0m\u001b[0mpredict\u001b[0m\u001b[0;34m(\u001b[0m\u001b[0mX_train\u001b[0m\u001b[0;34m)\u001b[0m\u001b[0;34m\u001b[0m\u001b[0;34m\u001b[0m\u001b[0m\n\u001b[1;32m      8\u001b[0m     \u001b[0my_val_pred_rf\u001b[0m \u001b[0;34m=\u001b[0m \u001b[0mrf\u001b[0m\u001b[0;34m.\u001b[0m\u001b[0mpredict\u001b[0m\u001b[0;34m(\u001b[0m\u001b[0mX_val\u001b[0m\u001b[0;34m)\u001b[0m\u001b[0;34m\u001b[0m\u001b[0;34m\u001b[0m\u001b[0m\n",
      "\u001b[0;32m~/opt/anaconda3/lib/python3.9/site-packages/sklearn/ensemble/_forest.py\u001b[0m in \u001b[0;36mfit\u001b[0;34m(self, X, y, sample_weight)\u001b[0m\n\u001b[1;32m    448\u001b[0m             \u001b[0;31m# parallel_backend contexts set at a higher level,\u001b[0m\u001b[0;34m\u001b[0m\u001b[0;34m\u001b[0m\u001b[0m\n\u001b[1;32m    449\u001b[0m             \u001b[0;31m# since correctness does not rely on using threads.\u001b[0m\u001b[0;34m\u001b[0m\u001b[0;34m\u001b[0m\u001b[0m\n\u001b[0;32m--> 450\u001b[0;31m             trees = Parallel(\n\u001b[0m\u001b[1;32m    451\u001b[0m                 \u001b[0mn_jobs\u001b[0m\u001b[0;34m=\u001b[0m\u001b[0mself\u001b[0m\u001b[0;34m.\u001b[0m\u001b[0mn_jobs\u001b[0m\u001b[0;34m,\u001b[0m\u001b[0;34m\u001b[0m\u001b[0;34m\u001b[0m\u001b[0m\n\u001b[1;32m    452\u001b[0m                 \u001b[0mverbose\u001b[0m\u001b[0;34m=\u001b[0m\u001b[0mself\u001b[0m\u001b[0;34m.\u001b[0m\u001b[0mverbose\u001b[0m\u001b[0;34m,\u001b[0m\u001b[0;34m\u001b[0m\u001b[0;34m\u001b[0m\u001b[0m\n",
      "\u001b[0;32m~/opt/anaconda3/lib/python3.9/site-packages/joblib/parallel.py\u001b[0m in \u001b[0;36m__call__\u001b[0;34m(self, iterable)\u001b[0m\n\u001b[1;32m   1054\u001b[0m \u001b[0;34m\u001b[0m\u001b[0m\n\u001b[1;32m   1055\u001b[0m             \u001b[0;32mwith\u001b[0m \u001b[0mself\u001b[0m\u001b[0;34m.\u001b[0m\u001b[0m_backend\u001b[0m\u001b[0;34m.\u001b[0m\u001b[0mretrieval_context\u001b[0m\u001b[0;34m(\u001b[0m\u001b[0;34m)\u001b[0m\u001b[0;34m:\u001b[0m\u001b[0;34m\u001b[0m\u001b[0;34m\u001b[0m\u001b[0m\n\u001b[0;32m-> 1056\u001b[0;31m                 \u001b[0mself\u001b[0m\u001b[0;34m.\u001b[0m\u001b[0mretrieve\u001b[0m\u001b[0;34m(\u001b[0m\u001b[0;34m)\u001b[0m\u001b[0;34m\u001b[0m\u001b[0;34m\u001b[0m\u001b[0m\n\u001b[0m\u001b[1;32m   1057\u001b[0m             \u001b[0;31m# Make sure that we get a last message telling us we are done\u001b[0m\u001b[0;34m\u001b[0m\u001b[0;34m\u001b[0m\u001b[0m\n\u001b[1;32m   1058\u001b[0m             \u001b[0melapsed_time\u001b[0m \u001b[0;34m=\u001b[0m \u001b[0mtime\u001b[0m\u001b[0;34m.\u001b[0m\u001b[0mtime\u001b[0m\u001b[0;34m(\u001b[0m\u001b[0;34m)\u001b[0m \u001b[0;34m-\u001b[0m \u001b[0mself\u001b[0m\u001b[0;34m.\u001b[0m\u001b[0m_start_time\u001b[0m\u001b[0;34m\u001b[0m\u001b[0;34m\u001b[0m\u001b[0m\n",
      "\u001b[0;32m~/opt/anaconda3/lib/python3.9/site-packages/joblib/parallel.py\u001b[0m in \u001b[0;36mretrieve\u001b[0;34m(self)\u001b[0m\n\u001b[1;32m    933\u001b[0m             \u001b[0;32mtry\u001b[0m\u001b[0;34m:\u001b[0m\u001b[0;34m\u001b[0m\u001b[0;34m\u001b[0m\u001b[0m\n\u001b[1;32m    934\u001b[0m                 \u001b[0;32mif\u001b[0m \u001b[0mgetattr\u001b[0m\u001b[0;34m(\u001b[0m\u001b[0mself\u001b[0m\u001b[0;34m.\u001b[0m\u001b[0m_backend\u001b[0m\u001b[0;34m,\u001b[0m \u001b[0;34m'supports_timeout'\u001b[0m\u001b[0;34m,\u001b[0m \u001b[0;32mFalse\u001b[0m\u001b[0;34m)\u001b[0m\u001b[0;34m:\u001b[0m\u001b[0;34m\u001b[0m\u001b[0;34m\u001b[0m\u001b[0m\n\u001b[0;32m--> 935\u001b[0;31m                     \u001b[0mself\u001b[0m\u001b[0;34m.\u001b[0m\u001b[0m_output\u001b[0m\u001b[0;34m.\u001b[0m\u001b[0mextend\u001b[0m\u001b[0;34m(\u001b[0m\u001b[0mjob\u001b[0m\u001b[0;34m.\u001b[0m\u001b[0mget\u001b[0m\u001b[0;34m(\u001b[0m\u001b[0mtimeout\u001b[0m\u001b[0;34m=\u001b[0m\u001b[0mself\u001b[0m\u001b[0;34m.\u001b[0m\u001b[0mtimeout\u001b[0m\u001b[0;34m)\u001b[0m\u001b[0;34m)\u001b[0m\u001b[0;34m\u001b[0m\u001b[0;34m\u001b[0m\u001b[0m\n\u001b[0m\u001b[1;32m    936\u001b[0m                 \u001b[0;32melse\u001b[0m\u001b[0;34m:\u001b[0m\u001b[0;34m\u001b[0m\u001b[0;34m\u001b[0m\u001b[0m\n\u001b[1;32m    937\u001b[0m                     \u001b[0mself\u001b[0m\u001b[0;34m.\u001b[0m\u001b[0m_output\u001b[0m\u001b[0;34m.\u001b[0m\u001b[0mextend\u001b[0m\u001b[0;34m(\u001b[0m\u001b[0mjob\u001b[0m\u001b[0;34m.\u001b[0m\u001b[0mget\u001b[0m\u001b[0;34m(\u001b[0m\u001b[0;34m)\u001b[0m\u001b[0;34m)\u001b[0m\u001b[0;34m\u001b[0m\u001b[0;34m\u001b[0m\u001b[0m\n",
      "\u001b[0;32m~/opt/anaconda3/lib/python3.9/multiprocessing/pool.py\u001b[0m in \u001b[0;36mget\u001b[0;34m(self, timeout)\u001b[0m\n\u001b[1;32m    763\u001b[0m \u001b[0;34m\u001b[0m\u001b[0m\n\u001b[1;32m    764\u001b[0m     \u001b[0;32mdef\u001b[0m \u001b[0mget\u001b[0m\u001b[0;34m(\u001b[0m\u001b[0mself\u001b[0m\u001b[0;34m,\u001b[0m \u001b[0mtimeout\u001b[0m\u001b[0;34m=\u001b[0m\u001b[0;32mNone\u001b[0m\u001b[0;34m)\u001b[0m\u001b[0;34m:\u001b[0m\u001b[0;34m\u001b[0m\u001b[0;34m\u001b[0m\u001b[0m\n\u001b[0;32m--> 765\u001b[0;31m         \u001b[0mself\u001b[0m\u001b[0;34m.\u001b[0m\u001b[0mwait\u001b[0m\u001b[0;34m(\u001b[0m\u001b[0mtimeout\u001b[0m\u001b[0;34m)\u001b[0m\u001b[0;34m\u001b[0m\u001b[0;34m\u001b[0m\u001b[0m\n\u001b[0m\u001b[1;32m    766\u001b[0m         \u001b[0;32mif\u001b[0m \u001b[0;32mnot\u001b[0m \u001b[0mself\u001b[0m\u001b[0;34m.\u001b[0m\u001b[0mready\u001b[0m\u001b[0;34m(\u001b[0m\u001b[0;34m)\u001b[0m\u001b[0;34m:\u001b[0m\u001b[0;34m\u001b[0m\u001b[0;34m\u001b[0m\u001b[0m\n\u001b[1;32m    767\u001b[0m             \u001b[0;32mraise\u001b[0m \u001b[0mTimeoutError\u001b[0m\u001b[0;34m\u001b[0m\u001b[0;34m\u001b[0m\u001b[0m\n",
      "\u001b[0;32m~/opt/anaconda3/lib/python3.9/multiprocessing/pool.py\u001b[0m in \u001b[0;36mwait\u001b[0;34m(self, timeout)\u001b[0m\n\u001b[1;32m    760\u001b[0m \u001b[0;34m\u001b[0m\u001b[0m\n\u001b[1;32m    761\u001b[0m     \u001b[0;32mdef\u001b[0m \u001b[0mwait\u001b[0m\u001b[0;34m(\u001b[0m\u001b[0mself\u001b[0m\u001b[0;34m,\u001b[0m \u001b[0mtimeout\u001b[0m\u001b[0;34m=\u001b[0m\u001b[0;32mNone\u001b[0m\u001b[0;34m)\u001b[0m\u001b[0;34m:\u001b[0m\u001b[0;34m\u001b[0m\u001b[0;34m\u001b[0m\u001b[0m\n\u001b[0;32m--> 762\u001b[0;31m         \u001b[0mself\u001b[0m\u001b[0;34m.\u001b[0m\u001b[0m_event\u001b[0m\u001b[0;34m.\u001b[0m\u001b[0mwait\u001b[0m\u001b[0;34m(\u001b[0m\u001b[0mtimeout\u001b[0m\u001b[0;34m)\u001b[0m\u001b[0;34m\u001b[0m\u001b[0;34m\u001b[0m\u001b[0m\n\u001b[0m\u001b[1;32m    763\u001b[0m \u001b[0;34m\u001b[0m\u001b[0m\n\u001b[1;32m    764\u001b[0m     \u001b[0;32mdef\u001b[0m \u001b[0mget\u001b[0m\u001b[0;34m(\u001b[0m\u001b[0mself\u001b[0m\u001b[0;34m,\u001b[0m \u001b[0mtimeout\u001b[0m\u001b[0;34m=\u001b[0m\u001b[0;32mNone\u001b[0m\u001b[0;34m)\u001b[0m\u001b[0;34m:\u001b[0m\u001b[0;34m\u001b[0m\u001b[0;34m\u001b[0m\u001b[0m\n",
      "\u001b[0;32m~/opt/anaconda3/lib/python3.9/threading.py\u001b[0m in \u001b[0;36mwait\u001b[0;34m(self, timeout)\u001b[0m\n\u001b[1;32m    579\u001b[0m             \u001b[0msignaled\u001b[0m \u001b[0;34m=\u001b[0m \u001b[0mself\u001b[0m\u001b[0;34m.\u001b[0m\u001b[0m_flag\u001b[0m\u001b[0;34m\u001b[0m\u001b[0;34m\u001b[0m\u001b[0m\n\u001b[1;32m    580\u001b[0m             \u001b[0;32mif\u001b[0m \u001b[0;32mnot\u001b[0m \u001b[0msignaled\u001b[0m\u001b[0;34m:\u001b[0m\u001b[0;34m\u001b[0m\u001b[0;34m\u001b[0m\u001b[0m\n\u001b[0;32m--> 581\u001b[0;31m                 \u001b[0msignaled\u001b[0m \u001b[0;34m=\u001b[0m \u001b[0mself\u001b[0m\u001b[0;34m.\u001b[0m\u001b[0m_cond\u001b[0m\u001b[0;34m.\u001b[0m\u001b[0mwait\u001b[0m\u001b[0;34m(\u001b[0m\u001b[0mtimeout\u001b[0m\u001b[0;34m)\u001b[0m\u001b[0;34m\u001b[0m\u001b[0;34m\u001b[0m\u001b[0m\n\u001b[0m\u001b[1;32m    582\u001b[0m             \u001b[0;32mreturn\u001b[0m \u001b[0msignaled\u001b[0m\u001b[0;34m\u001b[0m\u001b[0;34m\u001b[0m\u001b[0m\n\u001b[1;32m    583\u001b[0m \u001b[0;34m\u001b[0m\u001b[0m\n",
      "\u001b[0;32m~/opt/anaconda3/lib/python3.9/threading.py\u001b[0m in \u001b[0;36mwait\u001b[0;34m(self, timeout)\u001b[0m\n\u001b[1;32m    310\u001b[0m         \u001b[0;32mtry\u001b[0m\u001b[0;34m:\u001b[0m    \u001b[0;31m# restore state no matter what (e.g., KeyboardInterrupt)\u001b[0m\u001b[0;34m\u001b[0m\u001b[0;34m\u001b[0m\u001b[0m\n\u001b[1;32m    311\u001b[0m             \u001b[0;32mif\u001b[0m \u001b[0mtimeout\u001b[0m \u001b[0;32mis\u001b[0m \u001b[0;32mNone\u001b[0m\u001b[0;34m:\u001b[0m\u001b[0;34m\u001b[0m\u001b[0;34m\u001b[0m\u001b[0m\n\u001b[0;32m--> 312\u001b[0;31m                 \u001b[0mwaiter\u001b[0m\u001b[0;34m.\u001b[0m\u001b[0macquire\u001b[0m\u001b[0;34m(\u001b[0m\u001b[0;34m)\u001b[0m\u001b[0;34m\u001b[0m\u001b[0;34m\u001b[0m\u001b[0m\n\u001b[0m\u001b[1;32m    313\u001b[0m                 \u001b[0mgotit\u001b[0m \u001b[0;34m=\u001b[0m \u001b[0;32mTrue\u001b[0m\u001b[0;34m\u001b[0m\u001b[0;34m\u001b[0m\u001b[0m\n\u001b[1;32m    314\u001b[0m             \u001b[0;32melse\u001b[0m\u001b[0;34m:\u001b[0m\u001b[0;34m\u001b[0m\u001b[0;34m\u001b[0m\u001b[0m\n",
      "\u001b[0;31mKeyboardInterrupt\u001b[0m: "
     ]
    }
   ],
   "source": [
    "scores = []\n",
    "scorebest = 10**6\n",
    "for e in range(100,200,10):\n",
    "    print(e)\n",
    "    rf = RandomForestRegressor(n_estimators=e, n_jobs=-1)\n",
    "    rf.fit(X_train, y_train)\n",
    "    y_train_pred_rf = rf.predict(X_train)\n",
    "    y_val_pred_rf = rf.predict(X_val)\n",
    "    score_e = rmse(y_val, y_val_pred_rf)\n",
    "    scores.append([e,score_e])\n",
    "    if score_e < scorebest:\n",
    "        scorebest = score_e\n",
    "        ebest = e"
   ]
  },
  {
   "cell_type": "code",
   "execution_count": null,
   "id": "5e2c584e",
   "metadata": {},
   "outputs": [],
   "source": [
    "dfscores = pd.DataFrame(scores, columns=['n_estimators', 'rmse'])"
   ]
  },
  {
   "cell_type": "code",
   "execution_count": null,
   "id": "ba616e3c",
   "metadata": {},
   "outputs": [],
   "source": [
    "plt.plot(dfscores.n_estimators, dfscores.rmse)"
   ]
  },
  {
   "cell_type": "code",
   "execution_count": null,
   "id": "24eb8606",
   "metadata": {},
   "outputs": [],
   "source": [
    "ebest"
   ]
  },
  {
   "cell_type": "code",
   "execution_count": null,
   "id": "a4c442f7",
   "metadata": {},
   "outputs": [],
   "source": [
    "scores = []\n",
    "\n",
    "for d in [15, 20, 25]:\n",
    "    print(d)\n",
    "    for n in range(100,160,20):\n",
    "        rf = RandomForestRegressor(n_estimators=n,\n",
    "                                    max_depth=d,\n",
    "                                    random_state=1)\n",
    "        rf.fit(X_train, y_train)\n",
    "\n",
    "        y_pred = rf.predict(X_val)\n",
    "        score = rmse(y_val, y_pred)\n",
    "\n",
    "        scores.append((d, n, score))"
   ]
  },
  {
   "cell_type": "code",
   "execution_count": null,
   "id": "0ffc4b63",
   "metadata": {},
   "outputs": [],
   "source": [
    "columns = ['max_depth', 'n_estimators', 'score']\n",
    "df_scores = pd.DataFrame(scores, columns=columns)"
   ]
  },
  {
   "cell_type": "code",
   "execution_count": null,
   "id": "705ec19e",
   "metadata": {},
   "outputs": [],
   "source": [
    "for d in [15,20,25]:\n",
    "    df_subset = df_scores[df_scores.max_depth == d]\n",
    "    \n",
    "    plt.plot(df_subset.n_estimators, df_subset.score,\n",
    "             label='max_depth=%d' % d)\n",
    "\n",
    "plt.legend()"
   ]
  },
  {
   "cell_type": "code",
   "execution_count": null,
   "id": "b786b129",
   "metadata": {},
   "outputs": [],
   "source": [
    "max_depth = 20"
   ]
  },
  {
   "cell_type": "code",
   "execution_count": null,
   "id": "c947e05b",
   "metadata": {},
   "outputs": [],
   "source": [
    "scores = []\n",
    "\n",
    "for s in [1, 3, 5, 10, 50]:\n",
    "    print(s)\n",
    "    for n in range(120, 220, 20):\n",
    "        rf = RandomForestRegressor(n_estimators=n,\n",
    "                                    max_depth=max_depth,\n",
    "                                    min_samples_leaf=s,\n",
    "                                    random_state=1)\n",
    "        rf.fit(X_train, y_train)\n",
    "\n",
    "        y_pred = rf.predict(X_val)\n",
    "        score = rmse(y_val, y_pred)\n",
    "\n",
    "        scores.append((s, n, score))"
   ]
  },
  {
   "cell_type": "code",
   "execution_count": null,
   "id": "49397750",
   "metadata": {},
   "outputs": [],
   "source": [
    "columns = ['min_samples_leaf', 'n_estimators', 'score']\n",
    "df_scores = pd.DataFrame(scores, columns=columns)"
   ]
  },
  {
   "cell_type": "code",
   "execution_count": null,
   "id": "c7b831bc",
   "metadata": {},
   "outputs": [],
   "source": [
    "values = [1, 3, 5, 10, 50]\n",
    "\n",
    "for s in values:\n",
    "    df_subset = df_scores[df_scores.min_samples_leaf == s]\n",
    "    \n",
    "    plt.plot(df_subset.n_estimators, df_subset.score,\n",
    "             label='min_samples_leaf=%d' % s)\n",
    "\n",
    "plt.legend()"
   ]
  },
  {
   "cell_type": "code",
   "execution_count": null,
   "id": "8d36dfc6",
   "metadata": {},
   "outputs": [],
   "source": [
    "min_samples_leaf = 1"
   ]
  },
  {
   "cell_type": "code",
   "execution_count": null,
   "id": "09659893",
   "metadata": {},
   "outputs": [],
   "source": [
    "rf = RandomForestRegressor(n_estimators=120,\n",
    "                            max_depth=max_depth,\n",
    "                            min_samples_leaf=min_samples_leaf,\n",
    "                            random_state=1)\n",
    "rf.fit(X_train, y_train)"
   ]
  },
  {
   "cell_type": "code",
   "execution_count": null,
   "id": "538253e7",
   "metadata": {},
   "outputs": [],
   "source": [
    "y_val_pred_rf = rf.predict(X_val)\n",
    "print('validation:', '\\n rmse =', rmse(y_val, y_val_pred_rf), '\\n mae = ', mae(y_val, y_val_pred_rf))"
   ]
  },
  {
   "cell_type": "code",
   "execution_count": null,
   "id": "bc36d51d",
   "metadata": {},
   "outputs": [],
   "source": [
    "X_test = prepare_X(df_test)\n",
    "y_test_pred_rf = rf.predict(X_test)\n",
    "print('test:', '\\n rmse =', rmse(y_test, y_test_pred_rf), '\\n mae = ', mae(y_test, y_test_pred_rf))"
   ]
  },
  {
   "cell_type": "markdown",
   "id": "480e66d2",
   "metadata": {},
   "source": [
    "# Testing on Data just 1 month in again"
   ]
  },
  {
   "cell_type": "markdown",
   "id": "4eadfda4",
   "metadata": {},
   "source": [
    "This model appears to perform much better! However, it's deceiving because this dataset includes data close to the end of season, which is easier to predict. Let's see how the model does just on the 1 month data:"
   ]
  },
  {
   "cell_type": "code",
   "execution_count": null,
   "id": "4ebea22b",
   "metadata": {},
   "outputs": [],
   "source": [
    "df_1month = pd.concat([df_test[df_test.GP < 14], df_val[df_val.GP < 14]])"
   ]
  },
  {
   "cell_type": "code",
   "execution_count": null,
   "id": "8e711c82",
   "metadata": {},
   "outputs": [],
   "source": [
    "df_y_test = pd.DataFrame(y_test)\n",
    "df_y_val = pd.DataFrame(y_val)\n",
    "df_y_1month = pd.concat([df_y_test, df_y_val])\n",
    "df_y_1month = df_y_1month.reset_index()\n",
    "df_y_1month[['Name', 'GP']] = df_y_1month['Name_GP'].str.split('_', expand=True)\n",
    "df_y_1month[\"GP\"] = pd.to_numeric(df_y_1month[\"GP\"])\n",
    "df_y_1month = df_y_1month[df_y_1month.GP < 14]\n",
    "df_y_1month = df_y_1month.set_index(\"Name_GP\")\n",
    "\n",
    "y_1month = df_y_1month[\"Pend\"]"
   ]
  },
  {
   "cell_type": "code",
   "execution_count": null,
   "id": "1f65e300",
   "metadata": {},
   "outputs": [],
   "source": [
    "X_1month = prepare_X(df_1month)\n",
    "y_1month_pred = w_0 + X_1month.dot(w)\n",
    "y_1month_pred_rf = rf.predict(X_1month)\n",
    "print('Linear Regression:', '\\n rmse =', rmse(y_1month, y_1month_pred), '\\n mae = ', mae(y_1month, y_1month_pred))\n",
    "print('Random Forest:', '\\n rmse =', rmse(y_1month, y_1month_pred_rf), '\\n mae = ', mae(y_1month, y_1month_pred_rf))"
   ]
  },
  {
   "cell_type": "markdown",
   "id": "a01a08c6",
   "metadata": {},
   "source": [
    "### Actually not too bad!"
   ]
  },
  {
   "cell_type": "code",
   "execution_count": null,
   "id": "3f8a17ab",
   "metadata": {},
   "outputs": [],
   "source": [
    "def maxdif(y, y_pred):\n",
    "    error = abs(y - y_pred)\n",
    "    error_sorted = error.sort_values(ascending=False)[:5]\n",
    "    return error_sorted"
   ]
  },
  {
   "cell_type": "code",
   "execution_count": null,
   "id": "f460f6e6",
   "metadata": {},
   "outputs": [],
   "source": [
    "print('Linear Regression:', '\\n 5 Largest Residuals \\n', maxdif(y_1month, y_1month_pred))\n",
    "print('Random Forest:', '\\n 5 Largest Residuals \\n', maxdif(y_1month, y_1month_pred_rf))"
   ]
  },
  {
   "cell_type": "markdown",
   "id": "3e342876",
   "metadata": {},
   "source": [
    "## Investigating Random Forest"
   ]
  },
  {
   "cell_type": "code",
   "execution_count": null,
   "id": "9c6fb327",
   "metadata": {},
   "outputs": [],
   "source": [
    "from sklearn.tree import plot_tree\n",
    "import matplotlib.pyplot as plt\n",
    "from sklearn.tree import export_text\n",
    "\n",
    "tree_index = 25\n",
    "individual_tree = rf.estimators_[tree_index]\n",
    "\n",
    "# Plot the first decision tree in the random forest\n",
    "plt.figure(figsize=(20, 10))\n",
    "plot_tree(individual_tree, max_depth=2, label='root', filled=True, feature_names=list(df_train.columns), class_names=True)\n",
    "plt.show()"
   ]
  },
  {
   "cell_type": "code",
   "execution_count": null,
   "id": "1004c507",
   "metadata": {},
   "outputs": [],
   "source": [
    "rf.feature_importances_\n",
    "importances = list(zip(list(df_train.columns), rf.feature_importances_))\n",
    "\n",
    "df_importance = pd.DataFrame(importances, columns=['feature', 'gain'])\n",
    "df_importance = df_importance.sort_values(by='gain', ascending=False)\n",
    "\n",
    "df_importance"
   ]
  },
  {
   "cell_type": "markdown",
   "id": "6aa5868e",
   "metadata": {},
   "source": [
    "# Compare models to simple extrapolation"
   ]
  },
  {
   "cell_type": "code",
   "execution_count": null,
   "id": "01d38d5b",
   "metadata": {},
   "outputs": [],
   "source": [
    "df_test_simp = df_test.copy()\n",
    "df_test_simp[\"Pred\"] = 82 * df_test_simp[\"P/GP\"]\n",
    "y_test_simp = df_test_simp[\"Pred\"]"
   ]
  },
  {
   "cell_type": "code",
   "execution_count": null,
   "id": "c5561cb7",
   "metadata": {},
   "outputs": [],
   "source": [
    "print('Simple Model:', '\\n rmse =', rmse(y_test, y_test_simp), '\\n mae = ', mae(y_test, y_test_simp))\n",
    "print('Linear Regression:', '\\n rmse =', rmse(y_test, y_test_pred), '\\n mae = ', mae(y_test, y_test_pred))\n",
    "print('Random Forest:', '\\n rmse =', rmse(y_test, y_test_pred_rf), '\\n mae = ', mae(y_test, y_test_pred_rf))"
   ]
  },
  {
   "cell_type": "markdown",
   "id": "373d84fa",
   "metadata": {},
   "source": [
    "### Thus, our models are certainly better than the simple model. The simple model does fail terribly for very low GPs, as expected:"
   ]
  },
  {
   "cell_type": "code",
   "execution_count": null,
   "id": "454f3fc9",
   "metadata": {},
   "outputs": [],
   "source": [
    "print('Simple model:', '\\n 5 Largest Residuals \\n', maxdif(y_test, y_test_simp))"
   ]
  },
  {
   "cell_type": "markdown",
   "id": "bc02d6e1",
   "metadata": {},
   "source": [
    "# Gradient Boosting"
   ]
  },
  {
   "cell_type": "code",
   "execution_count": 31,
   "id": "9e956f10",
   "metadata": {},
   "outputs": [],
   "source": [
    "import xgboost as xgb"
   ]
  },
  {
   "cell_type": "code",
   "execution_count": 32,
   "id": "4009cb15",
   "metadata": {},
   "outputs": [],
   "source": [
    "dtrain = xgb.DMatrix(X_train, label=y_train, feature_names=list(df_train.columns))\n",
    "dval = xgb.DMatrix(X_val, label=y_val, feature_names=list(df_train.columns))\n",
    "dtest = xgb.DMatrix(X_test, label=y_test, feature_names=list(df_train.columns))"
   ]
  },
  {
   "cell_type": "code",
   "execution_count": 38,
   "id": "e3ee37f6",
   "metadata": {},
   "outputs": [
    {
     "data": {
      "text/plain": [
       "array([[ 38.  ,   1.  ,  78.  , ..., 348.  , 307.  ,  53.13],\n",
       "       [ 28.  ,   0.  ,  46.  , ...,   0.  ,   0.  ,   0.  ],\n",
       "       [ 27.  ,   1.  ,  62.  , ...,   1.  ,   5.  ,  16.67],\n",
       "       ...,\n",
       "       [ 31.  ,   1.  ,   5.  , ...,  18.  ,  15.  ,  54.55],\n",
       "       [ 30.  ,   1.  ,  42.  , ..., 293.  , 240.  ,  54.97],\n",
       "       [ 28.  ,   1.  ,  25.  , ..., 177.  , 144.  ,  55.14]])"
      ]
     },
     "execution_count": 38,
     "metadata": {},
     "output_type": "execute_result"
    }
   ],
   "source": [
    "X_test"
   ]
  },
  {
   "cell_type": "code",
   "execution_count": 671,
   "id": "515a0372",
   "metadata": {},
   "outputs": [],
   "source": [
    "xgb_params = {\n",
    "    'eta': 0.1,\n",
    "    'max_depth': 6,\n",
    "    'min_child_weight': 1,\n",
    "    \n",
    "    'objective': 'reg:squarederror',\n",
    "    'nthread': 8,\n",
    "    \n",
    "    'seed': 1,\n",
    "    'verbosity': 1,  \n",
    "}\n",
    "\n",
    "gb = xgb.train(xgb_params, dtrain, num_boost_round=200)"
   ]
  },
  {
   "cell_type": "code",
   "execution_count": 672,
   "id": "58c3a2a8",
   "metadata": {},
   "outputs": [],
   "source": [
    "y_val_pred_gb = gb.predict(dval)\n",
    "y_test_pred_gb = gb.predict(dtest)"
   ]
  },
  {
   "cell_type": "code",
   "execution_count": 673,
   "id": "2e394963",
   "metadata": {},
   "outputs": [
    {
     "name": "stdout",
     "output_type": "stream",
     "text": [
      "\n",
      " rmse = 6.903487049852391 \n",
      " mae =  4.738119786126273\n"
     ]
    }
   ],
   "source": [
    "print('\\n rmse =', rmse(y_val, y_val_pred_gb), '\\n mae = ', mae(y_val, y_val_pred_gb))"
   ]
  },
  {
   "cell_type": "code",
   "execution_count": 33,
   "id": "fe6fbe90",
   "metadata": {},
   "outputs": [],
   "source": [
    "watchlist = [(dtrain, \"train\"), (dval, \"val\")]"
   ]
  },
  {
   "cell_type": "code",
   "execution_count": 584,
   "id": "7e4c8567",
   "metadata": {},
   "outputs": [],
   "source": [
    "%%capture output\n",
    "\n",
    "xgb_params = {\n",
    "    'eta': 0.3,\n",
    "    'max_depth': 6,\n",
    "    'min_child_weight': 1,\n",
    "    \n",
    "    'objective': 'reg:squarederror',\n",
    "    'nthread': 8,\n",
    "    \n",
    "    'seed': 1,\n",
    "    'verbosity': 1,  \n",
    "}\n",
    "\n",
    "gb = xgb.train(xgb_params, dtrain, num_boost_round=5000, verbose_eval = 1, evals = watchlist)"
   ]
  },
  {
   "cell_type": "code",
   "execution_count": 675,
   "id": "342186d7",
   "metadata": {},
   "outputs": [],
   "source": [
    "def parse_xgb_output(output):\n",
    "    tree = []\n",
    "    rmse_train = []\n",
    "    rmse_val = []\n",
    "\n",
    "    for line in output.stdout.strip().split('\\n'):\n",
    "        it_line, train_line, val_line = line.split('\\t')\n",
    "\n",
    "        it = int(it_line.strip('[]'))\n",
    "        train = float(train_line.split(':')[1])\n",
    "        val = float(val_line.split(':')[1])\n",
    "\n",
    "        tree.append(it)\n",
    "        rmse_train.append(train)\n",
    "        rmse_val.append(val)\n",
    "\n",
    "    return tree, rmse_train, rmse_val"
   ]
  },
  {
   "cell_type": "code",
   "execution_count": 520,
   "id": "b2e621d6",
   "metadata": {},
   "outputs": [],
   "source": [
    "tree, rmse_train, rmse_val = parse_xgb_output(output)"
   ]
  },
  {
   "cell_type": "markdown",
   "id": "50ee0f32",
   "metadata": {},
   "source": [
    "## Checking how num_boost_round affects results"
   ]
  },
  {
   "cell_type": "code",
   "execution_count": 583,
   "id": "cc4399bf",
   "metadata": {},
   "outputs": [
    {
     "data": {
      "image/png": "[encoded data removed]",
      "text/plain": [
       "<Figure size 600x400 with 1 Axes>"
      ]
     },
     "metadata": {},
     "output_type": "display_data"
    }
   ],
   "source": [
    "\n",
    "\n",
    "plt.figure(figsize=(6, 4))\n",
    "\n",
    "plt.plot(tree, rmse_train, color='black', linestyle='dashed', label='Train RMSE')\n",
    "plt.plot(tree, rmse_val, color='black', linestyle='solid', label='Validation RMSE')\n",
    "plt.xticks(range(0, 1001, 100))\n",
    "\n",
    "plt.legend()\n",
    "\n",
    "plt.title('XGBoost: number of trees vs RMSE')\n",
    "plt.xlabel('Number of trees')\n",
    "plt.ylabel('RMSE')\n",
    "\n",
    "plt.show()\n",
    "\n"
   ]
  },
  {
   "cell_type": "markdown",
   "id": "c956c782",
   "metadata": {},
   "source": [
    "## Checking how eta affects results"
   ]
  },
  {
   "cell_type": "code",
   "execution_count": 585,
   "id": "04f03de7",
   "metadata": {},
   "outputs": [
    {
     "name": "stdout",
     "output_type": "stream",
     "text": [
      "7.29642\n",
      "(7.29642, 189)\n"
     ]
    }
   ],
   "source": [
    "tree, _, rmse_val_eta_03 = parse_xgb_output(output)\n",
    "print(min(rmse_val_eta_03))\n",
    "print(min(zip(rmse_val_eta_03, tree)))"
   ]
  },
  {
   "cell_type": "code",
   "execution_count": 586,
   "id": "811f55e3",
   "metadata": {},
   "outputs": [],
   "source": [
    "%%capture output\n",
    "\n",
    "xgb_params = {\n",
    "    'eta': 0.1,\n",
    "    'max_depth': 6,\n",
    "    'min_child_weight': 1,\n",
    "    \n",
    "    'objective': 'reg:squarederror',\n",
    "    'nthread': 8,\n",
    "    \n",
    "    'seed': 1,\n",
    "    'verbosity': 1,  \n",
    "}\n",
    "\n",
    "gb = xgb.train(xgb_params, dtrain, num_boost_round=5000, verbose_eval = 1, evals = watchlist)"
   ]
  },
  {
   "cell_type": "code",
   "execution_count": 587,
   "id": "78acf72f",
   "metadata": {},
   "outputs": [
    {
     "name": "stdout",
     "output_type": "stream",
     "text": [
      "6.87328\n",
      "(6.87328, 1107)\n"
     ]
    }
   ],
   "source": [
    "tree, _, rmse_val_eta_01 = parse_xgb_output(output)\n",
    "print(min(rmse_val_eta_01))\n",
    "print(min(zip(rmse_val_eta_01, tree)))"
   ]
  },
  {
   "cell_type": "code",
   "execution_count": 588,
   "id": "99ff15a2",
   "metadata": {},
   "outputs": [],
   "source": [
    "%%capture output\n",
    "\n",
    "xgb_params = {\n",
    "    'eta': 0.05,\n",
    "    'max_depth': 6,\n",
    "    'min_child_weight': 1,\n",
    "    \n",
    "    'objective': 'reg:squarederror',\n",
    "    'nthread': 8,\n",
    "    \n",
    "    'seed': 1,\n",
    "    'verbosity': 1,  \n",
    "}\n",
    "\n",
    "gb = xgb.train(xgb_params, dtrain, num_boost_round=5000, verbose_eval = 1, evals = watchlist)"
   ]
  },
  {
   "cell_type": "code",
   "execution_count": 589,
   "id": "a4ad94c8",
   "metadata": {},
   "outputs": [
    {
     "name": "stdout",
     "output_type": "stream",
     "text": [
      "6.78022\n",
      "(6.78022, 1505)\n"
     ]
    }
   ],
   "source": [
    "tree, _, rmse_val_eta_005 = parse_xgb_output(output)\n",
    "print(min(rmse_val_eta_005))\n",
    "print(min(zip(rmse_val_eta_005, tree)))"
   ]
  },
  {
   "cell_type": "code",
   "execution_count": 590,
   "id": "9a84c204",
   "metadata": {},
   "outputs": [],
   "source": [
    "%%capture output\n",
    "\n",
    "xgb_params = {\n",
    "    'eta': 0.01,\n",
    "    'max_depth': 6,\n",
    "    'min_child_weight': 1,\n",
    "    \n",
    "    'objective': 'reg:squarederror',\n",
    "    'nthread': 8,\n",
    "    \n",
    "    'seed': 1,\n",
    "    'verbosity': 1,  \n",
    "}\n",
    "\n",
    "gb = xgb.train(xgb_params, dtrain, num_boost_round=5000, verbose_eval = 1, evals = watchlist)"
   ]
  },
  {
   "cell_type": "code",
   "execution_count": 591,
   "id": "58c000a8",
   "metadata": {},
   "outputs": [
    {
     "name": "stdout",
     "output_type": "stream",
     "text": [
      "6.74886\n",
      "(6.74886, 4993)\n"
     ]
    }
   ],
   "source": [
    "tree, _, rmse_val_eta_001 = parse_xgb_output(output)\n",
    "print(min(rmse_val_eta_001))\n",
    "print(min(zip(rmse_val_eta_001, tree)))"
   ]
  },
  {
   "cell_type": "code",
   "execution_count": 595,
   "id": "783f394f",
   "metadata": {},
   "outputs": [
    {
     "data": {
      "image/png": "[encoded data removed]",
      "text/plain": [
       "<Figure size 600x400 with 1 Axes>"
      ]
     },
     "metadata": {},
     "output_type": "display_data"
    }
   ],
   "source": [
    "plt.figure(figsize=(6, 4))\n",
    "\n",
    "plt.plot(tree, rmse_val_eta_03, color='black', linestyle='solid', label='eta=0.3')\n",
    "plt.plot(tree, rmse_val_eta_01, color='black', linestyle='dashed', label='eta=0.1')\n",
    "plt.plot(tree, rmse_val_eta_005, color='grey', linestyle='solid', label='eta=0.05')\n",
    "plt.plot(tree, rmse_val_eta_001, color='grey', linestyle='dashed', label='eta=0.01')\n",
    "\n",
    "plt.xticks(range(0, 5001, 500))\n",
    "plt.ylim(6.5, 7.5)\n",
    "\n",
    "plt.legend()\n",
    "\n",
    "plt.title('The effect of eta on model performance')\n",
    "plt.xlabel('Number of trees')\n",
    "plt.ylabel('RMSE (validation)')\n",
    "\n",
    "\n",
    "plt.show()"
   ]
  },
  {
   "cell_type": "markdown",
   "id": "c40beaa7",
   "metadata": {},
   "source": [
    "## Checking how max_depth affects results"
   ]
  },
  {
   "cell_type": "code",
   "execution_count": 621,
   "id": "f061416c",
   "metadata": {},
   "outputs": [],
   "source": [
    "%%capture output\n",
    "\n",
    "xgb_params = {\n",
    "    'eta': 0.01,\n",
    "    'max_depth': 7,\n",
    "    'min_child_weight': 1,\n",
    "    \n",
    "    'objective': 'reg:squarederror',\n",
    "    'nthread': 8,\n",
    "    \n",
    "    'seed': 1,\n",
    "    'verbosity': 1,  \n",
    "}\n",
    "\n",
    "gb = xgb.train(xgb_params, dtrain, num_boost_round=5000, verbose_eval = 1, evals = watchlist)"
   ]
  },
  {
   "cell_type": "code",
   "execution_count": 623,
   "id": "283099b9",
   "metadata": {},
   "outputs": [
    {
     "name": "stdout",
     "output_type": "stream",
     "text": [
      "6.90547\n",
      "(6.90547, 4990)\n"
     ]
    }
   ],
   "source": [
    "tree, _, rmse_val_depth7 = parse_xgb_output(output)\n",
    "print(min(rmse_val_depth7))\n",
    "print(min(zip(rmse_val_depth7, tree)))"
   ]
  },
  {
   "cell_type": "code",
   "execution_count": 602,
   "id": "6b83b94a",
   "metadata": {},
   "outputs": [],
   "source": [
    "%%capture output\n",
    "\n",
    "xgb_params = {\n",
    "    'eta': 0.01,\n",
    "    'max_depth': 4,\n",
    "    'min_child_weight': 1,\n",
    "    \n",
    "    'objective': 'reg:squarederror',\n",
    "    'nthread': 8,\n",
    "    \n",
    "    'seed': 1,\n",
    "    'verbosity': 1,  \n",
    "}\n",
    "\n",
    "gb = xgb.train(xgb_params, dtrain, num_boost_round=5000, verbose_eval = 1, evals = watchlist)"
   ]
  },
  {
   "cell_type": "code",
   "execution_count": 603,
   "id": "9df05b9e",
   "metadata": {},
   "outputs": [
    {
     "name": "stdout",
     "output_type": "stream",
     "text": [
      "6.82506\n",
      "(6.82506, 4999)\n"
     ]
    }
   ],
   "source": [
    "tree, _, rmse_val_depth4 = parse_xgb_output(output)\n",
    "print(min(rmse_val_depth4))\n",
    "print(min(zip(rmse_val_depth4, tree)))"
   ]
  },
  {
   "cell_type": "code",
   "execution_count": 604,
   "id": "13d34df2",
   "metadata": {},
   "outputs": [],
   "source": [
    "%%capture output\n",
    "\n",
    "xgb_params = {\n",
    "    'eta': 0.01,\n",
    "    'max_depth': 5,\n",
    "    'min_child_weight': 1,\n",
    "    \n",
    "    'objective': 'reg:squarederror',\n",
    "    'nthread': 8,\n",
    "    \n",
    "    'seed': 1,\n",
    "    'verbosity': 1,  \n",
    "}\n",
    "\n",
    "gb = xgb.train(xgb_params, dtrain, num_boost_round=5000, verbose_eval = 1, evals = watchlist)"
   ]
  },
  {
   "cell_type": "code",
   "execution_count": 605,
   "id": "b1f38155",
   "metadata": {},
   "outputs": [
    {
     "name": "stdout",
     "output_type": "stream",
     "text": [
      "6.83692\n",
      "(6.83692, 4769)\n"
     ]
    }
   ],
   "source": [
    "tree, _, rmse_val_depth5 = parse_xgb_output(output)\n",
    "print(min(rmse_val_depth5))\n",
    "print(min(zip(rmse_val_depth5, tree)))"
   ]
  },
  {
   "cell_type": "code",
   "execution_count": 624,
   "id": "b2ba68cc",
   "metadata": {},
   "outputs": [
    {
     "data": {
      "image/png": "[encoded data removed]",
      "text/plain": [
       "<Figure size 600x400 with 1 Axes>"
      ]
     },
     "metadata": {},
     "output_type": "display_data"
    }
   ],
   "source": [
    "plt.figure(figsize=(6, 4))\n",
    "\n",
    "plt.plot(tree, rmse_val_depth7, color='black', linestyle='dashed', label='max_depth=7')\n",
    "plt.plot(tree, rmse_val_depth5, color='grey', linestyle='dashed', label='max_depth=5')\n",
    "plt.plot(tree, rmse_val_eta_001, color='black', linestyle='solid', label='max_depth=6')\n",
    "plt.plot(tree, rmse_val_depth4, color='grey', linestyle='solid', label='max_depth=4')\n",
    "\n",
    "plt.ylim(6.6, 7.2)\n",
    "plt.xlim(-10, 510)\n",
    "plt.xticks(range(0, 5001, 500))\n",
    "\n",
    "plt.legend()\n",
    "\n",
    "plt.title('The effect of max_depth on model performance')\n",
    "plt.xlabel('Number of trees')\n",
    "plt.ylabel('RMSE (validation)')\n",
    "\n",
    "\n",
    "plt.show()"
   ]
  },
  {
   "cell_type": "markdown",
   "id": "498ee2c2",
   "metadata": {},
   "source": [
    "## Tune min_child_weight"
   ]
  },
  {
   "cell_type": "code",
   "execution_count": 619,
   "id": "4de7fc41",
   "metadata": {},
   "outputs": [],
   "source": [
    "%%capture output\n",
    "\n",
    "xgb_params = {\n",
    "    'eta': 0.01,\n",
    "    'max_depth': 6,\n",
    "    'min_child_weight': 1,\n",
    "    \n",
    "    'objective': 'reg:squarederror',\n",
    "    'nthread': 8,\n",
    "    \n",
    "    'seed': 1,\n",
    "    'verbosity': 1,  \n",
    "}\n",
    "\n",
    "gb = xgb.train(xgb_params, dtrain, num_boost_round=5000, verbose_eval = 1, evals = watchlist)"
   ]
  },
  {
   "cell_type": "code",
   "execution_count": 620,
   "id": "5ee5727e",
   "metadata": {},
   "outputs": [
    {
     "name": "stdout",
     "output_type": "stream",
     "text": [
      "6.74886\n",
      "(6.74886, 4993)\n"
     ]
    }
   ],
   "source": [
    "tree, _, rmse_val_mcw1 = parse_xgb_output(output)\n",
    "print(min(rmse_val_mcw1))\n",
    "print(min(zip(rmse_val_mcw1, tree)))"
   ]
  },
  {
   "cell_type": "code",
   "execution_count": 635,
   "id": "463ef0dd",
   "metadata": {},
   "outputs": [],
   "source": [
    "%%capture output\n",
    "\n",
    "xgb_params = {\n",
    "    'eta': 0.01,\n",
    "    'max_depth': 6,\n",
    "    'min_child_weight': 5,\n",
    "    \n",
    "    'objective': 'reg:squarederror',\n",
    "    'nthread': 8,\n",
    "    \n",
    "    'seed': 1,\n",
    "    'verbosity': 1,  \n",
    "}\n",
    "\n",
    "gb = xgb.train(xgb_params, dtrain, num_boost_round=5000, verbose_eval = 1, evals = watchlist)"
   ]
  },
  {
   "cell_type": "code",
   "execution_count": 636,
   "id": "80c60281",
   "metadata": {},
   "outputs": [
    {
     "name": "stdout",
     "output_type": "stream",
     "text": [
      "6.78341\n",
      "(6.78341, 4862)\n"
     ]
    }
   ],
   "source": [
    "tree, _, rmse_val_mcw5 = parse_xgb_output(output)\n",
    "print(min(rmse_val_mcw5))\n",
    "print(min(zip(rmse_val_mcw5, tree)))"
   ]
  },
  {
   "cell_type": "code",
   "execution_count": 638,
   "id": "0486aa13",
   "metadata": {},
   "outputs": [],
   "source": [
    "%%capture output\n",
    "\n",
    "xgb_params = {\n",
    "    'eta': 0.01,\n",
    "    'max_depth': 6,\n",
    "    'min_child_weight': 3,\n",
    "    \n",
    "    'objective': 'reg:squarederror',\n",
    "    'nthread': 8,\n",
    "    \n",
    "    'seed': 1,\n",
    "    'verbosity': 1,  \n",
    "}\n",
    "\n",
    "gb = xgb.train(xgb_params, dtrain, num_boost_round=5000, verbose_eval = 1, evals = watchlist)"
   ]
  },
  {
   "cell_type": "code",
   "execution_count": 639,
   "id": "75779e28",
   "metadata": {},
   "outputs": [
    {
     "name": "stdout",
     "output_type": "stream",
     "text": [
      "6.85669\n",
      "(6.85669, 3006)\n"
     ]
    }
   ],
   "source": [
    "tree, _, rmse_val_mcw3 = parse_xgb_output(output)\n",
    "print(min(rmse_val_mcw3))\n",
    "print(min(zip(rmse_val_mcw3, tree)))"
   ]
  },
  {
   "cell_type": "code",
   "execution_count": 645,
   "id": "48b49822",
   "metadata": {},
   "outputs": [],
   "source": [
    "%%capture output\n",
    "\n",
    "xgb_params = {\n",
    "    'eta': 0.01,\n",
    "    'max_depth': 6,\n",
    "    'min_child_weight': 6,\n",
    "    \n",
    "    'objective': 'reg:squarederror',\n",
    "    'nthread': 8,\n",
    "    \n",
    "    'seed': 1,\n",
    "    'verbosity': 1,  \n",
    "}\n",
    "\n",
    "gb = xgb.train(xgb_params, dtrain, num_boost_round=5000, verbose_eval = 1, evals = watchlist)"
   ]
  },
  {
   "cell_type": "code",
   "execution_count": 646,
   "id": "6d7a07b3",
   "metadata": {},
   "outputs": [
    {
     "name": "stdout",
     "output_type": "stream",
     "text": [
      "6.84478\n",
      "(6.84478, 4523)\n"
     ]
    }
   ],
   "source": [
    "tree, _, rmse_val_mcw6 = parse_xgb_output(output)\n",
    "print(min(rmse_val_mcw6))\n",
    "print(min(zip(rmse_val_mcw6, tree)))"
   ]
  },
  {
   "cell_type": "code",
   "execution_count": 647,
   "id": "46bef42c",
   "metadata": {},
   "outputs": [
    {
     "data": {
      "image/png": "[encoded data removed]",
      "text/plain": [
       "<Figure size 600x400 with 1 Axes>"
      ]
     },
     "metadata": {},
     "output_type": "display_data"
    }
   ],
   "source": [
    "plt.figure(figsize=(6, 4))\n",
    "\n",
    "plt.plot(tree, rmse_val_mcw1, color='black', linestyle='solid', label='min_child_weight=1')\n",
    "plt.plot(tree, rmse_val_mcw3, color='grey', linestyle='solid', label='min_child_weight=3')\n",
    "plt.plot(tree, rmse_val_mcw6, color='grey', linestyle='dashed', label='min_child_weight=6')\n",
    "plt.plot(tree, rmse_val_mcw5, color='black', linestyle='dashed', label='min_child_weight=5')\n",
    "\n",
    "plt.ylim(6.5, 7.5)\n",
    "plt.xlim(0, 5001)\n",
    "plt.xticks(range(0, 5001, 500))\n",
    "\n",
    "plt.legend()\n",
    "\n",
    "plt.title('The effect of min_child_weight on model performance')\n",
    "plt.xlabel('Number of trees')\n",
    "plt.ylabel('RMSE (validation)')\n",
    "\n",
    "plt.show()"
   ]
  },
  {
   "cell_type": "markdown",
   "id": "076c1be9",
   "metadata": {},
   "source": [
    "## Final Gradient Boost Model"
   ]
  },
  {
   "cell_type": "code",
   "execution_count": 34,
   "id": "b13301d2",
   "metadata": {},
   "outputs": [],
   "source": [
    "%%capture output\n",
    "\n",
    "xgb_params = {\n",
    "    'eta': 0.01,\n",
    "    'max_depth': 6,\n",
    "    'min_child_weight': 1,\n",
    "    \n",
    "    'objective': 'reg:squarederror',\n",
    "    'nthread': 8,\n",
    "    \n",
    "    'seed': 1,\n",
    "    'verbosity': 1,  \n",
    "}\n",
    "\n",
    "gb = xgb.train(xgb_params, dtrain, num_boost_round=10000, verbose_eval = 1, evals = watchlist)"
   ]
  },
  {
   "cell_type": "code",
   "execution_count": 35,
   "id": "8b441d44",
   "metadata": {},
   "outputs": [
    {
     "name": "stderr",
     "output_type": "stream",
     "text": [
      "/Users/riley/opt/anaconda3/lib/python3.9/site-packages/xgboost/core.py:160: UserWarning: [12:40:08] WARNING: /Users/runner/work/xgboost/xgboost/src/c_api/c_api.cc:1240: Saving into deprecated binary model format, please consider using `json` or `ubj`. Model format will default to JSON in XGBoost 2.2 if not specified.\n",
      "  warnings.warn(smsg, UserWarning)\n"
     ]
    }
   ],
   "source": [
    "gb.save_model('model1')"
   ]
  },
  {
   "cell_type": "code",
   "execution_count": 690,
   "id": "1c1f19b3",
   "metadata": {},
   "outputs": [],
   "source": [
    "y_val_pred_gb = gb.predict(dval)\n",
    "y_test_pred_gb = gb.predict(dtest)"
   ]
  },
  {
   "cell_type": "code",
   "execution_count": 691,
   "id": "c7e49f7b",
   "metadata": {},
   "outputs": [
    {
     "name": "stdout",
     "output_type": "stream",
     "text": [
      "Gradient Boosting: \n",
      " rmse = 6.744598740205384 \n",
      " mae =  4.534530933925084\n",
      "Gradient Boosting: \n",
      " 5 Largest Residuals \n",
      " Name_GP\n",
      "Jared McCann_11        27.925919\n",
      "Connor McDavid_13      27.681320\n",
      "Jordan Greenway_1      27.204491\n",
      "Robby Fabbri_13        27.106129\n",
      "Carter Verhaeghe_13    25.577271\n",
      "Name: Pend, dtype: float64\n"
     ]
    }
   ],
   "source": [
    "print('Gradient Boosting:', '\\n rmse =', rmse(y_val, y_val_pred_gb), '\\n mae = ', mae(y_val, y_val_pred_gb))\n",
    "print('Gradient Boosting:', '\\n 5 Largest Residuals \\n', maxdif(y_test, y_test_pred_gb))"
   ]
  },
  {
   "cell_type": "markdown",
   "id": "78bf3597",
   "metadata": {},
   "source": [
    "### Comparison to all previous models:"
   ]
  },
  {
   "cell_type": "code",
   "execution_count": 692,
   "id": "dc88e553",
   "metadata": {
    "scrolled": true
   },
   "outputs": [
    {
     "name": "stdout",
     "output_type": "stream",
     "text": [
      "Simple Model: \n",
      " rmse = 12.74979458344329 \n",
      " mae =  8.459039999999991\n",
      "Linear Regression: \n",
      " rmse = 7.888248219171965 \n",
      " mae =  5.796840050053834\n",
      "Random Forest: \n",
      " rmse = 6.760429713877552 \n",
      " mae =  4.629697431231239\n",
      "Gradient Boosting: \n",
      " rmse = 6.520630288468742 \n",
      " mae =  4.440309012276786\n"
     ]
    }
   ],
   "source": [
    "print('Simple Model:', '\\n rmse =', rmse(y_test, y_test_simp), '\\n mae = ', mae(y_test, y_test_simp))\n",
    "print('Linear Regression:', '\\n rmse =', rmse(y_test, y_test_pred), '\\n mae = ', mae(y_test, y_test_pred))\n",
    "print('Random Forest:', '\\n rmse =', rmse(y_test, y_test_pred_rf), '\\n mae = ', mae(y_test, y_test_pred_rf))\n",
    "print('Gradient Boosting:', '\\n rmse =', rmse(y_test, y_test_pred_gb), '\\n mae = ', mae(y_test, y_test_pred_gb))"
   ]
  },
  {
   "cell_type": "code",
   "execution_count": 693,
   "id": "0db15874",
   "metadata": {},
   "outputs": [],
   "source": [
    "d1month = xgb.DMatrix(X_1month, label=y_1month, feature_names=list(df_train.columns))\n",
    "y_1month_pred_gb = gb.predict(d1month)"
   ]
  },
  {
   "cell_type": "code",
   "execution_count": 694,
   "id": "be164a83",
   "metadata": {},
   "outputs": [
    {
     "name": "stdout",
     "output_type": "stream",
     "text": [
      "Linear Regression: \n",
      " rmse = 11.452405387658153 \n",
      " mae =  8.654972088659294\n",
      "Random Forest: \n",
      " rmse = 10.738282561631896 \n",
      " mae =  7.870281719450968\n",
      "Random Forest: \n",
      " rmse = 10.738282561631896 \n",
      " mae =  7.870281719450968\n",
      "Gradient Boosting: \n",
      " rmse = 10.152375259951365 \n",
      " mae =  7.410340933706246\n"
     ]
    }
   ],
   "source": [
    "print('Linear Regression:', '\\n rmse =', rmse(y_1month, y_1month_pred), '\\n mae = ', mae(y_1month, y_1month_pred))\n",
    "print('Random Forest:', '\\n rmse =', rmse(y_1month, y_1month_pred_rf), '\\n mae = ', mae(y_1month, y_1month_pred_rf))\n",
    "print('Random Forest:', '\\n rmse =', rmse(y_1month, y_1month_pred_rf), '\\n mae = ', mae(y_1month, y_1month_pred_rf))\n",
    "print('Gradient Boosting:', '\\n rmse =', rmse(y_1month, y_1month_pred_gb), '\\n mae = ', mae(y_1month, y_1month_pred_gb))"
   ]
  },
  {
   "cell_type": "markdown",
   "id": "835074d1",
   "metadata": {},
   "source": [
    "## Investigating gradient boost model"
   ]
  },
  {
   "cell_type": "code",
   "execution_count": 683,
   "id": "a309bd12",
   "metadata": {},
   "outputs": [
    {
     "data": {
      "text/plain": [
       "[('P/GP', 5392.1142578125),\n",
       " ('PPA', 294.6878662109375),\n",
       " ('PP', 158.92091369628906),\n",
       " ('PPP', 135.18714904785156),\n",
       " ('P', 105.9485092163086),\n",
       " ('TOI', 62.361785888671875),\n",
       " ('SHOTS', 54.06369400024414),\n",
       " ('PPP%', 48.56553649902344),\n",
       " ('GWP', 46.08100128173828),\n",
       " ('GWA', 42.155601501464844),\n",
       " ('ESG', 39.96381759643555),\n",
       " ('FOL', 38.5832633972168),\n",
       " ('A/60', 38.27329635620117),\n",
       " ('FO%', 36.86013412475586),\n",
       " ('SHG', 34.827030181884766),\n",
       " ('PPP/60', 31.288352966308594),\n",
       " ('PPA/60', 29.91207504272461),\n",
       " ('PPG/60', 29.90788459777832),\n",
       " ('ES', 29.094818115234375),\n",
       " ('OTG', 28.811786651611328),\n",
       " ('PPG', 27.631406784057617),\n",
       " ('SHP', 26.227025985717773),\n",
       " ('ESA', 24.414573669433594),\n",
       " ('FOW', 24.075525283813477),\n",
       " ('ESP', 23.60276222229004),\n",
       " ('G/GP', 23.299623489379883),\n",
       " ('OTA', 22.515684127807617),\n",
       " ('P/60', 21.235294342041016),\n",
       " ('SH', 20.72019386291504),\n",
       " ('A/GP', 19.805612564086914),\n",
       " ('SH%', 19.43706512451172),\n",
       " ('HITS', 19.358549118041992),\n",
       " ('BS', 18.5933780670166),\n",
       " ('ESP/60', 18.21526336669922),\n",
       " ('GWG', 15.418902397155762),\n",
       " ('OTP', 13.33900260925293),\n",
       " ('G', 12.755480766296387),\n",
       " ('A', 12.229907989501953),\n",
       " ('ESG/60', 11.919090270996094),\n",
       " ('SHA', 10.413990020751953),\n",
       " ('ESA/60', 10.266352653503418),\n",
       " ('Pos', 9.991813659667969),\n",
       " ('G/60', 9.659162521362305),\n",
       " ('+/-', 9.600247383117676),\n",
       " ('PIM', 8.751177787780762),\n",
       " ('Age', 7.926865100860596),\n",
       " ('GP', 6.592706680297852)]"
      ]
     },
     "execution_count": 683,
     "metadata": {},
     "output_type": "execute_result"
    }
   ],
   "source": [
    "scores = gb.get_score(importance_type='gain')\n",
    "scores = sorted(scores.items(), key=lambda x: x[1])\n",
    "list(reversed(scores))"
   ]
  },
  {
   "cell_type": "code",
   "execution_count": 684,
   "id": "98f6c906",
   "metadata": {},
   "outputs": [],
   "source": [
    "names = [n for (n, s) in scores]\n",
    "scores = [s for (n, s) in scores]"
   ]
  },
  {
   "cell_type": "code",
   "execution_count": 685,
   "id": "11b30bdf",
   "metadata": {},
   "outputs": [
    {
     "data": {
      "image/png": "[encoded data removed]",
      "text/plain": [
       "<Figure size 600x800 with 1 Axes>"
      ]
     },
     "metadata": {},
     "output_type": "display_data"
    }
   ],
   "source": [
    "plt.figure(figsize=(6, 8))\n",
    "\n",
    "plt.barh(np.arange(len(scores)), scores)\n",
    "plt.yticks(np.arange(len(names)), names)\n",
    "\n",
    "plt.show()"
   ]
  },
  {
   "cell_type": "markdown",
   "id": "78243419",
   "metadata": {},
   "source": [
    "# Neural Network"
   ]
  },
  {
   "cell_type": "code",
   "execution_count": 715,
   "id": "3a255515",
   "metadata": {},
   "outputs": [],
   "source": [
    "def multiplier(m):\n",
    "    return lambda a: a*m"
   ]
  },
  {
   "cell_type": "code",
   "execution_count": 716,
   "id": "bd68efaf",
   "metadata": {},
   "outputs": [],
   "source": [
    "doubler = multiplier(2)"
   ]
  },
  {
   "cell_type": "code",
   "execution_count": 717,
   "id": "bbfcfc13",
   "metadata": {},
   "outputs": [
    {
     "data": {
      "text/plain": [
       "4"
      ]
     },
     "execution_count": 717,
     "metadata": {},
     "output_type": "execute_result"
    }
   ],
   "source": [
    "doubler(2)"
   ]
  },
  {
   "cell_type": "code",
   "execution_count": 720,
   "id": "d9d6253a",
   "metadata": {},
   "outputs": [],
   "source": [
    "array = np.random.rand(5, 1)"
   ]
  },
  {
   "cell_type": "code",
   "execution_count": 721,
   "id": "09ab5ff2",
   "metadata": {},
   "outputs": [
    {
     "data": {
      "text/plain": [
       "array([[0.54071993],\n",
       "       [0.24001689],\n",
       "       [0.06484607],\n",
       "       [0.56212869],\n",
       "       [0.34025901]])"
      ]
     },
     "execution_count": 721,
     "metadata": {},
     "output_type": "execute_result"
    }
   ],
   "source": [
    "array"
   ]
  },
  {
   "cell_type": "code",
   "execution_count": null,
   "id": "52f3bafe",
   "metadata": {},
   "outputs": [],
   "source": []
  }
 ],
 "metadata": {
  "kernelspec": {
   "display_name": "Python 3 (ipykernel)",
   "language": "python",
   "name": "python3"
  },
  "language_info": {
   "codemirror_mode": {
    "name": "ipython",
    "version": 3
   },
   "file_extension": ".py",
   "mimetype": "text/x-python",
   "name": "python",
   "nbconvert_exporter": "python",
   "pygments_lexer": "ipython3",
   "version": "3.9.13"
  }
 },
 "nbformat": 4,
 "nbformat_minor": 5
}
